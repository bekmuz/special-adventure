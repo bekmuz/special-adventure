{
 "cells": [
  {
   "cell_type": "markdown",
   "metadata": {},
   "source": [
    "<h1><center>EGADE - AD5156.70. Aplicaciones de analítica de datos a los negocios II </center></h1>\n",
    "<h1><center>Sesión 1:  Miércoles 27 de julio de 2022 </center></h1>\n",
    "<h1><center>Tema: Tuplas, Conjuntos, Pandas, Introducción a Machine Learning y Regresión Lineal </center></h1>\n",
    "<h1><center>dlopez.aguayo@tec.mx</center></h1>"
   ]
  },
  {
   "cell_type": "markdown",
   "metadata": {},
   "source": [
    "# Tuplas"
   ]
  },
  {
   "cell_type": "markdown",
   "metadata": {},
   "source": [
    "- Formalmente, una tupla es un objeto que contiene un conjunto ordenado de elementos (de distinto tipo o no) pero inmutable. ¿Qué quiere decir esto? que no podemos modificar los elementos de una tupla -mientras que en una lista sí.\n",
    "- La manera de denotar tuplas en Python es a través de paréntesis, a diferencia de las listas - donde usamos corchetes.\n",
    "\n",
    "En general, las tuplas las ocupamos cuando los contenidos de los datos no van a cambiar. Podemos pensar en atributos fijos; también, las operaciones en tuplas son mucho más rápidas que en otras estructuras -como las listas. "
   ]
  },
  {
   "cell_type": "code",
   "execution_count": 1,
   "metadata": {},
   "outputs": [],
   "source": [
    "ejemplo_tupla=('hola',1, '1', ['Casa','greeks'])"
   ]
  },
  {
   "cell_type": "markdown",
   "metadata": {},
   "source": [
    "Al igual que las listas, podemos obtener los elementos usando la siguiente notación tupla[índice]. Por ejemplo:"
   ]
  },
  {
   "cell_type": "code",
   "execution_count": 2,
   "metadata": {},
   "outputs": [
    {
     "data": {
      "text/plain": [
       "'hola'"
      ]
     },
     "execution_count": 2,
     "metadata": {},
     "output_type": "execute_result"
    }
   ],
   "source": [
    "ejemplo_tupla[0]"
   ]
  },
  {
   "cell_type": "code",
   "execution_count": 3,
   "metadata": {},
   "outputs": [],
   "source": [
    "#¿Cómo obtenemos la palabra greeks?"
   ]
  },
  {
   "cell_type": "code",
   "execution_count": 4,
   "metadata": {},
   "outputs": [],
   "source": [
    "#Solución 1: ejemplo_tupla[3][1]\n",
    "#Solución 2: ejemplo_tupla[-1][-1]"
   ]
  },
  {
   "cell_type": "markdown",
   "metadata": {},
   "source": [
    "Sin embargo, la distinción clara es al intentar modificar la lista:"
   ]
  },
  {
   "cell_type": "code",
   "execution_count": 5,
   "metadata": {},
   "outputs": [],
   "source": [
    "#ejemplo_tupla[0]='sql'"
   ]
  },
  {
   "cell_type": "code",
   "execution_count": 6,
   "metadata": {},
   "outputs": [
    {
     "data": {
      "text/plain": [
       "tuple"
      ]
     },
     "execution_count": 6,
     "metadata": {},
     "output_type": "execute_result"
    }
   ],
   "source": [
    "type(ejemplo_tupla)"
   ]
  },
  {
   "cell_type": "markdown",
   "metadata": {},
   "source": [
    "Las funciones que vimos en listas aplican en tuplas, por ejemplo:"
   ]
  },
  {
   "cell_type": "code",
   "execution_count": 7,
   "metadata": {},
   "outputs": [
    {
     "data": {
      "text/plain": [
       "4"
      ]
     },
     "execution_count": 7,
     "metadata": {},
     "output_type": "execute_result"
    }
   ],
   "source": [
    "len(ejemplo_tupla)"
   ]
  },
  {
   "cell_type": "markdown",
   "metadata": {},
   "source": [
    "# Método count ()\n",
    "La idea de count es muy simple: regresa el número de veces que aparece el argumento dado. Dicho método también aplica para listas."
   ]
  },
  {
   "cell_type": "code",
   "execution_count": 8,
   "metadata": {},
   "outputs": [
    {
     "data": {
      "text/plain": [
       "4"
      ]
     },
     "execution_count": 8,
     "metadata": {},
     "output_type": "execute_result"
    }
   ],
   "source": [
    "tupla=(9,8,8,8,8,11,11)\n",
    "tupla.count(8)"
   ]
  },
  {
   "cell_type": "markdown",
   "metadata": {},
   "source": [
    "Podemos convertir la tupla a una lista o viceversa, haciendo lo siguiente:"
   ]
  },
  {
   "cell_type": "code",
   "execution_count": 9,
   "metadata": {},
   "outputs": [],
   "source": [
    "lista_tupla=list(tupla)"
   ]
  },
  {
   "cell_type": "code",
   "execution_count": 10,
   "metadata": {},
   "outputs": [
    {
     "data": {
      "text/plain": [
       "[9, 8, 8, 8, 8, 11, 11]"
      ]
     },
     "execution_count": 10,
     "metadata": {},
     "output_type": "execute_result"
    }
   ],
   "source": [
    "lista_tupla"
   ]
  },
  {
   "cell_type": "markdown",
   "metadata": {},
   "source": [
    "Otra manera de crear tuplas, sin necesidad de usar paréntesis, es separar los elementos por comas:"
   ]
  },
  {
   "cell_type": "code",
   "execution_count": 11,
   "metadata": {},
   "outputs": [
    {
     "data": {
      "text/plain": [
       "(9, 8, 8, 8, 8, 11, 11)"
      ]
     },
     "execution_count": 11,
     "metadata": {},
     "output_type": "execute_result"
    }
   ],
   "source": [
    "tupla_2 = 9, 8, 8, 8, 8, 11, 11 #Muy común entre devs\n",
    "tupla_2"
   ]
  },
  {
   "cell_type": "markdown",
   "metadata": {},
   "source": [
    "# Conjuntos"
   ]
  },
  {
   "cell_type": "markdown",
   "metadata": {},
   "source": [
    "Un conjunto en Python se denota mediante {}. Las diferencias entre una lista/tupla y un conjunto son las siguientes:\n",
    " - Un conjunto no permite repeticiones de elementos.\n",
    " - Un conjunto no tiene un orden asignado.\n",
    " \n",
    "Podemos crear una lista mediante llaves sinópticas (curly braces), {}."
   ]
  },
  {
   "cell_type": "code",
   "execution_count": 12,
   "metadata": {},
   "outputs": [
    {
     "data": {
      "text/plain": [
       "{1, 2, 3, 4, 'a', 'nada'}"
      ]
     },
     "execution_count": 12,
     "metadata": {},
     "output_type": "execute_result"
    }
   ],
   "source": [
    "esto_es_un_conjunto={'a',1,2,3,4,'nada'}\n",
    "esto_es_un_conjunto"
   ]
  },
  {
   "cell_type": "code",
   "execution_count": 13,
   "metadata": {},
   "outputs": [
    {
     "data": {
      "text/plain": [
       "set"
      ]
     },
     "execution_count": 13,
     "metadata": {},
     "output_type": "execute_result"
    }
   ],
   "source": [
    "type(esto_es_un_conjunto)"
   ]
  },
  {
   "cell_type": "code",
   "execution_count": 14,
   "metadata": {},
   "outputs": [
    {
     "data": {
      "text/plain": [
       "(9, 8, 8, 8, 8, 11, 11)"
      ]
     },
     "execution_count": 14,
     "metadata": {},
     "output_type": "execute_result"
    }
   ],
   "source": [
    "tupla_2"
   ]
  },
  {
   "cell_type": "code",
   "execution_count": 15,
   "metadata": {},
   "outputs": [],
   "source": [
    "set_tupla2=set(tupla_2) #con esto, convertimos la tupla a conjunto"
   ]
  },
  {
   "cell_type": "code",
   "execution_count": 16,
   "metadata": {},
   "outputs": [
    {
     "data": {
      "text/plain": [
       "{8, 9, 11}"
      ]
     },
     "execution_count": 16,
     "metadata": {},
     "output_type": "execute_result"
    }
   ],
   "source": [
    "set_tupla2"
   ]
  },
  {
   "cell_type": "code",
   "execution_count": 17,
   "metadata": {},
   "outputs": [],
   "source": [
    "conjunto_1={1,1,5,7,8}"
   ]
  },
  {
   "cell_type": "code",
   "execution_count": 18,
   "metadata": {},
   "outputs": [
    {
     "data": {
      "text/plain": [
       "{1, 5, 7, 8}"
      ]
     },
     "execution_count": 18,
     "metadata": {},
     "output_type": "execute_result"
    }
   ],
   "source": [
    "conjunto_1"
   ]
  },
  {
   "cell_type": "code",
   "execution_count": 19,
   "metadata": {},
   "outputs": [
    {
     "data": {
      "text/plain": [
       "set"
      ]
     },
     "execution_count": 19,
     "metadata": {},
     "output_type": "execute_result"
    }
   ],
   "source": [
    "type(conjunto_1)"
   ]
  },
  {
   "cell_type": "code",
   "execution_count": 20,
   "metadata": {},
   "outputs": [
    {
     "data": {
      "text/plain": [
       "4"
      ]
     },
     "execution_count": 20,
     "metadata": {},
     "output_type": "execute_result"
    }
   ],
   "source": [
    "len(conjunto_1)"
   ]
  },
  {
   "cell_type": "code",
   "execution_count": 21,
   "metadata": {},
   "outputs": [],
   "source": [
    "#set_tupla2[0]"
   ]
  },
  {
   "cell_type": "markdown",
   "metadata": {},
   "source": [
    "# Observación\n",
    "Es importante recordar lo que mencionamos al inicio: en un conjunto no existe un orden asignado, por lo que no podemos usar corchetes para llamar a los \n",
    "elementos de acuerdo a su posición; esto es justamente lo que nos indica el error de arriba."
   ]
  },
  {
   "cell_type": "markdown",
   "metadata": {},
   "source": [
    "### La unión de dos conjuntos \n",
    "\n",
    "Dados dos conjuntos A y B, la unión de A y B es el conjunto que contiene a todos los elementos que están en A o en B o en ambos. "
   ]
  },
  {
   "cell_type": "markdown",
   "metadata": {},
   "source": [
    "La sintaxis es la siguiente: dados A y B, la unión de A y B se calcula mediante el siguiente comando"
   ]
  },
  {
   "cell_type": "markdown",
   "metadata": {},
   "source": [
    "A.union(B) "
   ]
  },
  {
   "cell_type": "markdown",
   "metadata": {},
   "source": [
    "Es importante comentar que el orden no es relevante. Veamos un ejemplo"
   ]
  },
  {
   "cell_type": "code",
   "execution_count": 22,
   "metadata": {},
   "outputs": [],
   "source": [
    "A={1,5,7,8,8} # 1,5,7,8.\n",
    "B={8,3,4} #8,3,4."
   ]
  },
  {
   "cell_type": "code",
   "execution_count": 23,
   "metadata": {},
   "outputs": [
    {
     "data": {
      "text/plain": [
       "{1, 3, 4, 5, 7, 8}"
      ]
     },
     "execution_count": 23,
     "metadata": {},
     "output_type": "execute_result"
    }
   ],
   "source": [
    "A.union(B)"
   ]
  },
  {
   "cell_type": "code",
   "execution_count": 24,
   "metadata": {},
   "outputs": [
    {
     "data": {
      "text/plain": [
       "{1, 3, 4, 5, 7, 8}"
      ]
     },
     "execution_count": 24,
     "metadata": {},
     "output_type": "execute_result"
    }
   ],
   "source": [
    "B.union(A)"
   ]
  },
  {
   "cell_type": "markdown",
   "metadata": {},
   "source": [
    "Si es necesario, podemos convertir un conjunto a una lista:"
   ]
  },
  {
   "cell_type": "code",
   "execution_count": 25,
   "metadata": {},
   "outputs": [
    {
     "data": {
      "text/plain": [
       "[8, 1, 5, 7]"
      ]
     },
     "execution_count": 25,
     "metadata": {},
     "output_type": "execute_result"
    }
   ],
   "source": [
    "lista_A=list(A)\n",
    "lista_A"
   ]
  },
  {
   "cell_type": "markdown",
   "metadata": {},
   "source": [
    "### La intersección de dos conjuntos \n",
    "\n",
    "Dados dos conjuntos A y B, la intersección de A y B es el conjunto de elementos que tienen en común A y B.\n",
    "- La sintaxis es A.intersection(B).\n",
    "- Al igual que la unión, el orden es irrelevante."
   ]
  },
  {
   "cell_type": "code",
   "execution_count": 26,
   "metadata": {},
   "outputs": [],
   "source": [
    "C={1,3,5,False,'M'}\n",
    "D={'M',3,7,12,'Cero',False}"
   ]
  },
  {
   "cell_type": "code",
   "execution_count": 27,
   "metadata": {},
   "outputs": [
    {
     "data": {
      "text/plain": [
       "{3, False, 'M'}"
      ]
     },
     "execution_count": 27,
     "metadata": {},
     "output_type": "execute_result"
    }
   ],
   "source": [
    "C.intersection(D)"
   ]
  },
  {
   "cell_type": "markdown",
   "metadata": {},
   "source": [
    "## Ejercicio 2"
   ]
  },
  {
   "cell_type": "markdown",
   "metadata": {},
   "source": [
    "¿Cuál es la intersección de los siguientes conjuntos?"
   ]
  },
  {
   "cell_type": "code",
   "execution_count": 28,
   "metadata": {},
   "outputs": [],
   "source": [
    "N={1,1,11,'cero','nada'}\n",
    "M={'1',0,0}"
   ]
  },
  {
   "cell_type": "code",
   "execution_count": 29,
   "metadata": {},
   "outputs": [
    {
     "data": {
      "text/plain": [
       "set()"
      ]
     },
     "execution_count": 29,
     "metadata": {},
     "output_type": "execute_result"
    }
   ],
   "source": [
    "N.intersection(M) #set() denota a lo que se conoce como el conjunto vacío, que es el conjunto que no tiene elementos. Lo podemos pensar\n",
    "#analogía con las listas vacías, las listas vacías se denotan por []. En este caso, se dice que los conjuntos son mutuamente excluyentes."
   ]
  },
  {
   "cell_type": "markdown",
   "metadata": {},
   "source": [
    "Un ejemplo donde solemos usar la intersección es calcular los activos que tienen en común dos fondos dados."
   ]
  },
  {
   "cell_type": "markdown",
   "metadata": {},
   "source": [
    "# Ejercicio 3\n",
    "\n",
    "Esta es una pregunta similar a las que aparecen en entrevistas. Supongamos que tenemos la siguiente lista:\n",
    "\n"
   ]
  },
  {
   "cell_type": "code",
   "execution_count": 30,
   "metadata": {},
   "outputs": [],
   "source": [
    "stocks=['TSLA', 'TSLA', 'TSLA', 'TSLA', 'TSLA', 'TSLA', 'TSLA', 'TSLA', 'TSLA', 'TSLA', 'AMZN', 'AMZN', 'AMZN', 'AMZN', 'AMZN', 'AMZN', 'AMZN', 'AMZN', 'AMZN']"
   ]
  },
  {
   "cell_type": "code",
   "execution_count": 31,
   "metadata": {},
   "outputs": [
    {
     "name": "stdout",
     "output_type": "stream",
     "text": [
      "['TSLA', 'TSLA', 'TSLA', 'TSLA', 'TSLA', 'TSLA', 'TSLA', 'TSLA', 'TSLA', 'TSLA', 'AMZN', 'AMZN', 'AMZN', 'AMZN', 'AMZN', 'AMZN', 'AMZN', 'AMZN', 'AMZN']\n"
     ]
    }
   ],
   "source": [
    "print(stocks)"
   ]
  },
  {
   "cell_type": "markdown",
   "metadata": {},
   "source": [
    "Instrucción: regresar una lista que que contenga solamente las acciones distintas."
   ]
  },
  {
   "cell_type": "markdown",
   "metadata": {},
   "source": [
    "## Ejercicio 4\n",
    "\n",
    "Se tiene una lista grabada en una variable llamada huge_list. \n",
    "\n",
    "¿Cómo podemos saber si dicha lista contiene elementos repetidos? Hacerlo visualmente no es una opción viable ya que dicha lista podría contener miles de elementos. \n",
    "\n",
    "Por ejemplo, en la práctica queremos saber si una lista de identificadores de mercado de un cierto ETF o fondo no está repetido."
   ]
  },
  {
   "cell_type": "code",
   "execution_count": 32,
   "metadata": {},
   "outputs": [],
   "source": [
    "x=[1,2,3,4,4,4]"
   ]
  },
  {
   "cell_type": "code",
   "execution_count": 33,
   "metadata": {},
   "outputs": [],
   "source": [
    "#Idea:\n",
    "#1. Primero convertimos lo que me den (es huge_list) a conjunto.\n",
    "#2. Calculamos la longitud del conjunto anterior.\n",
    "#3. Si esta longitud coincide con la longitud del arreglo inicial, entonces no había duplicados.\n",
    "\n",
    "#len(set(huge_list)) == len(huge_list) #si es True es porque no tiene duplicados; False es que sí tiene."
   ]
  },
  {
   "cell_type": "code",
   "execution_count": 34,
   "metadata": {},
   "outputs": [
    {
     "data": {
      "text/plain": [
       "False"
      ]
     },
     "execution_count": 34,
     "metadata": {},
     "output_type": "execute_result"
    }
   ],
   "source": [
    "len(set(x)) == len(x)"
   ]
  },
  {
   "cell_type": "markdown",
   "metadata": {},
   "source": [
    "## La diferencia de dos conjuntos"
   ]
  },
  {
   "cell_type": "markdown",
   "metadata": {},
   "source": [
    "Dados dos conjuntos A y B, la diferencia de A y B, denotada por A-B se define como el conjunto de todos\n",
    "los elementos que está en A pero que no están en B.\n",
    "\n",
    "- La sintaxis es A.difference(B).\n",
    "- El orden si es importante."
   ]
  },
  {
   "cell_type": "code",
   "execution_count": 35,
   "metadata": {},
   "outputs": [],
   "source": [
    "A={1,28,20,25}\n",
    "B={20,4,5}"
   ]
  },
  {
   "cell_type": "code",
   "execution_count": 36,
   "metadata": {},
   "outputs": [
    {
     "data": {
      "text/plain": [
       "{1, 25, 28}"
      ]
     },
     "execution_count": 36,
     "metadata": {},
     "output_type": "execute_result"
    }
   ],
   "source": [
    "A.difference(B)"
   ]
  },
  {
   "cell_type": "markdown",
   "metadata": {},
   "source": [
    "La salida es {1,25,28} por la siguiente razón: los elementos de A son 1,28,20,25; de estos, el 1,25 y 28 NO están en B, el 20 si está."
   ]
  },
  {
   "cell_type": "code",
   "execution_count": 37,
   "metadata": {},
   "outputs": [
    {
     "data": {
      "text/plain": [
       "{4, 5}"
      ]
     },
     "execution_count": 37,
     "metadata": {},
     "output_type": "execute_result"
    }
   ],
   "source": [
    "B.difference(A)"
   ]
  },
  {
   "cell_type": "markdown",
   "metadata": {},
   "source": [
    "Del ejemplo anterior podemos apreciar que el orden es relevante.\n",
    "\n",
    "En el contexto financiero podemos pensar en rebalanceo mensual: queremos saber todos los activos que estaban en el mes anterior A pero que fueron excluidos en el siguiente mes B"
   ]
  },
  {
   "cell_type": "markdown",
   "metadata": {},
   "source": [
    "## Ejercicio 5"
   ]
  },
  {
   "cell_type": "markdown",
   "metadata": {},
   "source": [
    "Supongamos que tenemos la siguiente lista"
   ]
  },
  {
   "cell_type": "code",
   "execution_count": 38,
   "metadata": {},
   "outputs": [],
   "source": [
    "ej_5=[45, 46, 47, 48, 49, 50, 51, 52, 53, 54, 55, 56, 57, 58, 59, 60, 61, 62, 63, 64, 65, 66, 67, 68, 69, 70, 71, 72, 73, 74, 75, 76, 77, 78, 79, 80, 81, 82, 82,82,83, 84, 85, 86, 87, 88, 89, 90, 91, 92, 93, 94, 95, 96, 97, 98, 99, 100]\n"
   ]
  },
  {
   "cell_type": "markdown",
   "metadata": {},
   "source": [
    "Pregunta 1. ¿Contiene repetidos?\n",
    "\n",
    "Pregunta 2. ¿Cuáles elementos se repiten? se puede resolver usando librerías o ciclos, lo veremos más adelante pero abajo una introducción."
   ]
  },
  {
   "cell_type": "code",
   "execution_count": 39,
   "metadata": {},
   "outputs": [
    {
     "name": "stdout",
     "output_type": "stream",
     "text": [
      "Counter({82: 3, 45: 1, 46: 1, 47: 1, 48: 1, 49: 1, 50: 1, 51: 1, 52: 1, 53: 1, 54: 1, 55: 1, 56: 1, 57: 1, 58: 1, 59: 1, 60: 1, 61: 1, 62: 1, 63: 1, 64: 1, 65: 1, 66: 1, 67: 1, 68: 1, 69: 1, 70: 1, 71: 1, 72: 1, 73: 1, 74: 1, 75: 1, 76: 1, 77: 1, 78: 1, 79: 1, 80: 1, 81: 1, 83: 1, 84: 1, 85: 1, 86: 1, 87: 1, 88: 1, 89: 1, 90: 1, 91: 1, 92: 1, 93: 1, 94: 1, 95: 1, 96: 1, 97: 1, 98: 1, 99: 1, 100: 1})\n"
     ]
    }
   ],
   "source": [
    "from collections import Counter\n",
    "print(Counter(ej_5))"
   ]
  },
  {
   "cell_type": "markdown",
   "metadata": {},
   "source": [
    "# Diccionarios\n",
    "\n",
    "\n",
    "Un diccionario es similar a una lista pero es una idea mucho más general y podersosa. \n",
    "\n",
    "En una lista las posiciones corresponden a números enteros positivos mientras que en un diccionario los índices no necesariamente son enteros.\n",
    "\n",
    "Las componentes principales de un diccionario son las llaves y valores (key and values). \n",
    "\n",
    "Un diccionario lo podemos pensar como una asociación donde a cada llave le corresponde un valor."
   ]
  },
  {
   "cell_type": "markdown",
   "metadata": {},
   "source": [
    "\n",
    "Por ejemplo, podemos pensar en almacenar un objeto que contenga una lista de clientes (llamada clientes_tel) y su correspondiente número telefónico.\n",
    "\n",
    "1. Primero creamos un diccionario vacío, esto se hace mediante el uso de dict().\n"
   ]
  },
  {
   "cell_type": "code",
   "execution_count": 3,
   "metadata": {},
   "outputs": [],
   "source": [
    "clientes_tel=dict()"
   ]
  },
  {
   "cell_type": "markdown",
   "metadata": {},
   "source": [
    "2. Las llaves vacías {} representan un diccionario vacío (similar a [ ] en el contexto de listas)."
   ]
  },
  {
   "cell_type": "code",
   "execution_count": 8,
   "metadata": {},
   "outputs": [
    {
     "data": {
      "text/plain": [
       "{}"
      ]
     },
     "execution_count": 8,
     "metadata": {},
     "output_type": "execute_result"
    }
   ],
   "source": [
    "clientes_tel"
   ]
  },
  {
   "cell_type": "markdown",
   "metadata": {},
   "source": [
    "3. Para agregar elementos a un diccionario hacemos uso de la siguiente sintaxis. nombre_diccionario[llave] = valor"
   ]
  },
  {
   "cell_type": "code",
   "execution_count": 10,
   "metadata": {},
   "outputs": [],
   "source": [
    "clientes_tel['cliente_1']='123-456-789' #Podemos también pasar una lista o tupla, etc."
   ]
  },
  {
   "cell_type": "code",
   "execution_count": 11,
   "metadata": {},
   "outputs": [
    {
     "data": {
      "text/plain": [
       "{'cliente_1': '123-456-789'}"
      ]
     },
     "execution_count": 11,
     "metadata": {},
     "output_type": "execute_result"
    }
   ],
   "source": [
    "clientes_tel"
   ]
  },
  {
   "cell_type": "markdown",
   "metadata": {},
   "source": [
    "4. Es importante notar que los diccionarios no permiten repeticiones de las llaves. Por ejemplo:"
   ]
  },
  {
   "cell_type": "code",
   "execution_count": 13,
   "metadata": {},
   "outputs": [],
   "source": [
    "clientes_tel['cliente_1']='123-000-000'"
   ]
  },
  {
   "cell_type": "code",
   "execution_count": 14,
   "metadata": {},
   "outputs": [
    {
     "data": {
      "text/plain": [
       "{'cliente_1': '123-000-000'}"
      ]
     },
     "execution_count": 14,
     "metadata": {},
     "output_type": "execute_result"
    }
   ],
   "source": [
    "clientes_tel"
   ]
  },
  {
   "cell_type": "markdown",
   "metadata": {},
   "source": [
    "Ahora el cliente_1 tiene el último elemento asignado."
   ]
  },
  {
   "cell_type": "code",
   "execution_count": 15,
   "metadata": {},
   "outputs": [
    {
     "ename": "SyntaxError",
     "evalue": "invalid syntax (<ipython-input-15-490a29b6bafe>, line 1)",
     "output_type": "error",
     "traceback": [
      "\u001b[0;36m  File \u001b[0;32m\"<ipython-input-15-490a29b6bafe>\"\u001b[0;36m, line \u001b[0;32m1\u001b[0m\n\u001b[0;31m    5. Podemos agregar varios de la siguiente forma:\u001b[0m\n\u001b[0m             ^\u001b[0m\n\u001b[0;31mSyntaxError\u001b[0m\u001b[0;31m:\u001b[0m invalid syntax\n"
     ]
    }
   ],
   "source": [
    "5. Podemos agregar varios de la siguiente forma:"
   ]
  },
  {
   "cell_type": "code",
   "execution_count": 16,
   "metadata": {},
   "outputs": [],
   "source": [
    "clientes_tel['cliente_2']='123-872-491'\n",
    "clientes_tel['cliente_3']='879-829-660'"
   ]
  },
  {
   "cell_type": "code",
   "execution_count": 17,
   "metadata": {},
   "outputs": [
    {
     "data": {
      "text/plain": [
       "'879-829-660'"
      ]
     },
     "execution_count": 17,
     "metadata": {},
     "output_type": "execute_result"
    }
   ],
   "source": [
    "clientes_tel['cliente_3']"
   ]
  },
  {
   "cell_type": "markdown",
   "metadata": {},
   "source": [
    "¿Para qué nos sirven los diccionarios? Un uso común es en los dataframes - podemos pensar como hojas de Excel."
   ]
  },
  {
   "cell_type": "code",
   "execution_count": 18,
   "metadata": {},
   "outputs": [],
   "source": [
    "import pandas as pd\n",
    "df=pd.DataFrame({'SP500': ['MMM', 'ABT', 'ABBV', 'ABMD', 'ACN', 'ATVI', 'ADBE', 'AMD', 'AAP', 'AES', 'AFL', 'A', 'APD', 'AKAM', 'ALK', 'ALB', 'ARE', 'ALXN', 'ALGN', 'ALLE', 'LNT', 'ALL', 'GOOGL', 'GOOG', 'MO', 'AMZN', 'AMCR', 'AEE', 'AAL', 'AEP', 'AXP', 'AIG', 'AMT', 'AWK', 'AMP', 'ABC', 'AME', 'AMGN', 'APH', 'ADI', 'ANSS', 'ANTM', 'AON', 'AOS', 'APA', 'AIV', 'AAPL', 'AMAT', 'APTV', 'ADM', 'ANET', 'AJG', 'AIZ', 'T', 'ATO', 'ADSK', 'ADP', 'AZO', 'AVB', 'AVY', 'BKR', 'BLL', 'BAC', 'BK', 'BAX', 'BDX', 'BRK.B', 'BBY', 'BIO', 'BIIB', 'BLK', 'BA', 'BKNG', 'BWA', 'BXP', 'BSX', 'BMY', 'AVGO', 'BR', 'BF.B', 'CHRW', 'COG', 'CDNS', 'CPB', 'COF', 'CAH', 'KMX', 'CCL', 'CARR', 'CAT', 'CBOE', 'CBRE', 'CDW', 'CE', 'CNC', 'CNP', 'CTL', 'CERN', 'CF', 'SCHW', 'CHTR', 'CVX', 'CMG', 'CB', 'CHD', 'CI', 'CINF', 'CTAS', 'CSCO', 'C', 'CFG', 'CTXS', 'CLX', 'CME', 'CMS', 'KO', 'CTSH', 'CL', 'CMCSA', 'CMA', 'CAG', 'CXO', 'COP', 'ED', 'STZ', 'COO', 'CPRT', 'GLW', 'CTVA', 'COST', 'COTY', 'CCI', 'CSX', 'CMI', 'CVS', 'DHI', 'DHR', 'DRI', 'DVA', 'DE', 'DAL', 'XRAY', 'DVN', 'DXCM', 'FANG', 'DLR', 'DFS', 'DISCA', 'DISCK', 'DISH', 'DG', 'DLTR', 'D', 'DPZ', 'DOV', 'DOW', 'DTE', 'DUK', 'DRE', 'DD', 'DXC', 'ETFC', 'EMN', 'ETN', 'EBAY', 'ECL', 'EIX', 'EW', 'EA', 'EMR', 'ETR', 'EOG', 'EFX', 'EQIX', 'EQR', 'ESS', 'EL', 'EVRG', 'ES', 'RE', 'EXC', 'EXPE', 'EXPD', 'EXR', 'XOM', 'FFIV', 'FB', 'FAST', 'FRT', 'FDX', 'FIS', 'FITB', 'FE', 'FRC', 'FISV', 'FLT', 'FLIR', 'FLS', 'FMC', 'F', 'FTNT', 'FTV', 'FBHS', 'FOXA', 'FOX', 'BEN', 'FCX', 'GPS', 'GRMN', 'IT', 'GD', 'GE', 'GIS', 'GM', 'GPC', 'GILD', 'GL', 'GPN', 'GS', 'GWW', 'HRB', 'HAL', 'HBI', 'HIG', 'HAS', 'HCA', 'PEAK', 'HSIC', 'HSY', 'HES', 'HPE', 'HLT', 'HFC', 'HOLX', 'HD', 'HON', 'HRL', 'HST', 'HWM', 'HPQ', 'HUM', 'HBAN', 'HII', 'IEX', 'IDXX', 'INFO', 'ITW', 'ILMN', 'INCY', 'IR', 'INTC', 'ICE', 'IBM', 'IP', 'IPG', 'IFF', 'INTU', 'ISRG', 'IVZ', 'IPGP', 'IQV', 'IRM', 'JKHY', 'J', 'JBHT', 'SJM', 'JNJ', 'JCI', 'JPM', 'JNPR', 'KSU', 'K', 'KEY', 'KEYS', 'KMB', 'KIM', 'KMI', 'KLAC', 'KSS', 'KHC', 'KR', 'LB', 'LHX', 'LH', 'LRCX', 'LW', 'LVS', 'LEG', 'LDOS', 'LEN', 'LLY', 'LNC', 'LIN', 'LYV', 'LKQ', 'LMT', 'L', 'LOW', 'LYB', 'MTB', 'MRO', 'MPC', 'MKTX', 'MAR', 'MMC', 'MLM', 'MAS', 'MA', 'MKC', 'MXIM', 'MCD', 'MCK', 'MDT', 'MRK', 'MET', 'MTD', 'MGM', 'MCHP', 'MU', 'MSFT', 'MAA', 'MHK', 'TAP', 'MDLZ', 'MNST', 'MCO', 'MS', 'MOS', 'MSI', 'MSCI', 'MYL', 'NDAQ', 'NOV', 'NTAP', 'NFLX', 'NWL', 'NEM', 'NWSA', 'NWS', 'NEE', 'NLSN', 'NKE', 'NI', 'NBL', 'NSC', 'NTRS', 'NOC', 'NLOK', 'NCLH', 'NRG', 'NUE', 'NVDA', 'NVR', 'ORLY', 'OXY', 'ODFL', 'OMC', 'OKE', 'ORCL', 'OTIS', 'PCAR', 'PKG', 'PH', 'PAYX', 'PAYC', 'PYPL', 'PNR', 'PBCT', 'PEP', 'PKI', 'PRGO', 'PFE', 'PM', 'PSX', 'PNW', 'PXD', 'PNC', 'PPG', 'PPL', 'PFG', 'PG', 'PGR', 'PLD', 'PRU', 'PEG', 'PSA', 'PHM', 'PVH', 'QRVO', 'PWR', 'QCOM', 'DGX', 'RL', 'RJF', 'RTX', 'O', 'REG', 'REGN', 'RF', 'RSG', 'RMD', 'RHI', 'ROK', 'ROL', 'ROP', 'ROST', 'RCL', 'SPGI', 'CRM', 'SBAC', 'SLB', 'STX', 'SEE', 'SRE', 'NOW', 'SHW', 'SPG', 'SWKS', 'SLG', 'SNA', 'SO', 'LUV', 'SWK', 'SBUX', 'STT', 'STE', 'SYK', 'SIVB', 'SYF', 'SNPS', 'SYY', 'TMUS', 'TROW', 'TTWO', 'TPR', 'TGT', 'TEL', 'FTI', 'TDY', 'TFX', 'TXN', 'TXT', 'TMO', 'TIF', 'TJX', 'TSCO', 'TT', 'TDG', 'TRV', 'TFC', 'TWTR', 'TYL', 'TSN', 'UDR', 'ULTA', 'USB', 'UAA', 'UA', 'UNP', 'UAL', 'UNH', 'UPS', 'URI', 'UHS', 'UNM', 'VFC', 'VLO', 'VAR', 'VTR', 'VRSN', 'VRSK', 'VZ', 'VRTX', 'VIAC', 'V', 'VNO', 'VMC', 'WRB', 'WAB', 'WMT', 'WBA', 'DIS', 'WM', 'WAT', 'WEC', 'WFC', 'WELL', 'WST', 'WDC', 'WU', 'WRK', 'WY', 'WHR', 'WMB', 'WLTW', 'WYNN', 'XEL', 'XRX', 'XLNX', 'XYL', 'YUM', 'ZBRA', 'ZBH', 'ZION', 'ZTS'], 'Security': ['3M Company', 'Abbott Laboratories', 'AbbVie Inc.', 'ABIOMED Inc', 'Accenture plc', 'Activision Blizzard', 'Adobe Inc.', 'Advanced Micro Devices Inc', 'Advance Auto Parts', 'AES Corp', 'AFLAC Inc', 'Agilent Technologies Inc', 'Air Products & Chemicals Inc', 'Akamai Technologies Inc', 'Alaska Air Group Inc', 'Albemarle Corp', 'Alexandria Real Estate Equities', 'Alexion Pharmaceuticals', 'Align Technology', 'Allegion', 'Alliant Energy Corp', 'Allstate Corp', 'Alphabet Inc. (Class A)', 'Alphabet Inc. (Class C)', 'Altria Group Inc', 'Amazon.com Inc.', 'Amcor plc', 'Ameren Corp', 'American Airlines Group', 'American Electric Power', 'American Express Co', 'American International Group', 'American Tower Corp.', 'American Water Works Company Inc', 'Ameriprise Financial', 'AmerisourceBergen Corp', 'AMETEK Inc.', 'Amgen Inc.', 'Amphenol Corp', 'Analog Devices, Inc.', 'ANSYS', 'Anthem', 'Aon plc', 'A.O. Smith Corp', 'Apache Corporation', 'Apartment Investment & Management', 'Apple Inc.', 'Applied Materials Inc.', 'Aptiv PLC', 'Archer-Daniels-Midland Co', 'Arista Networks', 'Arthur J. Gallagher & Co.', 'Assurant', 'AT&T Inc.', 'Atmos Energy', 'Autodesk Inc.', 'Automatic Data Processing', 'AutoZone Inc', 'AvalonBay Communities', 'Avery Dennison Corp', 'Baker Hughes Co', 'Ball Corp', 'Bank of America Corp', 'The Bank of New York Mellon', 'Baxter International Inc.', 'Becton Dickinson', 'Berkshire Hathaway', 'Best Buy Co. Inc.', 'Bio-Rad Laboratories', 'Biogen Inc.', 'BlackRock', 'Boeing Company', 'Booking Holdings Inc', 'BorgWarner', 'Boston Properties', 'Boston Scientific', 'Bristol-Myers Squibb', 'Broadcom Inc.', 'Broadridge Financial Solutions', 'Brown-Forman Corp.', 'C. H. Robinson Worldwide', 'Cabot Oil & Gas', 'Cadence Design Systems', 'Campbell Soup', 'Capital One Financial', 'Cardinal Health Inc.', 'Carmax Inc', 'Carnival Corp.', 'Carrier Global', 'Caterpillar Inc.', 'Cboe Global Markets', 'CBRE Group', 'CDW', 'Celanese', 'Centene Corporation', 'CenterPoint Energy', 'CenturyLink Inc', 'Cerner', 'CF Industries Holdings Inc', 'Charles Schwab Corporation', 'Charter Communications', 'Chevron Corp.', 'Chipotle Mexican Grill', 'Chubb Limited', 'Church & Dwight', 'CIGNA Corp.', 'Cincinnati Financial', 'Cintas Corporation', 'Cisco Systems', 'Citigroup Inc.', 'Citizens Financial Group', 'Citrix Systems', 'The Clorox Company', 'CME Group Inc.', 'CMS Energy', 'Coca-Cola Company', 'Cognizant Technology Solutions', 'Colgate-Palmolive', 'Comcast Corp.', 'Comerica Inc.', 'Conagra Brands', 'Concho Resources', 'ConocoPhillips', 'Consolidated Edison', 'Constellation Brands', 'The Cooper Companies', 'Copart Inc', 'Corning Inc.', 'Corteva', 'Costco Wholesale Corp.', 'Coty, Inc', 'Crown Castle International Corp.', 'CSX Corp.', 'Cummins Inc.', 'CVS Health', 'D. R. Horton', 'Danaher Corp.', 'Darden Restaurants', 'DaVita Inc.', 'Deere & Co.', 'Delta Air Lines Inc.', 'Dentsply Sirona', 'Devon Energy', 'DexCom', 'Diamondback Energy', 'Digital Realty Trust Inc', 'Discover Financial Services', 'Discovery, Inc. (Class A)', 'Discovery, Inc. (Class C)', 'Dish Network', 'Dollar General', 'Dollar Tree', 'Dominion Energy', \"Domino's Pizza\", 'Dover Corporation', 'Dow Inc.', 'DTE Energy Co.', 'Duke Energy', 'Duke Realty Corp', 'DuPont de Nemours Inc', 'DXC Technology', 'E*Trade', 'Eastman Chemical', 'Eaton Corporation', 'eBay Inc.', 'Ecolab Inc.', \"Edison Int'l\", 'Edwards Lifesciences', 'Electronic Arts', 'Emerson Electric Company', 'Entergy Corp.', 'EOG Resources', 'Equifax Inc.', 'Equinix', 'Equity Residential', 'Essex Property Trust, Inc.', 'Estée Lauder Companies', 'Evergy', 'Eversource Energy', 'Everest Re Group Ltd.', 'Exelon Corp.', 'Expedia Group', 'Expeditors', 'Extra Space Storage', 'Exxon Mobil Corp.', 'F5 Networks', 'Facebook, Inc.', 'Fastenal Co', 'Federal Realty Investment Trust', 'FedEx Corporation', 'Fidelity National Information Services', 'Fifth Third Bancorp', 'FirstEnergy Corp', 'First Republic Bank', 'Fiserv Inc', 'FleetCor Technologies Inc', 'FLIR Systems', 'Flowserve Corporation', 'FMC Corporation', 'Ford Motor Company', 'Fortinet', 'Fortive Corp', 'Fortune Brands Home & Security', 'Fox Corporation (Class A)', 'Fox Corporation (Class B)', 'Franklin Resources', 'Freeport-McMoRan Inc.', 'Gap Inc.', 'Garmin Ltd.', 'Gartner Inc', 'General Dynamics', 'General Electric', 'General Mills', 'General Motors', 'Genuine Parts', 'Gilead Sciences', 'Globe Life Inc.', 'Global Payments Inc.', 'Goldman Sachs Group', 'Grainger (W.W.) Inc.', 'H&R Block', 'Halliburton Co.', 'Hanesbrands Inc', 'Hartford Financial Svc.Gp.', 'Hasbro Inc.', 'HCA Healthcare', 'Healthpeak Properties', 'Henry Schein', 'The Hershey Company', 'Hess Corporation', 'Hewlett Packard Enterprise', 'Hilton Worldwide Holdings Inc', 'HollyFrontier Corp', 'Hologic', 'Home Depot', \"Honeywell Int'l Inc.\", 'Hormel Foods Corp.', 'Host Hotels & Resorts', 'Howmet Aerospace', 'HP Inc.', 'Humana Inc.', 'Huntington Bancshares', 'Huntington Ingalls Industries', 'IDEX Corporation', 'IDEXX Laboratories', 'IHS Markit Ltd.', 'Illinois Tool Works', 'Illumina Inc', 'Incyte', 'Ingersoll Rand', 'Intel Corp.', 'Intercontinental Exchange', 'International Business Machines', 'International Paper', 'Interpublic Group', 'International Flavors & Fragrances', 'Intuit Inc.', 'Intuitive Surgical Inc.', 'Invesco Ltd.', 'IPG Photonics Corp.', 'IQVIA Holdings Inc.', 'Iron Mountain Incorporated', 'Jack Henry & Associates', 'Jacobs Engineering Group', 'J. B. Hunt Transport Services', 'JM Smucker', 'Johnson & Johnson', 'Johnson Controls International', 'JPMorgan Chase & Co.', 'Juniper Networks', 'Kansas City Southern', 'Kellogg Co.', 'KeyCorp', 'Keysight Technologies', 'Kimberly-Clark', 'Kimco Realty', 'Kinder Morgan', 'KLA Corporation', \"Kohl's Corp.\", 'Kraft Heinz Co', 'Kroger Co.', 'L Brands Inc.', 'L3Harris Technologies', 'Laboratory Corp. of America Holding', 'Lam Research', 'Lamb Weston Holdings Inc', 'Las Vegas Sands', 'Leggett & Platt', 'Leidos Holdings', 'Lennar Corp.', 'Lilly (Eli) & Co.', 'Lincoln National', 'Linde plc', 'Live Nation Entertainment', 'LKQ Corporation', 'Lockheed Martin Corp.', 'Loews Corp.', \"Lowe's Cos.\", 'LyondellBasell', 'M&T Bank Corp.', 'Marathon Oil Corp.', 'Marathon Petroleum', 'MarketAxess', \"Marriott Int'l.\", 'Marsh & McLennan', 'Martin Marietta Materials', 'Masco Corp.', 'Mastercard Inc.', 'McCormick & Co.', 'Maxim Integrated Products Inc', \"McDonald's Corp.\", 'McKesson Corp.', 'Medtronic plc', 'Merck & Co.', 'MetLife Inc.', 'Mettler Toledo', 'MGM Resorts International', 'Microchip Technology', 'Micron Technology', 'Microsoft Corp.', 'Mid-America Apartments', 'Mohawk Industries', 'Molson Coors Beverage Company', 'Mondelez International', 'Monster Beverage', \"Moody's Corp\", 'Morgan Stanley', 'The Mosaic Company', 'Motorola Solutions Inc.', 'MSCI Inc', 'Mylan N.V.', 'Nasdaq, Inc.', 'National Oilwell Varco Inc.', 'NetApp', 'Netflix Inc.', 'Newell Brands', 'Newmont Corporation', 'News Corp. Class A', 'News Corp. Class B', 'NextEra Energy', 'Nielsen Holdings', 'Nike, Inc.', 'NiSource Inc.', 'Noble Energy', 'Norfolk Southern Corp.', 'Northern Trust Corp.', 'Northrop Grumman', 'NortonLifeLock', 'Norwegian Cruise Line Holdings', 'NRG Energy', 'Nucor Corp.', 'Nvidia Corporation', 'NVR, Inc.', \"O'Reilly Automotive\", 'Occidental Petroleum', 'Old Dominion Freight Line', 'Omnicom Group', 'ONEOK', 'Oracle Corp.', 'Otis Worldwide', 'PACCAR Inc.', 'Packaging Corporation of America', 'Parker-Hannifin', 'Paychex Inc.', 'Paycom', 'PayPal', 'Pentair plc', \"People's United Financial\", 'PepsiCo Inc.', 'PerkinElmer', 'Perrigo', 'Pfizer Inc.', 'Philip Morris International', 'Phillips 66', 'Pinnacle West Capital', 'Pioneer Natural Resources', 'PNC Financial Services', 'PPG Industries', 'PPL Corp.', 'Principal Financial Group', 'Procter & Gamble', 'Progressive Corp.', 'Prologis', 'Prudential Financial', 'Public Service Enterprise Group (PSEG)', 'Public Storage', 'PulteGroup', 'PVH Corp.', 'Qorvo', 'Quanta Services Inc.', 'QUALCOMM Inc.', 'Quest Diagnostics', 'Ralph Lauren Corporation', 'Raymond James Financial Inc.', 'Raytheon Technologies', 'Realty Income Corporation', 'Regency Centers Corporation', 'Regeneron Pharmaceuticals', 'Regions Financial Corp.', 'Republic Services Inc', 'ResMed', 'Robert Half International', 'Rockwell Automation Inc.', 'Rollins Inc.', 'Roper Technologies', 'Ross Stores', 'Royal Caribbean Group', 'S&P Global, Inc.', 'Salesforce.com', 'SBA Communications', 'Schlumberger Ltd.', 'Seagate Technology', 'Sealed Air', 'Sempra Energy', 'ServiceNow', 'Sherwin-Williams', 'Simon Property Group Inc', 'Skyworks Solutions', 'SL Green Realty', 'Snap-on', 'Southern Company', 'Southwest Airlines', 'Stanley Black & Decker', 'Starbucks Corp.', 'State Street Corp.', 'STERIS plc', 'Stryker Corp.', 'SVB Financial', 'Synchrony Financial', 'Synopsys Inc.', 'Sysco Corp.', 'T-Mobile US', 'T. Rowe Price Group', 'Take-Two Interactive', 'Tapestry, Inc.', 'Target Corp.', 'TE Connectivity Ltd.', 'TechnipFMC', 'Teledyne Technologies', 'Teleflex', 'Texas Instruments', 'Textron Inc.', 'Thermo Fisher Scientific', 'Tiffany & Co.', 'TJX Companies Inc.', 'Tractor Supply Company', 'Trane Technologies plc', 'TransDigm Group', 'The Travelers Companies Inc.', 'Truist Financial', 'Twitter, Inc.', 'Tyler Technologies', 'Tyson Foods', 'UDR, Inc.', 'Ulta Beauty', 'U.S. Bancorp', 'Under Armour (Class A)', 'Under Armour (Class C)', 'Union Pacific Corp', 'United Airlines Holdings', 'United Health Group Inc.', 'United Parcel Service', 'United Rentals, Inc.', 'Universal Health Services', 'Unum Group', 'VF Corporation', 'Valero Energy', 'Varian Medical Systems', 'Ventas Inc', 'Verisign Inc.', 'Verisk Analytics', 'Verizon Communications', 'Vertex Pharmaceuticals Inc', 'ViacomCBS', 'Visa Inc.', 'Vornado Realty Trust', 'Vulcan Materials', 'W. R. Berkley Corporation', 'Wabtec Corporation', 'Walmart', 'Walgreens Boots Alliance', 'The Walt Disney Company', 'Waste Management Inc.', 'Waters Corporation', 'WEC Energy Group', 'Wells Fargo', 'Welltower Inc.', 'West Pharmaceutical Services', 'Western Digital', 'Western Union Co', 'WestRock', 'Weyerhaeuser', 'Whirlpool Corp.', 'Williams Companies', 'Willis Towers Watson', 'Wynn Resorts Ltd', 'Xcel Energy Inc', 'Xerox', 'Xilinx', 'Xylem Inc.', 'Yum! Brands Inc', 'Zebra Technologies', 'Zimmer Biomet Holdings', 'Zions Bancorp', 'Zoetis'], 'Headquarters Location': ['St. Paul, Minnesota', 'North Chicago, Illinois', 'North Chicago, Illinois', 'Danvers, Massachusetts', 'Dublin, Ireland', 'Santa Monica, California', 'San Jose, California', 'Santa Clara, California', 'Raleigh, North Carolina', 'Arlington, Virginia', 'Columbus, Georgia', 'Santa Clara, California', 'Allentown, Pennsylvania', 'Cambridge, Massachusetts', 'Seattle, Washington', 'Charlotte, North Carolina', 'Pasadena, California', 'Boston, Massachusetts', 'San Jose, California', 'Dublin, Ireland', 'Madison, Wisconsin', 'Northfield Township, Illinois', 'Mountain View, California', 'Mountain View, California', 'Richmond, Virginia', 'Seattle, Washington', 'Warmley, Bristol, United Kingdom', 'St. Louis, Missouri', 'Fort Worth, Texas', 'Columbus, Ohio', 'New York, New York', 'New York, New York', 'Boston, Massachusetts', 'Camden, New Jersey', 'Minneapolis, Minnesota', 'Chesterbrook, Pennsylvania', 'Berwyn, Pennsylvania', 'Thousand Oaks, California', 'Wallingford, Connecticut', 'Norwood, Massachusetts', 'Canonsburg, Pennsylvania', 'Indianapolis, Indiana', 'London, United Kingdom', 'Milwaukee, Wisconsin', 'Houston, Texas', 'Denver, Colorado', 'Cupertino, California', 'Santa Clara, California', 'Dublin, Ireland', 'Chicago, Illinois', 'Santa Clara, California', 'Itasca, Illinois', 'New York, New York', 'Dallas, Texas', 'Dallas, Texas', 'San Rafael, California', 'Roseland, New Jersey', 'Memphis, Tennessee', 'Arlington, Virginia[3]', 'Glendale, California', 'Houston, Texas', 'Broomfield, Colorado', 'Charlotte, North Carolina', 'New York, New York', 'Deerfield, Illinois', 'Franklin Lakes, New Jersey', 'Omaha, Nebraska', 'Richfield, Minnesota', 'Hercules, California', 'Cambridge, Massachusetts', 'New York, New York', 'Chicago, Illinois', 'Norwalk, Connecticut', 'Auburn Hills, Michigan', 'Boston, Massachusetts', 'Marlborough, Massachusetts[4]', 'New York, New York', 'San Jose, California', 'Lake Success, New York', 'Louisville, Kentucky', 'Eden Prairie, Minnesota', 'Houston, Texas', 'San Jose, California', 'Camden, New Jersey', 'Tysons Corner, Virginia', 'Dublin, Ohio', 'Richmond, Virginia', 'Miami, Florida', 'Palm Beach Gardens, Florida', 'Deerfield, Illinois', 'Chicago, Illinois', 'Los Angeles, California', 'Lincolnshire, Illinois', 'Irving, Texas', 'St. Louis, Missouri', 'Houston, Texas', 'Monroe, Louisiana', 'North Kansas City, Missouri', 'Deerfield, Illinois', 'San Francisco, California', 'Stamford, Connecticut', 'San Ramon, California', 'Newport Beach, California', 'Zurich, Switzerland', 'Ewing, New Jersey', 'Bloomfield, Connecticut', 'Fairfield, Ohio', 'Mason, Ohio', 'San Jose, California', 'New York, New York', 'Providence, Rhode Island', 'Fort Lauderdale, Florida', 'Oakland, California', 'Chicago, Illinois', 'Jackson, Michigan', 'Atlanta, Georgia', 'Teaneck, New Jersey', 'New York, New York', 'Philadelphia, Pennsylvania', 'Dallas, Texas', 'Chicago, Illinois', 'Midland, Texas', 'Houston, Texas', 'New York, New York', 'Victor, New York', 'San Ramon, California', 'Dallas, Texas', 'Corning, New York', 'Wilmington, Delaware', 'Issaquah, Washington', 'New York, New York', 'Houston, Texas', 'Jacksonville, Florida', 'Columbus, Indiana', 'Woonsocket, Rhode Island', 'Fort Worth, Texas', 'Washington, D.C.', 'Orlando, Florida', 'Denver, Colorado', 'Moline, Illinois', 'Atlanta, Georgia', 'Charlotte, North Carolina', 'Oklahoma City, Oklahoma', 'San Diego, California', 'Midland, Texas', 'San Francisco, California', 'Riverwoods, Illinois', 'Silver Spring, Maryland', 'Silver Spring, Maryland', 'Meridian, Colorado', 'Goodlettsville, Tennessee', 'Chesapeake, Virginia', 'Richmond, Virginia', 'Ann Arbor, Michigan', 'Downers Grove, Illinois', 'Midland, Michigan', 'Detroit, Michigan', 'Charlotte, North Carolina', 'Indianapolis, Indiana', 'Midland, Michigan', 'Tysons Corner, Virginia', 'New York, New York', 'Kingsport, Tennessee', 'Dublin, Ireland', 'San Jose, California', 'St. Paul, Minnesota', 'Rosemead, California', 'Irvine, California', 'Redwood City, California', 'Ferguson, Missouri', 'New Orleans, Louisiana', 'Houston, Texas', 'Atlanta, Georgia', 'Redwood City, California', 'Chicago, Illinois', 'San Mateo, California', 'New York, New York', 'Kansas City, Missouri', 'Springfield, Massachusetts', 'Hamilton, Bermuda', 'Chicago, Illinois', 'Seattle, Washington', 'Seattle, Washington', 'Salt Lake City, Utah', 'Irving, Texas', 'Seattle, Washington', 'Menlo Park, California', 'Winona, Minnesota', 'Rockville, Maryland', 'Memphis, Tennessee', 'Jacksonville, Florida', 'Cincinnati, Ohio', 'Akron, Ohio', 'San Francisco, California', 'Brookfield, Wisconsin', 'Norcross, Georgia', 'Wilsonville, Oregon', 'Irving, Texas', 'Philadelphia, Pennsylvania', 'Dearborn, Michigan', 'Sunnyvale, California', 'Everett, Washington', 'Deerfield, Illinois', 'New York, New York', 'New York, New York', 'San Mateo, California', 'Phoenix, Arizona', 'San Francisco, California', 'Schaffhausen, Switzerland', 'Stamford, Connecticut', 'Falls Church, Virginia', 'Boston, Massachusetts', 'Golden Valley, Minnesota', 'Detroit, Michigan', 'Atlanta, Georgia', 'Foster City, California', 'McKinney, Texas', 'Atlanta, Georgia', 'New York, New York', 'Lake Forest, Illinois', 'Kansas City, Missouri', 'Houston, Texas', 'Winston-Salem, North Carolina', 'Hartford, Connecticut', 'Pawtucket, Rhode Island', 'Nashville, Tennessee', 'Long Beach, California', 'Melville, New York', 'Hershey, Pennsylvania', 'New York, New York', 'Palo Alto, California', 'Tysons Corner, Virginia', 'Dallas, Texas', 'Marlborough, Massachusetts', 'Atlanta, Georgia', 'Morristown, New Jersey', 'Austin, Minnesota', 'Bethesda, Maryland', 'Pittsburgh, Pennsylvania', 'Palo Alto, California', 'Louisville, Kentucky', 'Columbus, Ohio', 'Newport News, Virginia', 'Lake Forest, Illinois', 'Westbrook, Maine', 'London, United Kingdom', 'Glenview, Illinois', 'San Diego, California', 'Wilmington, Delaware', 'Milwaukee, Wisconsin', 'Santa Clara, California', 'Atlanta, Georgia', 'Armonk, New York', 'Memphis, Tennessee', 'New York, New York', 'New York, New York', 'Mountain View, California', 'Sunnyvale, California', 'Atlanta, Georgia', 'Oxford, Massachusetts', 'Durham, North Carolina', 'Boston, Massachusetts', 'Monett, Missouri', 'Dallas, Texas', 'Lowell, Arkansas', 'Orrville, Ohio', 'New Brunswick, New Jersey', 'Cork, Ireland', 'New York, New York', 'Sunnyvale, California', 'Kansas City, Missouri', 'Battle Creek, Michigan', 'Cleveland, Ohio', 'Santa Rosa, California', 'Irving, Texas', 'New Hyde Park, New York', 'Houston, Texas', 'Milpitas, California', 'Menomonee Falls, Wisconsin', 'Chicago, Illinois; Pittsburgh, Pennsylvania', 'Cincinnati, Ohio', 'Columbus, Ohio', 'Melbourne, Florida', 'Burlington, North Carolina', 'Fremont, California', 'Eagle, Idaho', 'Las Vegas, Nevada', 'Carthage, Missouri', 'Reston, Virginia', 'Miami, Florida', 'Indianapolis, Indiana', 'Radnor, Pennsylvania', 'Guildford, Surrey, United Kingdom', 'Beverly Hills, California', 'Chicago, Illinois', 'Bethesda, Maryland', 'New York, New York', 'Mooresville, North Carolina', 'Rotterdam, Netherlands', 'Buffalo, New York', 'Houston, Texas', 'Findlay, Ohio', 'New York, New York', 'Bethesda, Maryland', 'New York, New York', 'Raleigh, North Carolina', 'Livonia, Michigan', 'Harrison, New York', 'Hunt Valley, Maryland', 'San Jose, California', 'Chicago, Illinois', 'Irving, Texas', 'Dublin, Ireland', 'Kenilworth, New Jersey', 'New York, New York', 'Columbus, Ohio', 'Paradise, Nevada', 'Chandler, Arizona', 'Boise, Idaho', 'Redmond, Washington', 'Memphis, Tennessee', 'Calhoun, Georgia', 'Denver, Colorado', 'Chicago, Illinois', 'Corona, California', 'New York, New York', 'New York, New York', 'Tampa, Florida', 'Chicago, Illinois', 'New York, New York', 'Amsterdam, Netherlands', 'New York, New York', 'Houston, Texas', 'Sunnyvale, California', 'Los Gatos, California', 'Atlanta, Georgia', 'Denver, Colorado', 'New York, New York', 'New York, New York', 'Juno Beach, Florida', 'New York, New York', 'Washington County, Oregon', 'Merrillville, Indiana', 'Houston, Texas', 'Norfolk, Virginia', 'Chicago, Illinois', 'West Falls Church, Virginia', 'Tempe, Arizona', 'Miami, Florida', 'Princeton, New Jersey', 'Charlotte, North Carolina', 'Santa Clara, California', 'Reston, Virginia', 'Springfield, Missouri', 'Houston, Texas', 'Thomasville, North Carolina', 'New York, New York', 'Tulsa, Oklahoma', 'Redwood Shores, California', 'Farmington, Connecticut', 'Bellevue, Washington', 'Lake Forest, Illinois', 'Cleveland, Ohio', 'Penfield, New York', 'Oklahoma City, Oklahoma', 'San Jose, California', 'Worsley, UK', 'Bridgeport, Connecticut', 'Purchase, New York', 'Waltham, Massachusetts', 'Dublin, Ireland', 'New York, New York', 'New York, New York', 'Houston, Texas', 'Phoenix, Arizona', 'Irving, Texas', 'Pittsburgh, Pennsylvania', 'Pittsburgh, Pennsylvania', 'Allentown, Pennsylvania', 'Des Moines, Iowa', 'Cincinnati, Ohio', 'Mayfield Village, Ohio', 'San Francisco, California', 'Newark, New Jersey', 'Newark, New Jersey', 'Glendale, California', 'Atlanta, Georgia', 'New York, New York', 'Greensboro, North Carolina', 'Houston, Texas', 'San Diego, California', 'Secaucus, New Jersey', 'New York, New York', 'St. Petersburg, Florida', 'Waltham, Massachusetts', 'San Diego, California', 'Jacksonville, Florida', 'Tarrytown, New York', 'Birmingham, Alabama', 'Phoenix, Arizona', 'San Diego, California', 'Menlo Park, California', 'Milwaukee, Wisconsin', 'Atlanta, Georgia', 'Sarasota, Florida', 'Dublin, California', 'Miami, Florida', 'New York, New York', 'San Francisco, California', 'Boca Raton, Florida', 'Curaçao, Kingdom of the Netherlands', 'Dublin, Ireland', 'Charlotte, North Carolina', 'San Diego, California', 'Santa Clara, California', 'Cleveland, Ohio', 'Indianapolis, Indiana', 'Woburn, Massachusetts', 'New York, New York', 'Kenosha, Wisconsin', 'Atlanta, Georgia', 'Dallas, Texas', 'New Britain, Connecticut', 'Seattle, Washington', 'Boston, Massachusetts', 'Dublin, Ireland', 'Kalamazoo, Michigan', 'Santa Clara, California', 'Stamford, Connecticut', 'Mountain View, California', 'Houston, Texas', 'Bellevue, Washington', 'Baltimore, Maryland', 'New York, New York', 'New York, New York', 'Minneapolis, Minnesota', 'Schaffhausen, Switzerland', 'London, United Kingdom', 'Thousand Oaks, California', 'Wayne, Pennsylvania', 'Dallas, Texas', 'Providence, Rhode Island', 'Waltham, Massachusetts', 'New York, New York', 'Framingham, Massachusetts', 'Brentwood, Tennessee', 'Dublin, Ireland', 'Cleveland, Ohio', 'New York, New York', 'Charlotte, North Carolina', 'San Francisco, California', 'Plano, Texas', 'Springdale, Arkansas', 'Highlands Ranch, Colorado', 'Bolingbrook, Illinois', 'Minneapolis, Minnesota', 'Baltimore, Maryland', 'Baltimore, Maryland', 'Omaha, Nebraska', 'Chicago, Illinois', 'Minnetonka, Minnesota', 'Atlanta, Georgia', 'Stamford, Connecticut', 'King of Prussia, Pennsylvania', 'Chattanooga, Tennessee', 'Greensboro, North Carolina', 'San Antonio, Texas', 'Palo Alto, California', 'Chicago, Illinois', 'Dulles, Virginia', 'Jersey City, New Jersey', 'New York, New York', 'Cambridge, Massachusetts', 'New York, New York', 'San Francisco, California', 'New York, New York', 'Birmingham, Alabama', 'Greenwich, Connecticut', 'Wilmerding, Pennsylvania', 'Bentonville, Arkansas', 'Deerfield, Illinois', 'Burbank, California', 'Houston, Texas', 'Milford, Massachusetts', 'Milwaukee, Wisconsin', 'San Francisco, California', 'Toledo, Ohio', 'Exton, Pennsylvania', 'San Jose, California', 'Englewood, Colorado', 'Atlanta, Georgia', 'Federal Way, Washington', 'Benton Harbor, Michigan', 'Tulsa, Oklahoma', 'London, United Kingdom', 'Paradise, Nevada', 'Minneapolis, Minnesota', 'Norwalk, Connecticut', 'San Jose, California', 'White Plains, New York', 'Louisville, Kentucky', 'Lincolnshire, Illinois', 'Warsaw, Indiana', 'Salt Lake City, Utah', 'Florham Park, New Jersey']})"
   ]
  },
  {
   "cell_type": "code",
   "execution_count": 19,
   "metadata": {},
   "outputs": [
    {
     "data": {
      "text/plain": [
       "{'cliente_1': '123-000-000',\n",
       " 'cliente_2': '123-872-491',\n",
       " 'cliente_3': '879-829-660'}"
      ]
     },
     "execution_count": 19,
     "metadata": {},
     "output_type": "execute_result"
    }
   ],
   "source": [
    "clientes_tel"
   ]
  },
  {
   "cell_type": "markdown",
   "metadata": {},
   "source": [
    "# Iterar sobre un diccionario"
   ]
  },
  {
   "cell_type": "code",
   "execution_count": 20,
   "metadata": {},
   "outputs": [
    {
     "name": "stdout",
     "output_type": "stream",
     "text": [
      "cliente_1\n",
      "cliente_2\n",
      "cliente_3\n"
     ]
    }
   ],
   "source": [
    "for element in clientes_tel: #si iteramos sobre los elementos (sin poner más especificaciones), se itera sobre las llaves.\n",
    "    print(element)"
   ]
  },
  {
   "cell_type": "code",
   "execution_count": 21,
   "metadata": {},
   "outputs": [
    {
     "name": "stdout",
     "output_type": "stream",
     "text": [
      "cliente_1\n",
      "cliente_2\n",
      "cliente_3\n"
     ]
    }
   ],
   "source": [
    "for element in clientes_tel.keys():    #Es lo mismo usar .keys() al iterar ya que iterará sobre las llaves.\n",
    "    print(element)"
   ]
  },
  {
   "cell_type": "code",
   "execution_count": 22,
   "metadata": {},
   "outputs": [
    {
     "name": "stdout",
     "output_type": "stream",
     "text": [
      "123-000-000\n",
      "123-872-491\n",
      "879-829-660\n"
     ]
    }
   ],
   "source": [
    "for element in clientes_tel.values():   #La iteración será sobre los valores.\n",
    "    print(element)"
   ]
  },
  {
   "cell_type": "markdown",
   "metadata": {},
   "source": [
    "## Ejemplo 1\n",
    "\n",
    "¿Cómo podemos saber que número de cliente tiene el telefóno 879-829-660?"
   ]
  },
  {
   "cell_type": "code",
   "execution_count": 23,
   "metadata": {},
   "outputs": [
    {
     "name": "stdout",
     "output_type": "stream",
     "text": [
      "cliente_3\n"
     ]
    }
   ],
   "source": [
    "#Solución...\n",
    "# Lo que podemos hacer, es buscar la llave tal que clientes_tel[llave] == numero telefonico de interes. Si esto es cierto, imprima la llave.\n",
    "for dato in clientes_tel:\n",
    "    if clientes_tel[dato]=='879-829-660':\n",
    "        print(dato)\n"
   ]
  },
  {
   "cell_type": "code",
   "execution_count": 24,
   "metadata": {},
   "outputs": [
    {
     "ename": "KeyError",
     "evalue": "'cliente_4'",
     "output_type": "error",
     "traceback": [
      "\u001b[0;31m---------------------------------------------------------------------------\u001b[0m",
      "\u001b[0;31mKeyError\u001b[0m                                  Traceback (most recent call last)",
      "\u001b[0;32m<ipython-input-24-8e2acfa6e10c>\u001b[0m in \u001b[0;36m<module>\u001b[0;34m\u001b[0m\n\u001b[1;32m      1\u001b[0m \u001b[0;31m#Ejemplo 1.\u001b[0m\u001b[0;34m\u001b[0m\u001b[0;34m\u001b[0m\u001b[0;34m\u001b[0m\u001b[0m\n\u001b[0;32m----> 2\u001b[0;31m \u001b[0mclientes_tel\u001b[0m\u001b[0;34m[\u001b[0m\u001b[0;34m'cliente_4'\u001b[0m\u001b[0;34m]\u001b[0m\u001b[0;34m\u001b[0m\u001b[0;34m\u001b[0m\u001b[0m\n\u001b[0m",
      "\u001b[0;31mKeyError\u001b[0m: 'cliente_4'"
     ]
    }
   ],
   "source": [
    "#Ejemplo 1.\n",
    "clientes_tel['cliente_4']"
   ]
  },
  {
   "cell_type": "code",
   "execution_count": 25,
   "metadata": {},
   "outputs": [
    {
     "data": {
      "text/plain": [
       "3"
      ]
     },
     "execution_count": 25,
     "metadata": {},
     "output_type": "execute_result"
    }
   ],
   "source": [
    "len(clientes_tel)"
   ]
  },
  {
   "cell_type": "code",
   "execution_count": 26,
   "metadata": {},
   "outputs": [
    {
     "data": {
      "text/plain": [
       "True"
      ]
     },
     "execution_count": 26,
     "metadata": {},
     "output_type": "execute_result"
    }
   ],
   "source": [
    "'cliente_1' in  clientes_tel"
   ]
  },
  {
   "cell_type": "code",
   "execution_count": 27,
   "metadata": {},
   "outputs": [
    {
     "data": {
      "text/plain": [
       "False"
      ]
     },
     "execution_count": 27,
     "metadata": {},
     "output_type": "execute_result"
    }
   ],
   "source": [
    "'123-000-000' in clientes_tel"
   ]
  },
  {
   "cell_type": "markdown",
   "metadata": {},
   "source": [
    "## Observaciones\n",
    "\n",
    "1. Si una llave no pertence a un diccionario y la intentamos llamar, habrá un error (KeyError).\n",
    "2. El comando len también es aplicable en diccionarios y nos regresa el número de pares key-values.\n",
    "3. El operador in también aplica en diccionarios - nos indica si una llave aparece en un diccionario."
   ]
  },
  {
   "cell_type": "markdown",
   "metadata": {},
   "source": [
    "## Ejemplo 2"
   ]
  },
  {
   "cell_type": "markdown",
   "metadata": {},
   "source": [
    "Se tienen el siguiente diccionario de acciones con su correspondiente retorno al día de hoy:"
   ]
  },
  {
   "cell_type": "code",
   "execution_count": 29,
   "metadata": {},
   "outputs": [],
   "source": [
    "ret_stocks={'S1': 1.02, 'S2': 9.8, 'S3': 1.002, 'S4': 0.34, 'S5': 10.92, 'S6': 5.6, 'S7': 10.91, 'S8': 8.8}"
   ]
  },
  {
   "cell_type": "markdown",
   "metadata": {},
   "source": [
    "Obtener las 3 acciones que obtuvieron los mejores rendimientos."
   ]
  },
  {
   "cell_type": "code",
   "execution_count": 31,
   "metadata": {},
   "outputs": [],
   "source": [
    "rendimientos=[]   #generamos una lista vacía\n",
    "for element in ret_stocks:\n",
    "    rendimientos.append(ret_stocks[element])"
   ]
  },
  {
   "cell_type": "code",
   "execution_count": 32,
   "metadata": {},
   "outputs": [
    {
     "data": {
      "text/plain": [
       "[1.02, 9.8, 1.002, 0.34, 10.92, 5.6, 10.91, 8.8]"
      ]
     },
     "execution_count": 32,
     "metadata": {},
     "output_type": "execute_result"
    }
   ],
   "source": [
    "rendimientos"
   ]
  },
  {
   "cell_type": "code",
   "execution_count": 33,
   "metadata": {},
   "outputs": [
    {
     "name": "stdout",
     "output_type": "stream",
     "text": [
      "[10.92, 10.91, 9.8]\n"
     ]
    }
   ],
   "source": [
    "target=sorted(rendimientos,reverse=True)[ : 3]\n",
    "print(target)"
   ]
  },
  {
   "cell_type": "code",
   "execution_count": 47,
   "metadata": {},
   "outputs": [],
   "source": [
    "top_3=[]\n",
    "for key in ret_stocks:\n",
    "    if ret_stocks[key] in target:\n",
    "        top_3.append(key)"
   ]
  },
  {
   "cell_type": "code",
   "execution_count": 54,
   "metadata": {},
   "outputs": [
    {
     "data": {
      "text/plain": [
       "array(['S5', 'S7', 'S2'], dtype=object)"
      ]
     },
     "execution_count": 54,
     "metadata": {},
     "output_type": "execute_result"
    }
   ],
   "source": [
    "pd.Series(ret_stocks).to_frame(name='return').sort_values(by='return',ascending=False)[:3].index.values"
   ]
  },
  {
   "cell_type": "markdown",
   "metadata": {},
   "source": [
    "## Métodos en diccionarios"
   ]
  },
  {
   "cell_type": "markdown",
   "metadata": {},
   "source": [
    "### update()\n",
    "\n",
    "El método update() inserta un objeto al diccionario. La sintaxis es diccionario.update(iterable)"
   ]
  },
  {
   "cell_type": "code",
   "execution_count": 56,
   "metadata": {},
   "outputs": [
    {
     "data": {
      "text/plain": [
       "{'cliente_1': '123-000-000',\n",
       " 'cliente_2': '123-872-491',\n",
       " 'cliente_3': '879-829-660'}"
      ]
     },
     "execution_count": 56,
     "metadata": {},
     "output_type": "execute_result"
    }
   ],
   "source": [
    "clientes_tel"
   ]
  },
  {
   "cell_type": "markdown",
   "metadata": {},
   "source": [
    "Supongamos que tenemos el cliente_4 con número 834-284-693 y queremos agregarlo al diccionario. Una manera es usar corchetes:"
   ]
  },
  {
   "cell_type": "code",
   "execution_count": 57,
   "metadata": {},
   "outputs": [],
   "source": [
    "clientes_tel['cliente_4']='834-284-693'"
   ]
  },
  {
   "cell_type": "code",
   "execution_count": 58,
   "metadata": {},
   "outputs": [
    {
     "data": {
      "text/plain": [
       "{'cliente_1': '123-000-000',\n",
       " 'cliente_2': '123-872-491',\n",
       " 'cliente_3': '879-829-660',\n",
       " 'cliente_4': '834-284-693'}"
      ]
     },
     "execution_count": 58,
     "metadata": {},
     "output_type": "execute_result"
    }
   ],
   "source": [
    "clientes_tel"
   ]
  },
  {
   "cell_type": "markdown",
   "metadata": {},
   "source": [
    "Otra manera es usar update como sigue:"
   ]
  },
  {
   "cell_type": "code",
   "execution_count": 60,
   "metadata": {},
   "outputs": [],
   "source": [
    "clientes_tel.update({'cliente_4': '834-284-693'})"
   ]
  },
  {
   "cell_type": "code",
   "execution_count": 61,
   "metadata": {},
   "outputs": [
    {
     "data": {
      "text/plain": [
       "{'cliente_1': '123-000-000',\n",
       " 'cliente_2': '123-872-491',\n",
       " 'cliente_3': '879-829-660',\n",
       " 'cliente_4': '834-284-693'}"
      ]
     },
     "execution_count": 61,
     "metadata": {},
     "output_type": "execute_result"
    }
   ],
   "source": [
    "clientes_tel"
   ]
  },
  {
   "cell_type": "markdown",
   "metadata": {},
   "source": [
    "La cuestión es que update también nos permite unir diccionarios. Por ejemplo, supongamos que tenemos otro diccionario y queremos unir los dos (clientes_tel y clientes_tel2)"
   ]
  },
  {
   "cell_type": "code",
   "execution_count": 63,
   "metadata": {},
   "outputs": [],
   "source": [
    "clientes_tel2 = {'cliente_5': '73-000-000','cliente_6': '123-872-492','cliente_7': '879-829-661','cliente_8': '834-284-695'}"
   ]
  },
  {
   "cell_type": "code",
   "execution_count": 64,
   "metadata": {},
   "outputs": [],
   "source": [
    "clientes_tel.update(clientes_tel2)"
   ]
  },
  {
   "cell_type": "code",
   "execution_count": 65,
   "metadata": {},
   "outputs": [
    {
     "data": {
      "text/plain": [
       "{'cliente_1': '123-000-000',\n",
       " 'cliente_2': '123-872-491',\n",
       " 'cliente_3': '879-829-660',\n",
       " 'cliente_4': '834-284-693',\n",
       " 'cliente_5': '73-000-000',\n",
       " 'cliente_6': '123-872-492',\n",
       " 'cliente_7': '879-829-661',\n",
       " 'cliente_8': '834-284-695'}"
      ]
     },
     "execution_count": 65,
     "metadata": {},
     "output_type": "execute_result"
    }
   ],
   "source": [
    "clientes_tel"
   ]
  },
  {
   "cell_type": "code",
   "execution_count": 66,
   "metadata": {},
   "outputs": [
    {
     "data": {
      "text/html": [
       "<div>\n",
       "<style scoped>\n",
       "    .dataframe tbody tr th:only-of-type {\n",
       "        vertical-align: middle;\n",
       "    }\n",
       "\n",
       "    .dataframe tbody tr th {\n",
       "        vertical-align: top;\n",
       "    }\n",
       "\n",
       "    .dataframe thead th {\n",
       "        text-align: right;\n",
       "    }\n",
       "</style>\n",
       "<table border=\"1\" class=\"dataframe\">\n",
       "  <thead>\n",
       "    <tr style=\"text-align: right;\">\n",
       "      <th></th>\n",
       "      <th>cliente_1</th>\n",
       "      <th>cliente_2</th>\n",
       "      <th>cliente_3</th>\n",
       "      <th>cliente_4</th>\n",
       "      <th>cliente_5</th>\n",
       "      <th>cliente_6</th>\n",
       "      <th>cliente_7</th>\n",
       "      <th>cliente_8</th>\n",
       "    </tr>\n",
       "  </thead>\n",
       "  <tbody>\n",
       "    <tr>\n",
       "      <th>0</th>\n",
       "      <td>123-000-000</td>\n",
       "      <td>123-872-491</td>\n",
       "      <td>879-829-660</td>\n",
       "      <td>834-284-693</td>\n",
       "      <td>73-000-000</td>\n",
       "      <td>123-872-492</td>\n",
       "      <td>879-829-661</td>\n",
       "      <td>834-284-695</td>\n",
       "    </tr>\n",
       "  </tbody>\n",
       "</table>\n",
       "</div>"
      ],
      "text/plain": [
       "     cliente_1    cliente_2    cliente_3    cliente_4   cliente_5  \\\n",
       "0  123-000-000  123-872-491  879-829-660  834-284-693  73-000-000   \n",
       "\n",
       "     cliente_6    cliente_7    cliente_8  \n",
       "0  123-872-492  879-829-661  834-284-695  "
      ]
     },
     "execution_count": 66,
     "metadata": {},
     "output_type": "execute_result"
    }
   ],
   "source": [
    "pd.Series(clientes_tel).to_frame().transpose() #extra"
   ]
  },
  {
   "cell_type": "markdown",
   "metadata": {},
   "source": [
    "### zip()"
   ]
  },
  {
   "cell_type": "markdown",
   "metadata": {},
   "source": [
    "- El método zip() toma como argumento dos o más objetos iterables y retorna un nuevo iterable cuyos elementos son tuplas que contienen un elemento de cada uno de los iteradores originales.\n",
    "- La sintaxis es zip(iterador1,iterador2,iterador3,...)"
   ]
  },
  {
   "cell_type": "code",
   "execution_count": 69,
   "metadata": {},
   "outputs": [],
   "source": [
    "lista1=['MMM', 'ABT', 'ABBV', 'ABMD', 'ACN']\n",
    "lista2=['3M Company','Abbott Laboratories','AbbVie Inc.','ABIOMED Inc','Accenture plc']"
   ]
  },
  {
   "cell_type": "markdown",
   "metadata": {},
   "source": [
    "Queremos agrupar los elementos de la lista1 con los elementos de la lista2 de manera uno a uno."
   ]
  },
  {
   "cell_type": "code",
   "execution_count": 71,
   "metadata": {},
   "outputs": [
    {
     "data": {
      "text/plain": [
       "[('MMM', '3M Company'),\n",
       " ('ABT', 'Abbott Laboratories'),\n",
       " ('ABBV', 'AbbVie Inc.'),\n",
       " ('ABMD', 'ABIOMED Inc'),\n",
       " ('ACN', 'Accenture plc')]"
      ]
     },
     "execution_count": 71,
     "metadata": {},
     "output_type": "execute_result"
    }
   ],
   "source": [
    "list(zip(lista1,lista2))"
   ]
  },
  {
   "cell_type": "code",
   "execution_count": 72,
   "metadata": {},
   "outputs": [],
   "source": [
    "ticks=dict(zip(lista1,lista2))"
   ]
  },
  {
   "cell_type": "code",
   "execution_count": 73,
   "metadata": {},
   "outputs": [
    {
     "data": {
      "text/plain": [
       "{'MMM': '3M Company',\n",
       " 'ABT': 'Abbott Laboratories',\n",
       " 'ABBV': 'AbbVie Inc.',\n",
       " 'ABMD': 'ABIOMED Inc',\n",
       " 'ACN': 'Accenture plc'}"
      ]
     },
     "execution_count": 73,
     "metadata": {},
     "output_type": "execute_result"
    }
   ],
   "source": [
    "ticks"
   ]
  },
  {
   "cell_type": "code",
   "execution_count": 74,
   "metadata": {},
   "outputs": [],
   "source": [
    "df2=pd.Series(ticks).to_frame() "
   ]
  },
  {
   "cell_type": "code",
   "execution_count": 76,
   "metadata": {},
   "outputs": [
    {
     "data": {
      "text/html": [
       "<div>\n",
       "<style scoped>\n",
       "    .dataframe tbody tr th:only-of-type {\n",
       "        vertical-align: middle;\n",
       "    }\n",
       "\n",
       "    .dataframe tbody tr th {\n",
       "        vertical-align: top;\n",
       "    }\n",
       "\n",
       "    .dataframe thead th {\n",
       "        text-align: right;\n",
       "    }\n",
       "</style>\n",
       "<table border=\"1\" class=\"dataframe\">\n",
       "  <thead>\n",
       "    <tr style=\"text-align: right;\">\n",
       "      <th></th>\n",
       "      <th>level_0</th>\n",
       "      <th>index</th>\n",
       "      <th>0</th>\n",
       "    </tr>\n",
       "  </thead>\n",
       "  <tbody>\n",
       "    <tr>\n",
       "      <th>0</th>\n",
       "      <td>0</td>\n",
       "      <td>MMM</td>\n",
       "      <td>3M Company</td>\n",
       "    </tr>\n",
       "    <tr>\n",
       "      <th>1</th>\n",
       "      <td>1</td>\n",
       "      <td>ABT</td>\n",
       "      <td>Abbott Laboratories</td>\n",
       "    </tr>\n",
       "    <tr>\n",
       "      <th>2</th>\n",
       "      <td>2</td>\n",
       "      <td>ABBV</td>\n",
       "      <td>AbbVie Inc.</td>\n",
       "    </tr>\n",
       "    <tr>\n",
       "      <th>3</th>\n",
       "      <td>3</td>\n",
       "      <td>ABMD</td>\n",
       "      <td>ABIOMED Inc</td>\n",
       "    </tr>\n",
       "    <tr>\n",
       "      <th>4</th>\n",
       "      <td>4</td>\n",
       "      <td>ACN</td>\n",
       "      <td>Accenture plc</td>\n",
       "    </tr>\n",
       "  </tbody>\n",
       "</table>\n",
       "</div>"
      ],
      "text/plain": [
       "   level_0 index                    0\n",
       "0        0   MMM           3M Company\n",
       "1        1   ABT  Abbott Laboratories\n",
       "2        2  ABBV          AbbVie Inc.\n",
       "3        3  ABMD          ABIOMED Inc\n",
       "4        4   ACN        Accenture plc"
      ]
     },
     "execution_count": 76,
     "metadata": {},
     "output_type": "execute_result"
    }
   ],
   "source": [
    "df2.reset_index(inplace=True) #Extra\n",
    "df2"
   ]
  },
  {
   "cell_type": "code",
   "execution_count": 77,
   "metadata": {},
   "outputs": [],
   "source": [
    "df2.rename(columns={'index': 'Ticker',0: 'Name'},inplace=True)"
   ]
  },
  {
   "cell_type": "code",
   "execution_count": 78,
   "metadata": {},
   "outputs": [
    {
     "data": {
      "text/html": [
       "<div>\n",
       "<style scoped>\n",
       "    .dataframe tbody tr th:only-of-type {\n",
       "        vertical-align: middle;\n",
       "    }\n",
       "\n",
       "    .dataframe tbody tr th {\n",
       "        vertical-align: top;\n",
       "    }\n",
       "\n",
       "    .dataframe thead th {\n",
       "        text-align: right;\n",
       "    }\n",
       "</style>\n",
       "<table border=\"1\" class=\"dataframe\">\n",
       "  <thead>\n",
       "    <tr style=\"text-align: right;\">\n",
       "      <th></th>\n",
       "      <th>level_0</th>\n",
       "      <th>Ticker</th>\n",
       "      <th>Name</th>\n",
       "    </tr>\n",
       "  </thead>\n",
       "  <tbody>\n",
       "    <tr>\n",
       "      <th>0</th>\n",
       "      <td>0</td>\n",
       "      <td>MMM</td>\n",
       "      <td>3M Company</td>\n",
       "    </tr>\n",
       "    <tr>\n",
       "      <th>1</th>\n",
       "      <td>1</td>\n",
       "      <td>ABT</td>\n",
       "      <td>Abbott Laboratories</td>\n",
       "    </tr>\n",
       "    <tr>\n",
       "      <th>2</th>\n",
       "      <td>2</td>\n",
       "      <td>ABBV</td>\n",
       "      <td>AbbVie Inc.</td>\n",
       "    </tr>\n",
       "    <tr>\n",
       "      <th>3</th>\n",
       "      <td>3</td>\n",
       "      <td>ABMD</td>\n",
       "      <td>ABIOMED Inc</td>\n",
       "    </tr>\n",
       "    <tr>\n",
       "      <th>4</th>\n",
       "      <td>4</td>\n",
       "      <td>ACN</td>\n",
       "      <td>Accenture plc</td>\n",
       "    </tr>\n",
       "  </tbody>\n",
       "</table>\n",
       "</div>"
      ],
      "text/plain": [
       "   level_0 Ticker                 Name\n",
       "0        0    MMM           3M Company\n",
       "1        1    ABT  Abbott Laboratories\n",
       "2        2   ABBV          AbbVie Inc.\n",
       "3        3   ABMD          ABIOMED Inc\n",
       "4        4    ACN        Accenture plc"
      ]
     },
     "execution_count": 78,
     "metadata": {},
     "output_type": "execute_result"
    }
   ],
   "source": [
    "df2"
   ]
  },
  {
   "cell_type": "markdown",
   "metadata": {},
   "source": [
    "# Introducción"
   ]
  },
  {
   "cell_type": "markdown",
   "metadata": {},
   "source": [
    "Machine learning es subcampo de la ciencia de la computación en el cual se construyen algoritmos basados en una colección de ejemplos de algún cierto tipo. En machine learning, en general, se toma un conjunto de datos (dataset) y se crea un modelo estadístico basado en dicho conjunto. "
   ]
  },
  {
   "cell_type": "markdown",
   "metadata": {},
   "source": [
    "# Tipos de aprendizaje"
   ]
  },
  {
   "cell_type": "markdown",
   "metadata": {},
   "source": [
    "El aprendizaje puede ser:\n",
    "\n",
    "- Supervisado\n",
    "- Semi-supervisado\n",
    "- No supervisado\n",
    "- Aprendizaje por refuerzo\n",
    "\n"
   ]
  },
  {
   "cell_type": "markdown",
   "metadata": {},
   "source": [
    "### Aprendizaje supervisado\n",
    "\n",
    "\n",
    "De manera simple, el aprendizaje supervisado es aquel enel cual se entrena un algoritmo proporcionadole las características (**features**) y las respuestas conocidas como etiquetas (**labels**).\n",
    "\n",
    "El conjunto de datos es una colección de **datos etiquetados** $\\{(x_{i},y_{i})\\}_{i=1}^{N}$. Cada elemento $x_{i}$ se le conoce como **feature vector**. A feature vector es un vector en el que cada dimensión $1,\\ldots D$ contiene un valor que describe al ejemplo dado. A tal valor se le conoce como **feature** y se denota por $x^{(j)}$.\n",
    "\n",
    "Por ejemplo, si cada ejemplo $\\bf{x}$ representa una persona, entonces el primer **feature**, $x^{(1)},$ pudiera ser la estatura (en cm); la segunda **feature**, $x^{(2)}$, pudiera ser el peso en $kg$, $x^{(3)}$ pudiera contener el género y así sucesivamente. \n",
    "\n",
    "La **etiqueta** $y_{i}$ puede ser un elemento de distinta complejidad: por ejemplo, puede ser un conjunto de clases finitas, un número real, un vector, una matriz, una grafo, etc. \n",
    "\n",
    "Por ejemplo, si el conjunto de datos consiste de correos electrónicos y el problema es *spam detection*, entonces tenemos dos clases para las etiquetas {*spam*, *not_spam*}.\n",
    "\n",
    "El **objetivo** de un algoritmo de aprendizaje supervisadoes usar el conjunto de datos para producir un modelo que tome un feature vector como input y que produzca información que permita deducir la etiqueta (label) para este feature vector. \n",
    "\n",
    "Algunos ejemplos de algoritmos supervisados son:\n",
    "\n",
    "- **Regresión lineal**: se utiliza para identificar la relación lineal entre una variable dependiente y una o más variables independientes con la intención de realizar predicciones. Cuando existe una única variable independiente se conoce como regresión lineal simple. Conforme el número de variables independientes se incrementa se le conoce como regresión lineal múltiple. La idea es aproximar los datos mediante una línea recta a través del método de mínimos cuadrados.\n",
    "- **Regresión logística**: A diferencia de la regresión lineal donde la variable dependiente es continua, en la regresión logística la variable dependiente es categórica, la intención es resolver problemas de clasificación como detección de mensajes spam o morosidad.\n",
    "- **K-nearest neighbor**: Se le conoce como el algoritmo KNN, es un algoritmo no-paramétrico que clasifica los puntos del conjunto considerando la cercanía y asociación con otros datos. La idea es calcular la distancia entre los puntos y luego asignar una categoría usando la categoría más frecuente o el promedio. \n"
   ]
  },
  {
   "cell_type": "markdown",
   "metadata": {},
   "source": [
    "## Aprendizaje no supervisado\n",
    "\n",
    "En el aprendizaje no supervisado, el conjunto de datos es una colección de datos **no etiquetados**. La idea del aprendizaje no supervisado es crear un modelo cuyo input sea un **feature vector** y que lo transforme en otro vector o valor que permita resolver algún problema práctico.\n",
    "\n",
    "\n",
    "\n",
    "Algunos ejemplos de algoritmos no supervisados son:\n",
    "\n",
    "- **Clustering**: La idea es agrupar los objetos según su similaridad. Por ejemplo en medicina es de interés poder distinguir entre distintos tipos de tejido; en investigación comercial es importante poder distinguir grupos de distintos segmentos; otro ejemplo es Google News.\n",
    "- **Detección de anomalías y reducción de dimensionalidad**: Por ejemplo, detectar potencialmente fraudes en una serie de transacciones. La idea detrás de la reducción de dimensionalidad es disminuir el número de features en un conjunto de datos.\n"
   ]
  },
  {
   "cell_type": "markdown",
   "metadata": {},
   "source": [
    "# Regresión lineal simple\n",
    "\n",
    "Una regresión lineal simple es un modelo con una única variable explicativa, luego un modelo de regresión lineal tiene la forma:\n",
    "\n",
    "$$y=\\beta_{0}+\\beta_{1}X + \\epsilon$$\n",
    "\n",
    "Lo que queremos decir es que la variable $X$ xplica una parte de la variabilidad en la variable dependiente $Y$.\n",
    "\n",
    "En la práctica, rara vez tendremos una única variable explicativa, se suele usar el modelo múltiple. Sin embargo, el modelo múltiple es una extensión del simple, luego entender este último es fundamental.\n",
    "\n",
    "La idea detrás de la regresión es, dada una serie de observaciones construir la *mejor* recta que que pase a través de los datos. Por *mejor*, nos referimos a que la regresión usa el criterio de los mínimos cuadrados. Cualquier línea recta siempre tendra dos parámetros: $\\beta_{0}$ y la pendiente $\\beta_{1}$, en general esta línea podrá atravesar algunos puntos de los datos pero no necesariamente todos.\n",
    "\n",
    "Luego en general tendremos una expresión de la forma $\\hat{Y}_{i}=\\beta_{0}+\\beta_{1}X_{i}$. En general, el valor predicho $\\hat{Y}_{i}$ va a diferir del valor observado $Y_{i}$. \n",
    "\n",
    "La diferencia entre ellos es el valor **residual** \n",
    "\n",
    "$$e_{i}=Y_{i}-\\hat{Y}_{i}=Y_{i}-\\beta_{0}-\\beta_{1}X_{i}$$\n",
    "\n",
    "El método de los cuadrados mínimos determina las constantes $\\beta_{0}$ y $\\beta_{1}$ que minimizan la suma de los cuadrados $\\displaystyle \\sum_{i=1}^{n} e_{i}^{2}$.\n"
   ]
  },
  {
   "cell_type": "markdown",
   "metadata": {},
   "source": [
    "Una imagen que ilustra lo anterior"
   ]
  },
  {
   "cell_type": "code",
   "execution_count": 40,
   "metadata": {},
   "outputs": [
    {
     "data": {
      "text/html": [
       "<img src=\"https://miro.medium.com/max/1793/1*Yz6_Znyv_8yw9uJu87PAjg.png\" width=\"700\" height=\"700\"/>"
      ],
      "text/plain": [
       "<IPython.core.display.Image object>"
      ]
     },
     "execution_count": 40,
     "metadata": {},
     "output_type": "execute_result"
    }
   ],
   "source": [
    "from IPython.display import Image\n",
    "from IPython.core.display import HTML \n",
    "Image(url= \"https://miro.medium.com/max/1793/1*Yz6_Znyv_8yw9uJu87PAjg.png\", width = 700, height=700)\n",
    "# Fuente: https://www.kdnuggets.com/2020/03/linear-logistic-regression-explained.html"
   ]
  },
  {
   "cell_type": "markdown",
   "metadata": {},
   "source": [
    "El modelo de regresión lineal simple asume las siguientes condiciones:\n",
    "    \n",
    "1. **Relación lineal funcional** - La variable de respuesta debe estar linealmente relacionada con la variable explicativa.\n",
    "2. **Errores deben ser IID** - Los errores residuales deben ser independientes e idénticamente distribuidos.\n",
    "3. **Normalidad de los errores** - Los errores deben tener una distribución normal.\n",
    "4. **Homocedasticidad de los errores** - Los errores residualdes deben tener una varianza constante a través del tiempo."
   ]
  },
  {
   "cell_type": "code",
   "execution_count": 41,
   "metadata": {},
   "outputs": [
    {
     "data": {
      "image/jpeg": "[encoded data removed]",
      "text/html": [
       "\n",
       "        <iframe\n",
       "            width=\"500\"\n",
       "            height=\"400\"\n",
       "            src=\"https://www.youtube.com/embed/WA3Jhvm4W9k\"\n",
       "            frameborder=\"0\"\n",
       "            allowfullscreen\n",
       "        ></iframe>\n",
       "        "
      ],
      "text/plain": [
       "<IPython.lib.display.YouTubeVideo at 0x7ff4b3e6b710>"
      ]
     },
     "execution_count": 41,
     "metadata": {},
     "output_type": "execute_result"
    }
   ],
   "source": [
    "from IPython.display import YouTubeVideo\n",
    "# Sugiero ver el siguiente video: What's an Index?\n",
    "YouTubeVideo('WA3Jhvm4W9k', width = 500, height = 400)"
   ]
  },
  {
   "cell_type": "code",
   "execution_count": 42,
   "metadata": {},
   "outputs": [
    {
     "name": "stdout",
     "output_type": "stream",
     "text": [
      "[*********************100%***********************]  1 of 1 completed\n"
     ]
    },
    {
     "data": {
      "text/html": [
       "<div>\n",
       "<style scoped>\n",
       "    .dataframe tbody tr th:only-of-type {\n",
       "        vertical-align: middle;\n",
       "    }\n",
       "\n",
       "    .dataframe tbody tr th {\n",
       "        vertical-align: top;\n",
       "    }\n",
       "\n",
       "    .dataframe thead th {\n",
       "        text-align: right;\n",
       "    }\n",
       "</style>\n",
       "<table border=\"1\" class=\"dataframe\">\n",
       "  <thead>\n",
       "    <tr style=\"text-align: right;\">\n",
       "      <th></th>\n",
       "      <th>date</th>\n",
       "      <th>AAPL</th>\n",
       "    </tr>\n",
       "  </thead>\n",
       "  <tbody>\n",
       "    <tr>\n",
       "      <th>133</th>\n",
       "      <td>2022-07-15</td>\n",
       "      <td>150.169998</td>\n",
       "    </tr>\n",
       "    <tr>\n",
       "      <th>134</th>\n",
       "      <td>2022-07-18</td>\n",
       "      <td>147.070007</td>\n",
       "    </tr>\n",
       "    <tr>\n",
       "      <th>135</th>\n",
       "      <td>2022-07-19</td>\n",
       "      <td>151.000000</td>\n",
       "    </tr>\n",
       "    <tr>\n",
       "      <th>136</th>\n",
       "      <td>2022-07-20</td>\n",
       "      <td>153.039993</td>\n",
       "    </tr>\n",
       "    <tr>\n",
       "      <th>137</th>\n",
       "      <td>2022-07-21</td>\n",
       "      <td>155.350006</td>\n",
       "    </tr>\n",
       "  </tbody>\n",
       "</table>\n",
       "</div>"
      ],
      "text/plain": [
       "          date        AAPL\n",
       "133 2022-07-15  150.169998\n",
       "134 2022-07-18  147.070007\n",
       "135 2022-07-19  151.000000\n",
       "136 2022-07-20  153.039993\n",
       "137 2022-07-21  155.350006"
      ]
     },
     "execution_count": 42,
     "metadata": {},
     "output_type": "execute_result"
    }
   ],
   "source": [
    "import yfinance as yf\n",
    "import matplotlib as plt\n",
    "import pandas as pd\n",
    "# Obtenemos la información de los precios de APPLE (ticker AAPL) \n",
    "df =yf.download('AAPL',  start = \"2022-01-01\" , end = \"2022-07-22\")[['Adj Close']].reset_index()\n",
    "df=df.rename(columns = {'Date': 'date', 'Adj Close': 'AAPL'})\n",
    "df.tail()"
   ]
  },
  {
   "cell_type": "code",
   "execution_count": 43,
   "metadata": {},
   "outputs": [
    {
     "data": {
      "text/plain": [
       "<Figure size 1100x900 with 1 Axes>"
      ]
     },
     "metadata": {},
     "output_type": "display_data"
    }
   ],
   "source": [
    "from matplotlib import pyplot as plt\n",
    "# Visualización de los precios\n",
    "plt.style.use(\"dark_background\")\n",
    "df.set_index('date').plot(figsize=(11, 9), title='Precios de AAPL')\n",
    "plt.ylabel('Precio', fontsize=18)\n",
    "plt.xlabel('Tiempo', fontsize=18)\n",
    "plt.grid(which=\"major\", color='w', linestyle='-.', linewidth=0.5)\n",
    "plt.show()"
   ]
  },
  {
   "cell_type": "code",
   "execution_count": 44,
   "metadata": {},
   "outputs": [
    {
     "name": "stdout",
     "output_type": "stream",
     "text": [
      "[*********************100%***********************]  1 of 1 completed\n"
     ]
    },
    {
     "data": {
      "text/html": [
       "<div>\n",
       "<style scoped>\n",
       "    .dataframe tbody tr th:only-of-type {\n",
       "        vertical-align: middle;\n",
       "    }\n",
       "\n",
       "    .dataframe tbody tr th {\n",
       "        vertical-align: top;\n",
       "    }\n",
       "\n",
       "    .dataframe thead th {\n",
       "        text-align: right;\n",
       "    }\n",
       "</style>\n",
       "<table border=\"1\" class=\"dataframe\">\n",
       "  <thead>\n",
       "    <tr style=\"text-align: right;\">\n",
       "      <th></th>\n",
       "      <th>date</th>\n",
       "      <th>sp500</th>\n",
       "    </tr>\n",
       "  </thead>\n",
       "  <tbody>\n",
       "    <tr>\n",
       "      <th>133</th>\n",
       "      <td>2022-07-15</td>\n",
       "      <td>3863.159912</td>\n",
       "    </tr>\n",
       "    <tr>\n",
       "      <th>134</th>\n",
       "      <td>2022-07-18</td>\n",
       "      <td>3830.850098</td>\n",
       "    </tr>\n",
       "    <tr>\n",
       "      <th>135</th>\n",
       "      <td>2022-07-19</td>\n",
       "      <td>3936.689941</td>\n",
       "    </tr>\n",
       "    <tr>\n",
       "      <th>136</th>\n",
       "      <td>2022-07-20</td>\n",
       "      <td>3959.899902</td>\n",
       "    </tr>\n",
       "    <tr>\n",
       "      <th>137</th>\n",
       "      <td>2022-07-21</td>\n",
       "      <td>3998.949951</td>\n",
       "    </tr>\n",
       "  </tbody>\n",
       "</table>\n",
       "</div>"
      ],
      "text/plain": [
       "          date        sp500\n",
       "133 2022-07-15  3863.159912\n",
       "134 2022-07-18  3830.850098\n",
       "135 2022-07-19  3936.689941\n",
       "136 2022-07-20  3959.899902\n",
       "137 2022-07-21  3998.949951"
      ]
     },
     "execution_count": 44,
     "metadata": {},
     "output_type": "execute_result"
    }
   ],
   "source": [
    "# Ahora realizamos el proceso anterior pero con el SP500.\n",
    "sp500 = yf.download('^GSPC',  start = \"2022-01-01\" , end = \"2022-07-22\")[['Adj Close']].reset_index().dropna()\n",
    "sp500 = sp500.rename(columns = {'Date': 'date', 'Adj Close': 'sp500'})\n",
    "sp500.tail()"
   ]
  },
  {
   "cell_type": "code",
   "execution_count": 45,
   "metadata": {},
   "outputs": [
    {
     "data": {
      "image/png": "[encoded data removed]",
      "text/plain": [
       "<Figure size 792x648 with 1 Axes>"
      ]
     },
     "metadata": {},
     "output_type": "display_data"
    }
   ],
   "source": [
    "from matplotlib import pyplot as plt\n",
    "# Visualización de los valores del índice\n",
    "plt.style.use(\"dark_background\")\n",
    "sp500.set_index('date').plot(figsize=(11, 9), title='Valores del índice SP500')\n",
    "plt.ylabel('Valor', fontsize=18)\n",
    "plt.xlabel('Tiempo', fontsize=18)\n",
    "plt.grid(which=\"major\", color='w', linestyle='-.', linewidth=0.5)\n",
    "plt.show()"
   ]
  },
  {
   "cell_type": "markdown",
   "metadata": {},
   "source": [
    "La idea ahora es analizar alguna relación entre los retornos de AAPL vs los retornos del SP500."
   ]
  },
  {
   "cell_type": "code",
   "execution_count": 46,
   "metadata": {},
   "outputs": [
    {
     "data": {
      "text/html": [
       "<div>\n",
       "<style scoped>\n",
       "    .dataframe tbody tr th:only-of-type {\n",
       "        vertical-align: middle;\n",
       "    }\n",
       "\n",
       "    .dataframe tbody tr th {\n",
       "        vertical-align: top;\n",
       "    }\n",
       "\n",
       "    .dataframe thead th {\n",
       "        text-align: right;\n",
       "    }\n",
       "</style>\n",
       "<table border=\"1\" class=\"dataframe\">\n",
       "  <thead>\n",
       "    <tr style=\"text-align: right;\">\n",
       "      <th></th>\n",
       "      <th>date</th>\n",
       "      <th>AAPL</th>\n",
       "    </tr>\n",
       "  </thead>\n",
       "  <tbody>\n",
       "    <tr>\n",
       "      <th>0</th>\n",
       "      <td>2022-01-03</td>\n",
       "      <td>181.511703</td>\n",
       "    </tr>\n",
       "    <tr>\n",
       "      <th>1</th>\n",
       "      <td>2022-01-04</td>\n",
       "      <td>179.208038</td>\n",
       "    </tr>\n",
       "  </tbody>\n",
       "</table>\n",
       "</div>"
      ],
      "text/plain": [
       "        date        AAPL\n",
       "0 2022-01-03  181.511703\n",
       "1 2022-01-04  179.208038"
      ]
     },
     "execution_count": 46,
     "metadata": {},
     "output_type": "execute_result"
    }
   ],
   "source": [
    "df.head(2)"
   ]
  },
  {
   "cell_type": "code",
   "execution_count": 47,
   "metadata": {},
   "outputs": [
    {
     "data": {
      "text/html": [
       "<div>\n",
       "<style scoped>\n",
       "    .dataframe tbody tr th:only-of-type {\n",
       "        vertical-align: middle;\n",
       "    }\n",
       "\n",
       "    .dataframe tbody tr th {\n",
       "        vertical-align: top;\n",
       "    }\n",
       "\n",
       "    .dataframe thead th {\n",
       "        text-align: right;\n",
       "    }\n",
       "</style>\n",
       "<table border=\"1\" class=\"dataframe\">\n",
       "  <thead>\n",
       "    <tr style=\"text-align: right;\">\n",
       "      <th></th>\n",
       "      <th>date</th>\n",
       "      <th>sp500</th>\n",
       "    </tr>\n",
       "  </thead>\n",
       "  <tbody>\n",
       "    <tr>\n",
       "      <th>0</th>\n",
       "      <td>2022-01-03</td>\n",
       "      <td>4796.560059</td>\n",
       "    </tr>\n",
       "    <tr>\n",
       "      <th>1</th>\n",
       "      <td>2022-01-04</td>\n",
       "      <td>4793.540039</td>\n",
       "    </tr>\n",
       "  </tbody>\n",
       "</table>\n",
       "</div>"
      ],
      "text/plain": [
       "        date        sp500\n",
       "0 2022-01-03  4796.560059\n",
       "1 2022-01-04  4793.540039"
      ]
     },
     "execution_count": 47,
     "metadata": {},
     "output_type": "execute_result"
    }
   ],
   "source": [
    "sp500.head(2)"
   ]
  },
  {
   "cell_type": "code",
   "execution_count": 48,
   "metadata": {},
   "outputs": [
    {
     "data": {
      "text/plain": [
       "<matplotlib.axes._subplots.AxesSubplot at 0x7ff4b61da9b0>"
      ]
     },
     "execution_count": 48,
     "metadata": {},
     "output_type": "execute_result"
    },
    {
     "data": {
      "image/png": "[encoded data removed]",
      "text/plain": [
       "<Figure size 936x648 with 1 Axes>"
      ]
     },
     "metadata": {},
     "output_type": "display_data"
    }
   ],
   "source": [
    "#Para calcular los retornos hacemos uso del método pct_change().\n",
    "\n",
    "# Concatenamos los dos dataframes haciendo un merge sobre la columna date.\n",
    "merged = pd.merge(sp500, df, how='inner', on ='date')\n",
    "securities = ['sp500','AAPL']\n",
    "\n",
    "for element in securities:\n",
    "    merged[element + '_ret'] = merged[element].pct_change()\n",
    "\n",
    "# Quitamos la primera fila (no hay retornos)\n",
    "merged.dropna(inplace = True)\n",
    "\n",
    "# Visualizamos\n",
    "\n",
    "merged.set_index('date').loc['2022-03':][['sp500_ret','AAPL_ret']].plot(figsize=(13,9))"
   ]
  },
  {
   "cell_type": "code",
   "execution_count": 49,
   "metadata": {},
   "outputs": [],
   "source": [
    "# Exploramos si existe una relación lineal"
   ]
  },
  {
   "cell_type": "code",
   "execution_count": 50,
   "metadata": {},
   "outputs": [
    {
     "data": {
      "text/plain": [
       "<matplotlib.axes._subplots.AxesSubplot at 0x7ff4b2fb4320>"
      ]
     },
     "execution_count": 50,
     "metadata": {},
     "output_type": "execute_result"
    },
    {
     "data": {
      "image/png": "[encoded data removed]",
      "text/plain": [
       "<Figure size 720x648 with 1 Axes>"
      ]
     },
     "metadata": {},
     "output_type": "display_data"
    }
   ],
   "source": [
    "merged.plot.scatter(x='sp500_ret', y='AAPL_ret',figsize=(10,9))"
   ]
  },
  {
   "cell_type": "code",
   "execution_count": 51,
   "metadata": {},
   "outputs": [
    {
     "data": {
      "text/html": [
       "<div>\n",
       "<style scoped>\n",
       "    .dataframe tbody tr th:only-of-type {\n",
       "        vertical-align: middle;\n",
       "    }\n",
       "\n",
       "    .dataframe tbody tr th {\n",
       "        vertical-align: top;\n",
       "    }\n",
       "\n",
       "    .dataframe thead th {\n",
       "        text-align: right;\n",
       "    }\n",
       "</style>\n",
       "<table border=\"1\" class=\"dataframe\">\n",
       "  <thead>\n",
       "    <tr style=\"text-align: right;\">\n",
       "      <th></th>\n",
       "      <th>sp500_ret</th>\n",
       "      <th>AAPL_ret</th>\n",
       "    </tr>\n",
       "    <tr>\n",
       "      <th>date</th>\n",
       "      <th></th>\n",
       "      <th></th>\n",
       "    </tr>\n",
       "  </thead>\n",
       "  <tbody>\n",
       "    <tr>\n",
       "      <th>2022-01-04</th>\n",
       "      <td>-0.000630</td>\n",
       "      <td>-0.012692</td>\n",
       "    </tr>\n",
       "    <tr>\n",
       "      <th>2022-01-05</th>\n",
       "      <td>-0.019393</td>\n",
       "      <td>-0.026600</td>\n",
       "    </tr>\n",
       "    <tr>\n",
       "      <th>2022-01-06</th>\n",
       "      <td>-0.000964</td>\n",
       "      <td>-0.016693</td>\n",
       "    </tr>\n",
       "    <tr>\n",
       "      <th>2022-01-07</th>\n",
       "      <td>-0.004050</td>\n",
       "      <td>0.000988</td>\n",
       "    </tr>\n",
       "    <tr>\n",
       "      <th>2022-01-10</th>\n",
       "      <td>-0.001441</td>\n",
       "      <td>0.000116</td>\n",
       "    </tr>\n",
       "  </tbody>\n",
       "</table>\n",
       "</div>"
      ],
      "text/plain": [
       "            sp500_ret  AAPL_ret\n",
       "date                           \n",
       "2022-01-04  -0.000630 -0.012692\n",
       "2022-01-05  -0.019393 -0.026600\n",
       "2022-01-06  -0.000964 -0.016693\n",
       "2022-01-07  -0.004050  0.000988\n",
       "2022-01-10  -0.001441  0.000116"
      ]
     },
     "execution_count": 51,
     "metadata": {},
     "output_type": "execute_result"
    }
   ],
   "source": [
    "clean = merged.set_index('date')[['sp500_ret','AAPL_ret']]\n",
    "clean.head()"
   ]
  },
  {
   "cell_type": "markdown",
   "metadata": {},
   "source": [
    "Podemos usar el método de DataFrame.corr() de Pandas para calcular el coeficiente de correlación de Pearson, como sigue:"
   ]
  },
  {
   "cell_type": "code",
   "execution_count": 52,
   "metadata": {},
   "outputs": [
    {
     "data": {
      "text/html": [
       "<div>\n",
       "<style scoped>\n",
       "    .dataframe tbody tr th:only-of-type {\n",
       "        vertical-align: middle;\n",
       "    }\n",
       "\n",
       "    .dataframe tbody tr th {\n",
       "        vertical-align: top;\n",
       "    }\n",
       "\n",
       "    .dataframe thead th {\n",
       "        text-align: right;\n",
       "    }\n",
       "</style>\n",
       "<table border=\"1\" class=\"dataframe\">\n",
       "  <thead>\n",
       "    <tr style=\"text-align: right;\">\n",
       "      <th></th>\n",
       "      <th>sp500_ret</th>\n",
       "      <th>AAPL_ret</th>\n",
       "    </tr>\n",
       "    <tr>\n",
       "      <th>date</th>\n",
       "      <th></th>\n",
       "      <th></th>\n",
       "    </tr>\n",
       "  </thead>\n",
       "  <tbody>\n",
       "    <tr>\n",
       "      <th>2022-01-04</th>\n",
       "      <td>-0.000630</td>\n",
       "      <td>-0.012692</td>\n",
       "    </tr>\n",
       "    <tr>\n",
       "      <th>2022-01-05</th>\n",
       "      <td>-0.019393</td>\n",
       "      <td>-0.026600</td>\n",
       "    </tr>\n",
       "  </tbody>\n",
       "</table>\n",
       "</div>"
      ],
      "text/plain": [
       "            sp500_ret  AAPL_ret\n",
       "date                           \n",
       "2022-01-04  -0.000630 -0.012692\n",
       "2022-01-05  -0.019393 -0.026600"
      ]
     },
     "execution_count": 52,
     "metadata": {},
     "output_type": "execute_result"
    }
   ],
   "source": [
    "clean.head(2)"
   ]
  },
  {
   "cell_type": "code",
   "execution_count": 53,
   "metadata": {},
   "outputs": [
    {
     "data": {
      "text/html": [
       "<div>\n",
       "<style scoped>\n",
       "    .dataframe tbody tr th:only-of-type {\n",
       "        vertical-align: middle;\n",
       "    }\n",
       "\n",
       "    .dataframe tbody tr th {\n",
       "        vertical-align: top;\n",
       "    }\n",
       "\n",
       "    .dataframe thead th {\n",
       "        text-align: right;\n",
       "    }\n",
       "</style>\n",
       "<table border=\"1\" class=\"dataframe\">\n",
       "  <thead>\n",
       "    <tr style=\"text-align: right;\">\n",
       "      <th></th>\n",
       "      <th>sp500_ret</th>\n",
       "      <th>AAPL_ret</th>\n",
       "    </tr>\n",
       "  </thead>\n",
       "  <tbody>\n",
       "    <tr>\n",
       "      <th>sp500_ret</th>\n",
       "      <td>1.000000</td>\n",
       "      <td>0.896573</td>\n",
       "    </tr>\n",
       "    <tr>\n",
       "      <th>AAPL_ret</th>\n",
       "      <td>0.896573</td>\n",
       "      <td>1.000000</td>\n",
       "    </tr>\n",
       "  </tbody>\n",
       "</table>\n",
       "</div>"
      ],
      "text/plain": [
       "           sp500_ret  AAPL_ret\n",
       "sp500_ret   1.000000  0.896573\n",
       "AAPL_ret    0.896573  1.000000"
      ]
     },
     "execution_count": 53,
     "metadata": {},
     "output_type": "execute_result"
    }
   ],
   "source": [
    "clean.corr()"
   ]
  },
  {
   "cell_type": "code",
   "execution_count": 54,
   "metadata": {},
   "outputs": [
    {
     "data": {
      "text/plain": [
       "0.8965731228481361"
      ]
     },
     "execution_count": 54,
     "metadata": {},
     "output_type": "execute_result"
    }
   ],
   "source": [
    "# Una correlación no muy alta:\n",
    "clean.sp500_ret.corr(clean.AAPL_ret) "
   ]
  },
  {
   "cell_type": "code",
   "execution_count": 55,
   "metadata": {},
   "outputs": [],
   "source": [
    "from sklearn.model_selection import train_test_split\n",
    "\n",
    "# Definimos el dataframe que contiene los \"features\", e.g. las variables explicativas. \n",
    "features = clean[['sp500_ret']]\n",
    "target = clean[['AAPL_ret']]\n",
    "\n",
    "# Dividimos training y test set.\n",
    "X_train, X_test, Y_train, Y_test = train_test_split(features,target,test_size = 0.2)"
   ]
  },
  {
   "cell_type": "code",
   "execution_count": 56,
   "metadata": {},
   "outputs": [
    {
     "data": {
      "text/plain": [
       "LinearRegression(copy_X=True, fit_intercept=True, n_jobs=None,\n",
       "         normalize=False)"
      ]
     },
     "execution_count": 56,
     "metadata": {},
     "output_type": "execute_result"
    }
   ],
   "source": [
    "from sklearn.linear_model import LinearRegression\n",
    "\n",
    "# Creamos una instancia de LinearRegression.\n",
    "lr = LinearRegression()\n",
    "# Ahora corremos la regresión sobre nuestro subconjunto de entrenamiento (training set).\n",
    "lr.fit(X_train, Y_train)"
   ]
  },
  {
   "cell_type": "code",
   "execution_count": 57,
   "metadata": {},
   "outputs": [
    {
     "name": "stdout",
     "output_type": "stream",
     "text": [
      "LR Coefficients: \n",
      " [[1.28491198]]\n",
      "\n",
      "LR Intercept: \n",
      " [0.00093546]\n"
     ]
    }
   ],
   "source": [
    "# Podemos ver los coeficientes de la regresión, el primero es la pendiente y el segundo es la intersección con el eje y (ordenada al origen.)\n",
    "print('LR Coefficients: \\n', lr.coef_)\n",
    "print()\n",
    "print('LR Intercept: \\n', lr.intercept_)"
   ]
  },
  {
   "cell_type": "code",
   "execution_count": 58,
   "metadata": {},
   "outputs": [
    {
     "data": {
      "image/png": "[encoded data removed]",
      "text/plain": [
       "<Figure size 792x648 with 1 Axes>"
      ]
     },
     "metadata": {},
     "output_type": "display_data"
    }
   ],
   "source": [
    "from matplotlib import pyplot as plt\n",
    "y_predicted=lr.predict(X_test)\n",
    "plt.figure(figsize=(11,9))\n",
    "plt.scatter(features,target ,color='y')\n",
    "plt.plot(X_test, y_predicted ,color='r')\n",
    "plt.show()"
   ]
  },
  {
   "cell_type": "code",
   "execution_count": 59,
   "metadata": {},
   "outputs": [
    {
     "name": "stdout",
     "output_type": "stream",
     "text": [
      "R^2:  0.8267537164872354\n"
     ]
    }
   ],
   "source": [
    "from sklearn.metrics import r2_score\n",
    "print(\"R^2: \", r2_score(Y_test, y_predicted))"
   ]
  },
  {
   "cell_type": "code",
   "execution_count": 60,
   "metadata": {},
   "outputs": [
    {
     "name": "stdout",
     "output_type": "stream",
     "text": [
      "1.272349606441934\n"
     ]
    }
   ],
   "source": [
    "beta = clean.sp500_ret.cov(clean.AAPL_ret) / clean['sp500_ret'].var()\n",
    "print(beta)"
   ]
  },
  {
   "cell_type": "code",
   "execution_count": 61,
   "metadata": {},
   "outputs": [
    {
     "name": "stdout",
     "output_type": "stream",
     "text": [
      "{'zip': '95014', 'sector': 'Technology', 'fullTimeEmployees': 154000, 'longBusinessSummary': 'Apple Inc. designs, manufactures, and markets smartphones, personal computers, tablets, wearables, and accessories worldwide. It also sells various related services. In addition, the company offers iPhone, a line of smartphones; Mac, a line of personal computers; iPad, a line of multi-purpose tablets; AirPods Max, an over-ear wireless headphone; and wearables, home, and accessories comprising AirPods, Apple TV, Apple Watch, Beats products, HomePod, and iPod touch. Further, it provides AppleCare support services; cloud services store services; and operates various platforms, including the App Store that allow customers to discover and download applications and digital content, such as books, music, video, games, and podcasts. Additionally, the company offers various services, such as Apple Arcade, a game subscription service; Apple Music, which offers users a curated listening experience with on-demand radio stations; Apple News+, a subscription news and magazine service; Apple TV+, which offers exclusive original content; Apple Card, a co-branded credit card; and Apple Pay, a cashless payment service, as well as licenses its intellectual property. The company serves consumers, and small and mid-sized businesses; and the education, enterprise, and government markets. It distributes third-party applications for its products through the App Store. The company also sells its products through its retail and online stores, and direct sales force; and third-party cellular network carriers, wholesalers, retailers, and resellers. Apple Inc. was incorporated in 1977 and is headquartered in Cupertino, California.', 'city': 'Cupertino', 'phone': '408 996 1010', 'state': 'CA', 'country': 'United States', 'companyOfficers': [], 'website': 'https://www.apple.com', 'maxAge': 1, 'address1': 'One Apple Park Way', 'industry': 'Consumer Electronics', 'ebitdaMargins': 0.33842, 'profitMargins': 0.26407, 'grossMargins': 0.43322, 'operatingCashflow': 116425998336, 'revenueGrowth': 0.086, 'operatingMargins': 0.30926, 'ebitda': 130633998336, 'targetLowPrice': 130, 'recommendationKey': 'buy', 'grossProfits': 152836000000, 'freeCashflow': 84384628736, 'targetMedianPrice': 185, 'currentPrice': 154.09, 'earningsGrowth': 0.086, 'currentRatio': 0.927, 'returnOnAssets': 0.21695, 'numberOfAnalystOpinions': 43, 'targetMeanPrice': 183.29, 'debtToEquity': 178.016, 'returnOnEquity': 1.49271, 'targetHighPrice': 214, 'totalCash': 51511001088, 'totalDebt': 119980998656, 'totalRevenue': 386017001472, 'totalCashPerShare': 3.183, 'financialCurrency': 'USD', 'revenuePerShare': 23.471, 'quickRatio': 0.76, 'recommendationMean': 1.9, 'exchange': 'NMS', 'shortName': 'Apple Inc.', 'longName': 'Apple Inc.', 'exchangeTimezoneName': 'America/New_York', 'exchangeTimezoneShortName': 'EDT', 'isEsgPopulated': False, 'gmtOffSetMilliseconds': '-14400000', 'quoteType': 'EQUITY', 'symbol': 'AAPL', 'messageBoardId': 'finmb_24937', 'market': 'us_market', 'annualHoldingsTurnover': None, 'enterpriseToRevenue': 6.638, 'beta3Year': None, 'enterpriseToEbitda': 19.615, '52WeekChange': 0.03423047, 'morningStarRiskRating': None, 'forwardEps': 6.51, 'revenueQuarterlyGrowth': None, 'sharesOutstanding': 16185199616, 'fundInceptionDate': None, 'annualReportExpenseRatio': None, 'totalAssets': None, 'bookValue': 4.158, 'sharesShort': 112994371, 'sharesPercentSharesOut': 0.0069999998, 'fundFamily': None, 'lastFiscalYearEnd': 1632528000, 'heldPercentInstitutions': 0.59727, 'netIncomeToCommon': 101934997504, 'trailingEps': 6.15, 'lastDividendValue': 0.23, 'SandP52WeekChange': -0.104169786, 'priceToBook': 37.05868, 'heldPercentInsiders': 0.00072999997, 'nextFiscalYearEnd': 1695600000, 'yield': None, 'mostRecentQuarter': 1648252800, 'shortRatio': 1.34, 'sharesShortPreviousMonthDate': 1653955200, 'floatShares': 16168348412, 'beta': 1.19455, 'enterpriseValue': 2562444492800, 'priceHint': 2, 'threeYearAverageReturn': None, 'lastSplitDate': 1598832000, 'lastSplitFactor': '4:1', 'legalType': None, 'lastDividendDate': 1651795200, 'morningStarOverallRating': None, 'earningsQuarterlyGrowth': 0.058, 'priceToSalesTrailing12Months': 6.460797, 'dateShortInterest': 1656547200, 'pegRatio': 2.56, 'ytdReturn': None, 'forwardPE': 23.669737, 'lastCapGain': None, 'shortPercentOfFloat': 0.0069999998, 'sharesShortPriorMonth': 113283277, 'impliedSharesOutstanding': 0, 'category': None, 'fiveYearAverageReturn': None, 'previousClose': 155.35, 'regularMarketOpen': 155.39, 'twoHundredDayAverage': 158.59525, 'trailingAnnualDividendYield': 0.005664628, 'payoutRatio': 0.14310001, 'volume24Hr': None, 'regularMarketDayHigh': 156.28, 'navPrice': None, 'averageDailyVolume10Day': 72702620, 'regularMarketPreviousClose': 155.35, 'fiftyDayAverage': 143.2188, 'trailingAnnualDividendRate': 0.88, 'open': 155.39, 'toCurrency': None, 'averageVolume10days': 72702620, 'expireDate': None, 'algorithm': None, 'dividendRate': 0.92, 'exDividendDate': 1651795200, 'circulatingSupply': None, 'startDate': None, 'regularMarketDayLow': 153.4101, 'currency': 'USD', 'trailingPE': 25.055285, 'regularMarketVolume': 66675408, 'lastMarket': None, 'maxSupply': None, 'openInterest': None, 'marketCap': 2493977460736, 'volumeAllCurrencies': None, 'strikePrice': None, 'averageVolume': 93032838, 'dayLow': 153.4101, 'ask': 153.91, 'askSize': 800, 'volume': 66675408, 'fiftyTwoWeekHigh': 182.94, 'fromCurrency': None, 'fiveYearAvgDividendYield': 1.07, 'fiftyTwoWeekLow': 129.04, 'bid': 153.87, 'tradeable': False, 'dividendYield': 0.006, 'bidSize': 1100, 'dayHigh': 156.28, 'coinMarketCapLink': None, 'regularMarketPrice': 154.09, 'preMarketPrice': None, 'logo_url': 'https://logo.clearbit.com/apple.com', 'trailingPegRatio': 2.6658}\n"
     ]
    }
   ],
   "source": [
    "explore =yf.Ticker('AAPL').info\n",
    "print(explore)"
   ]
  },
  {
   "cell_type": "code",
   "execution_count": 62,
   "metadata": {},
   "outputs": [
    {
     "name": "stdout",
     "output_type": "stream",
     "text": [
      "beta3Year\n",
      "beta\n"
     ]
    }
   ],
   "source": [
    "for element in explore.keys():\n",
    "    if 'beta' in element.lower():\n",
    "        print(element)"
   ]
  },
  {
   "cell_type": "code",
   "execution_count": 63,
   "metadata": {},
   "outputs": [
    {
     "data": {
      "text/plain": [
       "1.19455"
      ]
     },
     "execution_count": 63,
     "metadata": {},
     "output_type": "execute_result"
    }
   ],
   "source": [
    "explore['beta']"
   ]
  },
  {
   "cell_type": "markdown",
   "metadata": {},
   "source": [
    "Recordemos que una de las hipótesis de la regresión lineal es que los residuales deben tener una **distribución normal**."
   ]
  },
  {
   "cell_type": "code",
   "execution_count": 64,
   "metadata": {},
   "outputs": [
    {
     "data": {
      "text/plain": [
       "array([[<matplotlib.axes._subplots.AxesSubplot object at 0x7ff4b80c37b8>]],\n",
       "      dtype=object)"
      ]
     },
     "execution_count": 64,
     "metadata": {},
     "output_type": "execute_result"
    },
    {
     "data": {
      "image/png": "[encoded data removed]",
      "text/plain": [
       "<Figure size 936x576 with 1 Axes>"
      ]
     },
     "metadata": {},
     "output_type": "display_data"
    }
   ],
   "source": [
    "resid =  y_predicted - Y_test\n",
    "pd.DataFrame(resid).hist(figsize=(13,8))"
   ]
  },
  {
   "cell_type": "markdown",
   "metadata": {},
   "source": [
    "Una prueba estadística para la normalidad es la de **Jarque-Bera**."
   ]
  },
  {
   "cell_type": "code",
   "execution_count": 65,
   "metadata": {},
   "outputs": [
    {
     "name": "stdout",
     "output_type": "stream",
     "text": [
      "(array([0.70195759]), array([0.70399868]), array([-0.18596135]), array([2.31930077]))\n"
     ]
    }
   ],
   "source": [
    "\n",
    "from statsmodels.compat import lzip\n",
    "import statsmodels.stats.api as sms\n",
    "\n",
    "name = ['Jarque-Bera test statistic', 'p-value of the test statistic', 'Estimated skewness','Estimated Kurtosis']\n",
    "test = sms.jarque_bera(resid)\n",
    "print(test)"
   ]
  },
  {
   "cell_type": "markdown",
   "metadata": {},
   "source": [
    "Hay varias pruebas para revisar la hipótesis de **homocedasticidad de los errores**. \n",
    "\n",
    "Una de ellas es la prueba de **Goldfeld–Quandt** la cual se puede implementar como sigue."
   ]
  },
  {
   "cell_type": "code",
   "execution_count": 66,
   "metadata": {},
   "outputs": [
    {
     "data": {
      "text/plain": [
       "[('F statistic', 0.5876851004445421), ('p-value', 0.8250328074860482)]"
      ]
     },
     "execution_count": 66,
     "metadata": {},
     "output_type": "execute_result"
    }
   ],
   "source": [
    "import statsmodels.stats.api as sms\n",
    "from statsmodels.compat import lzip\n",
    "name = ['F statistic', 'p-value']\n",
    "test = sms.het_goldfeldquandt(resid, X_test)\n",
    "lzip(name, test)"
   ]
  },
  {
   "cell_type": "markdown",
   "metadata": {},
   "source": [
    "Finalmente recordemos que otro supuesto es que no existe correlación entre los residuales, para ello podemos utilizar una gráfica de ACF."
   ]
  },
  {
   "cell_type": "code",
   "execution_count": 67,
   "metadata": {},
   "outputs": [
    {
     "data": {
      "image/png": "[encoded data removed]",
      "text/plain": [
       "<Figure size 432x288 with 1 Axes>"
      ]
     },
     "metadata": {},
     "output_type": "display_data"
    }
   ],
   "source": [
    "# ACF\n",
    "import statsmodels.api as sm\n",
    "sm.graphics.tsa.plot_acf(resid, lags=20)\n",
    "plt.show()"
   ]
  },
  {
   "cell_type": "code",
   "execution_count": 68,
   "metadata": {},
   "outputs": [
    {
     "data": {
      "text/plain": [
       "array([1.87675584])"
      ]
     },
     "execution_count": 68,
     "metadata": {},
     "output_type": "execute_result"
    }
   ],
   "source": [
    "import statsmodels\n",
    "statsmodels.stats.stattools.durbin_watson(resid)"
   ]
  },
  {
   "cell_type": "markdown",
   "metadata": {},
   "source": [
    "Calculemos ahora beta pero para **SH**."
   ]
  },
  {
   "cell_type": "code",
   "execution_count": 69,
   "metadata": {},
   "outputs": [
    {
     "name": "stdout",
     "output_type": "stream",
     "text": [
      "[*********************100%***********************]  1 of 1 completed\n"
     ]
    },
    {
     "data": {
      "text/html": [
       "<div>\n",
       "<style scoped>\n",
       "    .dataframe tbody tr th:only-of-type {\n",
       "        vertical-align: middle;\n",
       "    }\n",
       "\n",
       "    .dataframe tbody tr th {\n",
       "        vertical-align: top;\n",
       "    }\n",
       "\n",
       "    .dataframe thead th {\n",
       "        text-align: right;\n",
       "    }\n",
       "</style>\n",
       "<table border=\"1\" class=\"dataframe\">\n",
       "  <thead>\n",
       "    <tr style=\"text-align: right;\">\n",
       "      <th></th>\n",
       "      <th>date</th>\n",
       "      <th>SH</th>\n",
       "    </tr>\n",
       "  </thead>\n",
       "  <tbody>\n",
       "    <tr>\n",
       "      <th>0</th>\n",
       "      <td>2021-12-01</td>\n",
       "      <td>14.46</td>\n",
       "    </tr>\n",
       "    <tr>\n",
       "      <th>1</th>\n",
       "      <td>2021-12-02</td>\n",
       "      <td>14.22</td>\n",
       "    </tr>\n",
       "    <tr>\n",
       "      <th>2</th>\n",
       "      <td>2021-12-03</td>\n",
       "      <td>14.36</td>\n",
       "    </tr>\n",
       "    <tr>\n",
       "      <th>3</th>\n",
       "      <td>2021-12-06</td>\n",
       "      <td>14.19</td>\n",
       "    </tr>\n",
       "    <tr>\n",
       "      <th>4</th>\n",
       "      <td>2021-12-07</td>\n",
       "      <td>13.90</td>\n",
       "    </tr>\n",
       "  </tbody>\n",
       "</table>\n",
       "</div>"
      ],
      "text/plain": [
       "        date     SH\n",
       "0 2021-12-01  14.46\n",
       "1 2021-12-02  14.22\n",
       "2 2021-12-03  14.36\n",
       "3 2021-12-06  14.19\n",
       "4 2021-12-07  13.90"
      ]
     },
     "execution_count": 69,
     "metadata": {},
     "output_type": "execute_result"
    }
   ],
   "source": [
    "ejemplo_2 = yf.download('SH',  start = \"2021-12-01\" , end = \"2022-07-01\")[['Adj Close']].reset_index().dropna()\n",
    "ejemplo_2 = ejemplo_2.rename(columns = {'Date': 'date', 'Adj Close': 'SH'})\n",
    "ejemplo_2.head()"
   ]
  },
  {
   "cell_type": "markdown",
   "metadata": {},
   "source": [
    "## Pregunta\n",
    "\n",
    "¿Tienen sentido los siguientes gráficos? Justificar."
   ]
  },
  {
   "cell_type": "code",
   "execution_count": 70,
   "metadata": {},
   "outputs": [
    {
     "data": {
      "text/plain": [
       "<matplotlib.axes._subplots.AxesSubplot at 0x7ff4b998a240>"
      ]
     },
     "execution_count": 70,
     "metadata": {},
     "output_type": "execute_result"
    },
    {
     "data": {
      "image/png": "[encoded data removed]",
      "text/plain": [
       "<Figure size 720x648 with 1 Axes>"
      ]
     },
     "metadata": {},
     "output_type": "display_data"
    }
   ],
   "source": [
    "merged_2 = pd.merge(sp500, ejemplo_2, how='inner', on ='date')\n",
    "merged_2['sp500_ret'] = merged_2['sp500'].pct_change().dropna()*100\n",
    "merged_2['SH_ret'] = merged_2['SH'].pct_change().dropna()*100\n",
    "merged_2.set_index('date').loc['2022-06':][['sp500_ret','SH_ret']].plot(figsize=(10,9))"
   ]
  },
  {
   "cell_type": "code",
   "execution_count": 71,
   "metadata": {},
   "outputs": [
    {
     "data": {
      "text/plain": [
       "<matplotlib.axes._subplots.AxesSubplot at 0x7ff4b9a4c588>"
      ]
     },
     "execution_count": 71,
     "metadata": {},
     "output_type": "execute_result"
    },
    {
     "data": {
      "image/png": "[encoded data removed]",
      "text/plain": [
       "<Figure size 936x648 with 1 Axes>"
      ]
     },
     "metadata": {},
     "output_type": "display_data"
    }
   ],
   "source": [
    "merged_2.plot.scatter(x='sp500_ret', y='SH_ret',figsize=(13,9))"
   ]
  },
  {
   "cell_type": "code",
   "execution_count": 72,
   "metadata": {},
   "outputs": [
    {
     "name": "stdout",
     "output_type": "stream",
     "text": [
      "-1.0050902585683135\n"
     ]
    }
   ],
   "source": [
    "clean_2 = merged_2.set_index('date')[['sp500_ret','SH_ret']].dropna()\n",
    "beta_SH = clean_2.sp500_ret.cov(clean_2.SH_ret) / clean_2['sp500_ret'].var()\n",
    "print(beta_SH)"
   ]
  },
  {
   "cell_type": "code",
   "execution_count": 73,
   "metadata": {},
   "outputs": [],
   "source": [
    "SH_info = yf.Ticker('SH').info"
   ]
  },
  {
   "cell_type": "code",
   "execution_count": 74,
   "metadata": {},
   "outputs": [
    {
     "name": "stdout",
     "output_type": "stream",
     "text": [
      "beta3Year: -0.9\n",
      "\n",
      "longBusinessSummary: The fund invests in financial instruments that ProShare Advisors believes, in combination, should produce daily returns consistent with the fund's investment objective. The index is a measure of large-cap U.S. stock market performance. It is a float-adjusted, market capitalization-weighted index of 500 U.S. operating companies and real estate investment trusts selected through a process that factors in criteria such as liquidity, price, market capitalization, financial viability and public float. The fund is non-diversified.\n",
      "\n"
     ]
    }
   ],
   "source": [
    "for key in SH_info.keys():\n",
    "    if key in ['beta3Year','longBusinessSummary']:\n",
    "        print(key + ':',SH_info[key])\n",
    "        print()"
   ]
  }
 ],
 "metadata": {
  "kernelspec": {
   "display_name": "Python 3",
   "language": "python",
   "name": "python3"
  },
  "language_info": {
   "codemirror_mode": {
    "name": "ipython",
    "version": 3
   },
   "file_extension": ".py",
   "mimetype": "text/x-python",
   "name": "python",
   "nbconvert_exporter": "python",
   "pygments_lexer": "ipython3",
   "version": "3.7.3"
  }
 },
 "nbformat": 4,
 "nbformat_minor": 2
}
