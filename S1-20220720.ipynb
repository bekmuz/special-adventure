{
 "cells": [
  {
   "cell_type": "markdown",
   "metadata": {},
   "source": [
    "<h1><center>EGADE - AD5156.70. Aplicaciones de analítica de datos a los negocios II </center></h1>\n",
    "<h1><center>Sesión 1:  Miércoles 20 de julio de 2022 </center></h1>\n",
    "<h1><center>Tema: Introducción a Python y tipos de datos </center></h1>\n",
    "<h1><center>dlopez.aguayo@tec.mx</center></h1>"
   ]
  },
  {
   "cell_type": "markdown",
   "metadata": {},
   "source": [
    "# Introducción"
   ]
  },
  {
   "cell_type": "markdown",
   "metadata": {},
   "source": [
    "Python es un lenguaje de programación desarollado por Guido van Rossum en 1991. Algunas de sus aplicaciones son:\n",
    "\n",
    "- Análisis de datos y aprendizaje automático.\n",
    "- Desarrollo de aplicaciones web y workflows.\n",
    "- Conexión a bases de datos.\n",
    "- Python puede trabajar con un gran volumen de datos así, en el caso de tipo numérico, manipular los mismos usando matemáticas. \n",
    "\n",
    "y muchas más.\n",
    "\n",
    "Una de las grandes ventajas de Python es su sencillez y sintaxis similar al inglés. En Python, es posible escribir códigos que en otros lenguajes tomarían una cantidad significativa de líneas."
   ]
  },
  {
   "cell_type": "markdown",
   "metadata": {},
   "source": [
    "# Aritmética"
   ]
  },
  {
   "cell_type": "markdown",
   "metadata": {},
   "source": [
    "- **Suma**\n",
    "\n",
    "La suma se denota con el símbolo usual de +.\n"
   ]
  },
  {
   "cell_type": "code",
   "execution_count": 109,
   "metadata": {},
   "outputs": [
    {
     "data": {
      "text/plain": [
       "1245"
      ]
     },
     "execution_count": 109,
     "metadata": {},
     "output_type": "execute_result"
    }
   ],
   "source": [
    "234+1000+11"
   ]
  },
  {
   "cell_type": "markdown",
   "metadata": {},
   "source": [
    "- **Resta** \n",
    "\n",
    "La sustracción se denota con el símbolo usual de  -."
   ]
  },
  {
   "cell_type": "code",
   "execution_count": 110,
   "metadata": {},
   "outputs": [
    {
     "data": {
      "text/plain": [
       "-743"
      ]
     },
     "execution_count": 110,
     "metadata": {},
     "output_type": "execute_result"
    }
   ],
   "source": [
    "23-424-342"
   ]
  },
  {
   "cell_type": "markdown",
   "metadata": {},
   "source": [
    "- **Producto** \n",
    "\n",
    "La multiplicación se denota con el símbolo de *."
   ]
  },
  {
   "cell_type": "code",
   "execution_count": 111,
   "metadata": {},
   "outputs": [
    {
     "data": {
      "text/plain": [
       "196"
      ]
     },
     "execution_count": 111,
     "metadata": {},
     "output_type": "execute_result"
    }
   ],
   "source": [
    "98*2"
   ]
  },
  {
   "cell_type": "markdown",
   "metadata": {},
   "source": [
    "- **División**\n",
    "\n",
    "Dicha operación se denota con /. Por ejemplo, 10/2 = 5."
   ]
  },
  {
   "cell_type": "code",
   "execution_count": 112,
   "metadata": {},
   "outputs": [
    {
     "data": {
      "text/plain": [
       "3.3333333333333335"
      ]
     },
     "execution_count": 112,
     "metadata": {},
     "output_type": "execute_result"
    }
   ],
   "source": [
    "10/3"
   ]
  },
  {
   "cell_type": "markdown",
   "metadata": {},
   "source": [
    "- **División entera**\n",
    "\n",
    "Es similar a la división pero eliminamos la parte fraccionaria (lo que está después del punto decimal).\n",
    "\n"
   ]
  },
  {
   "cell_type": "code",
   "execution_count": 113,
   "metadata": {},
   "outputs": [
    {
     "name": "stdout",
     "output_type": "stream",
     "text": [
      "6.666666666666667\n",
      "6\n"
     ]
    }
   ],
   "source": [
    "print(20/3)\n",
    "print(20//3)"
   ]
  },
  {
   "cell_type": "markdown",
   "metadata": {},
   "source": [
    "- **Exponenciación**\n",
    "\n",
    "Se puede utilizar ** (doble asterisco) o bien el comando pow(a,b) donde a representa la base y b el exponente; es decir, pow(a,b)= a^b."
   ]
  },
  {
   "cell_type": "markdown",
   "metadata": {},
   "source": [
    "**Nota**: En Python podemos agregar comentarios usando # para que nuestro código sea autodescriptivo."
   ]
  },
  {
   "cell_type": "code",
   "execution_count": 114,
   "metadata": {},
   "outputs": [
    {
     "data": {
      "text/plain": [
       "8"
      ]
     },
     "execution_count": 114,
     "metadata": {},
     "output_type": "execute_result"
    }
   ],
   "source": [
    "#La siguiente sección realizara la operación de 2 elevado a la potencia 3 (al cubo).\n",
    "2**3 "
   ]
  },
  {
   "cell_type": "code",
   "execution_count": 115,
   "metadata": {},
   "outputs": [
    {
     "name": "stdout",
     "output_type": "stream",
     "text": [
      "8\n",
      "1\n"
     ]
    }
   ],
   "source": [
    "#Otra manera de hacer esto, es usar el comando pow\n",
    "\n",
    "print(pow(2,3)) \n",
    "print(pow(2,0))"
   ]
  },
  {
   "cell_type": "code",
   "execution_count": 116,
   "metadata": {},
   "outputs": [
    {
     "data": {
      "text/plain": [
       "4.0"
      ]
     },
     "execution_count": 116,
     "metadata": {},
     "output_type": "execute_result"
    }
   ],
   "source": [
    "#Recordar que elevar un número a la potencia 1/2 es equivalente a sacar la raíz cuadrada del número.\n",
    "\n",
    "16**(1/2)"
   ]
  },
  {
   "cell_type": "code",
   "execution_count": 117,
   "metadata": {},
   "outputs": [
    {
     "data": {
      "text/plain": [
       "2.0"
      ]
     },
     "execution_count": 117,
     "metadata": {},
     "output_type": "execute_result"
    }
   ],
   "source": [
    "#Lo mismo con otras potencias, por ejemplo:\n",
    "8**(1/3)"
   ]
  },
  {
   "cell_type": "markdown",
   "metadata": {},
   "source": [
    "- **Radicación**\n",
    "\n",
    "Para calcular raíces, es posible hacer uso de la exponenciación (¿cómo?). Si queremos calcular raíces cuadradas lo podemos hacer importando la librería math (después tendremos una sesión de librerías)."
   ]
  },
  {
   "cell_type": "code",
   "execution_count": 118,
   "metadata": {},
   "outputs": [
    {
     "data": {
      "text/plain": [
       "2.0"
      ]
     },
     "execution_count": 118,
     "metadata": {},
     "output_type": "execute_result"
    }
   ],
   "source": [
    "8**(1/3)"
   ]
  },
  {
   "cell_type": "code",
   "execution_count": 119,
   "metadata": {},
   "outputs": [
    {
     "data": {
      "text/plain": [
       "0.7071067811865476"
      ]
     },
     "execution_count": 119,
     "metadata": {},
     "output_type": "execute_result"
    }
   ],
   "source": [
    "#Otra manera es importar librerias\n",
    "#Una muy usada es la librería \"math\"\n",
    "\n",
    "# Cargamos la librería math\n",
    "import math \n",
    "math.sqrt(1/2)"
   ]
  },
  {
   "cell_type": "markdown",
   "metadata": {},
   "source": [
    "Una pregunta natural, es ¿cómo podemos ver los contenidos de una librería?"
   ]
  },
  {
   "cell_type": "code",
   "execution_count": 120,
   "metadata": {},
   "outputs": [
    {
     "name": "stdout",
     "output_type": "stream",
     "text": [
      "['__doc__', '__file__', '__loader__', '__name__', '__package__', '__spec__', 'acos', 'acosh', 'asin', 'asinh', 'atan', 'atan2', 'atanh', 'ceil', 'copysign', 'cos', 'cosh', 'degrees', 'e', 'erf', 'erfc', 'exp', 'expm1', 'fabs', 'factorial', 'floor', 'fmod', 'frexp', 'fsum', 'gamma', 'gcd', 'hypot', 'inf', 'isclose', 'isfinite', 'isinf', 'isnan', 'ldexp', 'lgamma', 'log', 'log10', 'log1p', 'log2', 'modf', 'nan', 'pi', 'pow', 'radians', 'remainder', 'sin', 'sinh', 'sqrt', 'tan', 'tanh', 'tau', 'trunc']\n"
     ]
    }
   ],
   "source": [
    "print(dir(math)) "
   ]
  },
  {
   "cell_type": "code",
   "execution_count": 121,
   "metadata": {},
   "outputs": [
    {
     "name": "stdout",
     "output_type": "stream",
     "text": [
      "Help on built-in function factorial in module math:\n",
      "\n",
      "factorial(x, /)\n",
      "    Find x!.\n",
      "    \n",
      "    Raise a ValueError if x is negative or non-integral.\n",
      "\n"
     ]
    }
   ],
   "source": [
    "#Podemos explorar las funciones mediante el uso de help como abajo se muestra.\n",
    "help(math.factorial)"
   ]
  },
  {
   "cell_type": "markdown",
   "metadata": {},
   "source": [
    "- El número e\n",
    "\n",
    "Para utilizar dicho número tenemos que hacer uso de la librería math, que anteriormente vimos que se importa usando \"import math\"."
   ]
  },
  {
   "cell_type": "code",
   "execution_count": 122,
   "metadata": {},
   "outputs": [
    {
     "name": "stdout",
     "output_type": "stream",
     "text": [
      "2.718281828459045\n",
      "3.141592653589793\n"
     ]
    }
   ],
   "source": [
    "import math #Solo es necesario importar la librería una vez, realmente ya no es necesario hacerlo aquí.\n",
    "print(math.exp(1))  #Lo que hara es e elevado a la potencia 1.\n",
    "print(math.pi)"
   ]
  },
  {
   "cell_type": "markdown",
   "metadata": {},
   "source": [
    "- **Logaritmos**"
   ]
  },
  {
   "cell_type": "code",
   "execution_count": 123,
   "metadata": {},
   "outputs": [
    {
     "data": {
      "text/plain": [
       "0.0"
      ]
     },
     "execution_count": 123,
     "metadata": {},
     "output_type": "execute_result"
    }
   ],
   "source": [
    "math.log(1)"
   ]
  },
  {
   "cell_type": "code",
   "execution_count": 124,
   "metadata": {},
   "outputs": [
    {
     "data": {
      "text/plain": [
       "1.0"
      ]
     },
     "execution_count": 124,
     "metadata": {},
     "output_type": "execute_result"
    }
   ],
   "source": [
    "math.log(math.exp(1))"
   ]
  },
  {
   "cell_type": "code",
   "execution_count": 125,
   "metadata": {},
   "outputs": [
    {
     "data": {
      "text/plain": [
       "\u001b[0;31mDocstring:\u001b[0m\n",
       "log(x, [base=math.e])\n",
       "Return the logarithm of x to the given base.\n",
       "\n",
       "If the base not specified, returns the natural logarithm (base e) of x.\n",
       "\u001b[0;31mType:\u001b[0m      builtin_function_or_method\n"
      ]
     },
     "metadata": {},
     "output_type": "display_data"
    }
   ],
   "source": [
    "?math.log"
   ]
  },
  {
   "cell_type": "code",
   "execution_count": 126,
   "metadata": {},
   "outputs": [
    {
     "name": "stdout",
     "output_type": "stream",
     "text": [
      "Help on built-in function log in module math:\n",
      "\n",
      "log(...)\n",
      "    log(x, [base=math.e])\n",
      "    Return the logarithm of x to the given base.\n",
      "    \n",
      "    If the base not specified, returns the natural logarithm (base e) of x.\n",
      "\n"
     ]
    }
   ],
   "source": [
    "help(math.log)"
   ]
  },
  {
   "cell_type": "code",
   "execution_count": 127,
   "metadata": {},
   "outputs": [
    {
     "data": {
      "text/plain": [
       "10.0"
      ]
     },
     "execution_count": 127,
     "metadata": {},
     "output_type": "execute_result"
    }
   ],
   "source": [
    "math.log(1024,2) # ¿Por qué la respuesta es 10? esto es porque 2**10 = 1024"
   ]
  },
  {
   "cell_type": "markdown",
   "metadata": {},
   "source": [
    "Podemos redondear un número haciendo uso de round."
   ]
  },
  {
   "cell_type": "code",
   "execution_count": 128,
   "metadata": {},
   "outputs": [
    {
     "data": {
      "text/plain": [
       "1.41"
      ]
     },
     "execution_count": 128,
     "metadata": {},
     "output_type": "execute_result"
    }
   ],
   "source": [
    "round(math.sqrt(2), 2) #El uso de round es round(a,b) donde a es el número que nos interesa redondear y b el número de \n",
    "#dígitos."
   ]
  },
  {
   "cell_type": "code",
   "execution_count": 129,
   "metadata": {},
   "outputs": [
    {
     "data": {
      "text/plain": [
       "1.4142135623730951"
      ]
     },
     "execution_count": 129,
     "metadata": {},
     "output_type": "execute_result"
    }
   ],
   "source": [
    "math.sqrt(2)"
   ]
  },
  {
   "cell_type": "markdown",
   "metadata": {},
   "source": [
    "## Ejercicio 1 \n",
    "\n",
    "Según Yahoo Finance, el 2 de agosto de 2021 el precio de una acción de Tesla era de 709.669983 USD y el 3 de agosto de 2021 fue de 709.739990 USD. Calcular el retorno (en porcentaje) de dicha acción."
   ]
  },
  {
   "cell_type": "markdown",
   "metadata": {},
   "source": [
    "**Solución**\n",
    "\n",
    "El rendimiento en día t+1 lo llamos $R_{t+1}$.\n",
    "\n",
    "El rendimiento en día t, llamamos $R_{t}$.\n",
    "\n",
    "Luego el rendimiento es:\n",
    "\n",
    "$$\\frac{R_{t+1}-R_{t}}{R_{t}} = \\frac{R_{t+1}}{R_{t}} - 1$$\n",
    "\n",
    "que en este caso está dado por"
   ]
  },
  {
   "cell_type": "code",
   "execution_count": 130,
   "metadata": {},
   "outputs": [
    {
     "name": "stdout",
     "output_type": "stream",
     "text": [
      "0.009864726094810372\n"
     ]
    }
   ],
   "source": [
    "print((709.739990/709.669983 - 1)*100)"
   ]
  },
  {
   "cell_type": "markdown",
   "metadata": {},
   "source": [
    "es decir, un 0.009864% aproximadamente."
   ]
  },
  {
   "cell_type": "markdown",
   "metadata": {},
   "source": [
    "¿Y en la práctica? lo común es usar métodos ya existentes."
   ]
  },
  {
   "cell_type": "code",
   "execution_count": 131,
   "metadata": {},
   "outputs": [
    {
     "name": "stdout",
     "output_type": "stream",
     "text": [
      "[*********************100%***********************]  1 of 1 completed\n"
     ]
    },
    {
     "data": {
      "text/html": [
       "<div>\n",
       "<style scoped>\n",
       "    .dataframe tbody tr th:only-of-type {\n",
       "        vertical-align: middle;\n",
       "    }\n",
       "\n",
       "    .dataframe tbody tr th {\n",
       "        vertical-align: top;\n",
       "    }\n",
       "\n",
       "    .dataframe thead th {\n",
       "        text-align: right;\n",
       "    }\n",
       "</style>\n",
       "<table border=\"1\" class=\"dataframe\">\n",
       "  <thead>\n",
       "    <tr style=\"text-align: right;\">\n",
       "      <th></th>\n",
       "      <th>Adj Close</th>\n",
       "    </tr>\n",
       "    <tr>\n",
       "      <th>Date</th>\n",
       "      <th></th>\n",
       "    </tr>\n",
       "  </thead>\n",
       "  <tbody>\n",
       "    <tr>\n",
       "      <th>2021-08-02</th>\n",
       "      <td>709.669983</td>\n",
       "    </tr>\n",
       "    <tr>\n",
       "      <th>2021-08-03</th>\n",
       "      <td>709.739990</td>\n",
       "    </tr>\n",
       "    <tr>\n",
       "      <th>2021-08-04</th>\n",
       "      <td>710.919983</td>\n",
       "    </tr>\n",
       "    <tr>\n",
       "      <th>2021-08-05</th>\n",
       "      <td>714.630005</td>\n",
       "    </tr>\n",
       "    <tr>\n",
       "      <th>2021-08-06</th>\n",
       "      <td>699.099976</td>\n",
       "    </tr>\n",
       "    <tr>\n",
       "      <th>2021-08-09</th>\n",
       "      <td>713.760010</td>\n",
       "    </tr>\n",
       "  </tbody>\n",
       "</table>\n",
       "</div>"
      ],
      "text/plain": [
       "             Adj Close\n",
       "Date                  \n",
       "2021-08-02  709.669983\n",
       "2021-08-03  709.739990\n",
       "2021-08-04  710.919983\n",
       "2021-08-05  714.630005\n",
       "2021-08-06  699.099976\n",
       "2021-08-09  713.760010"
      ]
     },
     "execution_count": 131,
     "metadata": {},
     "output_type": "execute_result"
    }
   ],
   "source": [
    "import yfinance as yf\n",
    "df =yf.download('TSLA',  start = \"2021-08-02\" , end = \"2021-08-10\")[['Adj Close']]\n",
    "df"
   ]
  },
  {
   "cell_type": "code",
   "execution_count": 132,
   "metadata": {},
   "outputs": [
    {
     "data": {
      "text/html": [
       "<div>\n",
       "<style scoped>\n",
       "    .dataframe tbody tr th:only-of-type {\n",
       "        vertical-align: middle;\n",
       "    }\n",
       "\n",
       "    .dataframe tbody tr th {\n",
       "        vertical-align: top;\n",
       "    }\n",
       "\n",
       "    .dataframe thead th {\n",
       "        text-align: right;\n",
       "    }\n",
       "</style>\n",
       "<table border=\"1\" class=\"dataframe\">\n",
       "  <thead>\n",
       "    <tr style=\"text-align: right;\">\n",
       "      <th></th>\n",
       "      <th>Adj Close</th>\n",
       "    </tr>\n",
       "    <tr>\n",
       "      <th>Date</th>\n",
       "      <th></th>\n",
       "    </tr>\n",
       "  </thead>\n",
       "  <tbody>\n",
       "    <tr>\n",
       "      <th>2021-08-02</th>\n",
       "      <td>NaN</td>\n",
       "    </tr>\n",
       "    <tr>\n",
       "      <th>2021-08-03</th>\n",
       "      <td>0.009865</td>\n",
       "    </tr>\n",
       "    <tr>\n",
       "      <th>2021-08-04</th>\n",
       "      <td>0.166257</td>\n",
       "    </tr>\n",
       "    <tr>\n",
       "      <th>2021-08-05</th>\n",
       "      <td>0.521862</td>\n",
       "    </tr>\n",
       "    <tr>\n",
       "      <th>2021-08-06</th>\n",
       "      <td>-2.173157</td>\n",
       "    </tr>\n",
       "    <tr>\n",
       "      <th>2021-08-09</th>\n",
       "      <td>2.096987</td>\n",
       "    </tr>\n",
       "  </tbody>\n",
       "</table>\n",
       "</div>"
      ],
      "text/plain": [
       "            Adj Close\n",
       "Date                 \n",
       "2021-08-02        NaN\n",
       "2021-08-03   0.009865\n",
       "2021-08-04   0.166257\n",
       "2021-08-05   0.521862\n",
       "2021-08-06  -2.173157\n",
       "2021-08-09   2.096987"
      ]
     },
     "execution_count": 132,
     "metadata": {},
     "output_type": "execute_result"
    }
   ],
   "source": [
    "df.pct_change()*100"
   ]
  },
  {
   "cell_type": "code",
   "execution_count": 133,
   "metadata": {},
   "outputs": [
    {
     "name": "stdout",
     "output_type": "stream",
     "text": [
      "[*********************100%***********************]  1 of 1 completed\n"
     ]
    },
    {
     "data": {
      "image/png": "[encoded data removed]",
      "text/plain": [
       "<Figure size 1080x720 with 1 Axes>"
      ]
     },
     "metadata": {
      "needs_background": "dark"
     },
     "output_type": "display_data"
    }
   ],
   "source": [
    "import matplotlib.pyplot as plt \n",
    "df =yf.download('TSLA',  start = \"2021-08-02\" , end = \"2022-03-04\")[['Adj Close']]\n",
    "df.plot(figsize=(15,10))\n",
    "plt.style.use(\"dark_background\")"
   ]
  },
  {
   "cell_type": "markdown",
   "metadata": {},
   "source": [
    "## Ejercicio 2"
   ]
  },
  {
   "cell_type": "markdown",
   "metadata": {},
   "source": [
    "Un portafolio tiene dos activos (sin entrar en debate acerca de diversificar :)) con la siguiente distribución: 60,000 USD en el activo A y 10,000 USD en el activo B. El \n",
    "activo A tiene un retorno esperado de 20% y el activo B un retorno esperado de 13%. Calcular el retorno esperado del portafolio."
   ]
  },
  {
   "cell_type": "markdown",
   "metadata": {},
   "source": [
    "**Solución** (idea)\n",
    "\n",
    "1. Primero calcular los pesos de los activos. \n",
    "2. Retorno del portfolio = El peso del activo_1 * retorno esperado activo_1 + El peso del activo_2 * retorno esperado activo_2."
   ]
  },
  {
   "cell_type": "markdown",
   "metadata": {},
   "source": [
    "Podemos escribir la idea anterior en **LaTeX** - permite escribir símbolos matemáticos (googlear)."
   ]
  },
  {
   "cell_type": "markdown",
   "metadata": {},
   "source": [
    "**Nota** Lo de abajo es código LaTeX, no es necesario aprenderlo, solo es para mostrar que se pueden escribir ecuaciones\n",
    "#en Jupyter."
   ]
  },
  {
   "cell_type": "markdown",
   "metadata": {},
   "source": [
    "Para este problema es necesario recordar que:\n",
    "\n",
    "$$Retorno=\\sum_{i=1}^{n} w_{i}R_{i}$$\n",
    "donde\n",
    "$w_{i}$ es el peso del activo $i$ y $R_{i}$ es el retorno esperado del portafolio $i$."
   ]
  },
  {
   "cell_type": "code",
   "execution_count": 134,
   "metadata": {},
   "outputs": [
    {
     "data": {
      "text/plain": [
       "19.0"
      ]
     },
     "execution_count": 134,
     "metadata": {},
     "output_type": "execute_result"
    }
   ],
   "source": [
    "# Calculamos los pesos\n",
    "\n",
    "w1 = 6/(6+1)\n",
    "w2 = 1/(6+1)\n",
    "\n",
    "# Luego el retorno esperado (en %) es:\n",
    "w1 * 20 + w2 * 13"
   ]
  },
  {
   "cell_type": "markdown",
   "metadata": {},
   "source": [
    "¿Y en la práctica? lo más común es tener la información en alguna base de datos (lenguaje SQL) o cargarla desde algún archivo csv/Excel; es posiblemente implementar las funciones para automatizar dichos procesos."
   ]
  },
  {
   "cell_type": "code",
   "execution_count": 135,
   "metadata": {},
   "outputs": [
    {
     "data": {
      "text/html": [
       "<div>\n",
       "<style scoped>\n",
       "    .dataframe tbody tr th:only-of-type {\n",
       "        vertical-align: middle;\n",
       "    }\n",
       "\n",
       "    .dataframe tbody tr th {\n",
       "        vertical-align: top;\n",
       "    }\n",
       "\n",
       "    .dataframe thead th {\n",
       "        text-align: right;\n",
       "    }\n",
       "</style>\n",
       "<table border=\"1\" class=\"dataframe\">\n",
       "  <thead>\n",
       "    <tr style=\"text-align: right;\">\n",
       "      <th></th>\n",
       "      <th>Asignación (USD)</th>\n",
       "      <th>Retorno (%)</th>\n",
       "      <th>weights</th>\n",
       "    </tr>\n",
       "  </thead>\n",
       "  <tbody>\n",
       "    <tr>\n",
       "      <th>A</th>\n",
       "      <td>60000</td>\n",
       "      <td>20</td>\n",
       "      <td>0.857143</td>\n",
       "    </tr>\n",
       "    <tr>\n",
       "      <th>B</th>\n",
       "      <td>10000</td>\n",
       "      <td>13</td>\n",
       "      <td>0.142857</td>\n",
       "    </tr>\n",
       "  </tbody>\n",
       "</table>\n",
       "</div>"
      ],
      "text/plain": [
       "   Asignación (USD)  Retorno (%)   weights\n",
       "A             60000           20  0.857143\n",
       "B             10000           13  0.142857"
      ]
     },
     "execution_count": 135,
     "metadata": {},
     "output_type": "execute_result"
    }
   ],
   "source": [
    "import pandas as pd\n",
    "sample = pd.DataFrame({'Asignación (USD)': [60000,10000], 'Retorno (%)': [20,13]}, index=['A','B'])\n",
    "sample['weights'] = sample['Asignación (USD)'].apply(lambda x:  x / sample['Asignación (USD)'].sum())\n",
    "sample"
   ]
  },
  {
   "cell_type": "code",
   "execution_count": 136,
   "metadata": {},
   "outputs": [
    {
     "data": {
      "text/html": [
       "<div>\n",
       "<style scoped>\n",
       "    .dataframe tbody tr th:only-of-type {\n",
       "        vertical-align: middle;\n",
       "    }\n",
       "\n",
       "    .dataframe tbody tr th {\n",
       "        vertical-align: top;\n",
       "    }\n",
       "\n",
       "    .dataframe thead th {\n",
       "        text-align: right;\n",
       "    }\n",
       "</style>\n",
       "<table border=\"1\" class=\"dataframe\">\n",
       "  <thead>\n",
       "    <tr style=\"text-align: right;\">\n",
       "      <th></th>\n",
       "      <th>Asignación (USD)</th>\n",
       "      <th>Retorno (%)</th>\n",
       "      <th>weights</th>\n",
       "      <th>product</th>\n",
       "    </tr>\n",
       "  </thead>\n",
       "  <tbody>\n",
       "    <tr>\n",
       "      <th>A</th>\n",
       "      <td>60000</td>\n",
       "      <td>20</td>\n",
       "      <td>0.857143</td>\n",
       "      <td>17.142857</td>\n",
       "    </tr>\n",
       "    <tr>\n",
       "      <th>B</th>\n",
       "      <td>10000</td>\n",
       "      <td>13</td>\n",
       "      <td>0.142857</td>\n",
       "      <td>1.857143</td>\n",
       "    </tr>\n",
       "  </tbody>\n",
       "</table>\n",
       "</div>"
      ],
      "text/plain": [
       "   Asignación (USD)  Retorno (%)   weights    product\n",
       "A             60000           20  0.857143  17.142857\n",
       "B             10000           13  0.142857   1.857143"
      ]
     },
     "execution_count": 136,
     "metadata": {},
     "output_type": "execute_result"
    }
   ],
   "source": [
    "sample['product']=sample['weights'] * sample['Retorno (%)']\n",
    "sample"
   ]
  },
  {
   "cell_type": "code",
   "execution_count": 137,
   "metadata": {},
   "outputs": [
    {
     "data": {
      "text/plain": [
       "19.0"
      ]
     },
     "execution_count": 137,
     "metadata": {},
     "output_type": "execute_result"
    }
   ],
   "source": [
    "sample['product'].sum()"
   ]
  },
  {
   "cell_type": "markdown",
   "metadata": {},
   "source": [
    "# Variables\n",
    "\n",
    "Las variables son muy útiles ya que nos permiten almacenar los resultados y usarlos posteriormente. En general, las variables suelen tener nombres cortos o bien descriptivos. Existen reglas para dicho uso:\n",
    "\n",
    "- Una variable debe iniciar con una letra o con un guión bajo.\n",
    "- Una variable no puede iniciar con un número.\n",
    "- Las variables son sensibles a las mayúsculas y minúsculas. \n"
   ]
  },
  {
   "cell_type": "code",
   "execution_count": 138,
   "metadata": {},
   "outputs": [
    {
     "name": "stdout",
     "output_type": "stream",
     "text": [
      "stock\n",
      "bond\n"
     ]
    }
   ],
   "source": [
    "a='stock'\n",
    "A = 'bond'\n",
    "print(a)\n",
    "print(A)"
   ]
  },
  {
   "cell_type": "code",
   "execution_count": 139,
   "metadata": {},
   "outputs": [
    {
     "data": {
      "text/plain": [
       "False"
      ]
     },
     "execution_count": 139,
     "metadata": {},
     "output_type": "execute_result"
    }
   ],
   "source": [
    "a == A"
   ]
  },
  {
   "cell_type": "markdown",
   "metadata": {},
   "source": [
    "luego, no son los mismos objetos."
   ]
  },
  {
   "cell_type": "markdown",
   "metadata": {},
   "source": [
    "Supongamos que estaremos calculando raíces cuadradas de un número, podemos grabar raiz=1/2 y luego usarla."
   ]
  },
  {
   "cell_type": "code",
   "execution_count": 140,
   "metadata": {},
   "outputs": [
    {
     "data": {
      "text/plain": [
       "3.0"
      ]
     },
     "execution_count": 140,
     "metadata": {},
     "output_type": "execute_result"
    }
   ],
   "source": [
    "#Aqui raíz es el nombre de la variable que queremos grabar.\n",
    "raiz= 1/2 \n",
    "\n",
    "# La siguiente expresión va a calcular la raíz cuadarada de 9.\n",
    "9**raiz "
   ]
  },
  {
   "cell_type": "code",
   "execution_count": 141,
   "metadata": {},
   "outputs": [
    {
     "data": {
      "text/plain": [
       "1.0"
      ]
     },
     "execution_count": 141,
     "metadata": {},
     "output_type": "execute_result"
    }
   ],
   "source": [
    "raiz+raiz #1/2 + 1/2"
   ]
  },
  {
   "cell_type": "markdown",
   "metadata": {},
   "source": [
    "También podemos sobreescribir las variables, esto suele ser una práctica común al realizar ciclos."
   ]
  },
  {
   "cell_type": "code",
   "execution_count": 142,
   "metadata": {},
   "outputs": [],
   "source": [
    "raiz = raiz+1"
   ]
  },
  {
   "cell_type": "code",
   "execution_count": 143,
   "metadata": {},
   "outputs": [
    {
     "data": {
      "text/plain": [
       "1.5"
      ]
     },
     "execution_count": 143,
     "metadata": {},
     "output_type": "execute_result"
    }
   ],
   "source": [
    "raiz"
   ]
  },
  {
   "cell_type": "markdown",
   "metadata": {},
   "source": [
    "Para borrar una variable hacemos uso de \"del\""
   ]
  },
  {
   "cell_type": "code",
   "execution_count": 144,
   "metadata": {},
   "outputs": [],
   "source": [
    "del raiz #Esto lo que hará será borrar el valor de la variable raíz."
   ]
  },
  {
   "cell_type": "code",
   "execution_count": 145,
   "metadata": {},
   "outputs": [],
   "source": [
    "#raiz"
   ]
  },
  {
   "cell_type": "markdown",
   "metadata": {},
   "source": [
    "# Listas\n",
    "\n",
    "Las listas son estructuras de datos que tienen una secuencia ordenada. Los elementos de la lista pueden ser de distintos tipos (enteros, flotantes, Booleanos, etc - los veremos más adelante). Las listas en Python se denotan por corchetes [] y pueden contener duplicados. \n",
    "\n",
    "- Ejemplos\n",
    "\n",
    "    - Esto es una lista: [1,2,3,24].\n",
    "    - Esto también: [1,True, 2342/2, False]\n",
    "    - También podemos tener listas de listas. Por ejemplo, en las respuestas de una API en formato JSON es común tener listas cuyos elementos son listas. Ejemplo: [1,3,[1,2,20]].\n",
    "    - Podemos tener también listas que no tengan elementos, esto es una lista vacía: []. (Pregunta: ¿por qué pueden ser muy útiles?)\n",
    "\n",
    "\n",
    "A diferencia de otros lenguajes -por ejemplo R- las listas en Python comienzan en 0. "
   ]
  },
  {
   "cell_type": "code",
   "execution_count": 146,
   "metadata": {},
   "outputs": [
    {
     "data": {
      "text/plain": [
       "[]"
      ]
     },
     "execution_count": 146,
     "metadata": {},
     "output_type": "execute_result"
    }
   ],
   "source": [
    "# Una lista vacía se representa de la siguiente forma.\n",
    "[] "
   ]
  },
  {
   "cell_type": "code",
   "execution_count": 147,
   "metadata": {},
   "outputs": [],
   "source": [
    "ejemplo_lista=[98,4,323,0]"
   ]
  },
  {
   "cell_type": "markdown",
   "metadata": {},
   "source": [
    "- Si queremos el primer elemento utilizamos el nombre de la lista seguido del índice correspondiente.\n",
    "    * Primer elemento: ejemplo_lista[0] (recordar que en Python se inicia en 0).\n",
    "    - Segundo elemento: ejemplo_lista[1]\n",
    "    - Tercer elemento: ejemplo_lista[2]\n",
    "    - Último elemento: ejemplo_lista[3]\n"
   ]
  },
  {
   "cell_type": "code",
   "execution_count": 148,
   "metadata": {},
   "outputs": [
    {
     "data": {
      "text/plain": [
       "0"
      ]
     },
     "execution_count": 148,
     "metadata": {},
     "output_type": "execute_result"
    }
   ],
   "source": [
    "ejemplo_lista[3]"
   ]
  },
  {
   "cell_type": "code",
   "execution_count": 149,
   "metadata": {},
   "outputs": [
    {
     "name": "stdout",
     "output_type": "stream",
     "text": [
      "98\n",
      "4\n",
      "323\n",
      "0\n"
     ]
    }
   ],
   "source": [
    "print(ejemplo_lista[0])\n",
    "print(ejemplo_lista[1])\n",
    "print(ejemplo_lista[2])\n",
    "print(ejemplo_lista[3])"
   ]
  },
  {
   "cell_type": "code",
   "execution_count": 150,
   "metadata": {},
   "outputs": [
    {
     "name": "stdout",
     "output_type": "stream",
     "text": [
      "0\n",
      "323\n",
      "4\n"
     ]
    }
   ],
   "source": [
    "#Podemos también hacer uso de índices negativos.\n",
    "\n",
    "print(ejemplo_lista[-1]) #Esto es la última posición.\n",
    "print(ejemplo_lista[-2]) #Esto es la penúltima posición\n",
    "print(ejemplo_lista[-3]) #Esto es la antepenúltima posición."
   ]
  },
  {
   "cell_type": "markdown",
   "metadata": {},
   "source": [
    "- Es muy común querer saber el número de elementos que contiene una lista. Por ejemplo, podemos estar interesados en el número de activos que contiene un portafolio dado o podemos tener una lista de clientes y queremos saber el número de los mismos. \n",
    "- Para conocer el número de elementos podemos hacer uso de la función **len()**."
   ]
  },
  {
   "cell_type": "markdown",
   "metadata": {},
   "source": [
    "## Ejercicio 3"
   ]
  },
  {
   "cell_type": "code",
   "execution_count": 151,
   "metadata": {},
   "outputs": [
    {
     "data": {
      "text/plain": [
       "[98, 4, 323, 0]"
      ]
     },
     "execution_count": 151,
     "metadata": {},
     "output_type": "execute_result"
    }
   ],
   "source": [
    "ejemplo_lista"
   ]
  },
  {
   "cell_type": "code",
   "execution_count": 152,
   "metadata": {},
   "outputs": [
    {
     "data": {
      "text/plain": [
       "0"
      ]
     },
     "execution_count": 152,
     "metadata": {},
     "output_type": "execute_result"
    }
   ],
   "source": [
    "ejemplo_lista[len(ejemplo_lista)-1]"
   ]
  },
  {
   "cell_type": "code",
   "execution_count": 153,
   "metadata": {},
   "outputs": [
    {
     "name": "stdout",
     "output_type": "stream",
     "text": [
      "Help on built-in function len in module builtins:\n",
      "\n",
      "len(obj, /)\n",
      "    Return the number of items in a container.\n",
      "\n"
     ]
    }
   ],
   "source": [
    "help(len)"
   ]
  },
  {
   "cell_type": "markdown",
   "metadata": {},
   "source": [
    "- Calcular el número de elementos de cada lista.\n",
    "\n",
    "    - a=[1,2,3,20]\n",
    "    - b=[4,None, 1]\n",
    "    - c=[]\n",
    "    - d=[2,3,[3,4,-1,0]]\n",
    "    - e=[1, []]\n",
    "    - f=['Blackrock','Invesco','Refinitiv']\n",
    "    - g=[ [], []]\n"
   ]
  },
  {
   "cell_type": "code",
   "execution_count": 154,
   "metadata": {},
   "outputs": [],
   "source": [
    "a=[1,2,3,20]\n",
    "b=[4,None,1]\n",
    "c=[]\n",
    "d=[2,3,[3,4,-1,0]]\n",
    "e=[1,[]]\n",
    "f=['Blackrock','Invesco','Refinitiv']\n",
    "g=[[], []]"
   ]
  },
  {
   "cell_type": "markdown",
   "metadata": {},
   "source": [
    "## Ejercicio 4\n",
    "\n",
    "De la lista d anterior, ¿cómo podemos obtener el elemento -1? dar al menos dos soluciones."
   ]
  },
  {
   "cell_type": "code",
   "execution_count": 155,
   "metadata": {},
   "outputs": [
    {
     "data": {
      "text/plain": [
       "-1"
      ]
     },
     "execution_count": 155,
     "metadata": {},
     "output_type": "execute_result"
    }
   ],
   "source": [
    "d[2][2]"
   ]
  },
  {
   "cell_type": "code",
   "execution_count": 156,
   "metadata": {},
   "outputs": [
    {
     "data": {
      "text/plain": [
       "-1"
      ]
     },
     "execution_count": 156,
     "metadata": {},
     "output_type": "execute_result"
    }
   ],
   "source": [
    "d[-1][-2]"
   ]
  },
  {
   "cell_type": "code",
   "execution_count": 157,
   "metadata": {},
   "outputs": [
    {
     "data": {
      "text/plain": [
       "-1"
      ]
     },
     "execution_count": 157,
     "metadata": {},
     "output_type": "execute_result"
    }
   ],
   "source": [
    "d[-1][-2]"
   ]
  },
  {
   "cell_type": "markdown",
   "metadata": {},
   "source": [
    "- Una manera: d[2][2].\n",
    "- Otra: d[-1][-2].\n",
    "- Una más: d[2][-2].\n"
   ]
  },
  {
   "cell_type": "markdown",
   "metadata": {},
   "source": [
    "# Tipos de datos "
   ]
  },
  {
   "cell_type": "markdown",
   "metadata": {},
   "source": [
    "Las variables en Python almacenan distintos tipos de información o estructura basado en su tipo de dato.  Un tipo de dato se crea de manera dinámica sin necesidad de explícitamente declarar el tipo de dato al crear la variable (a diferencia de otros lenguajes).\n",
    "\n",
    "Si has estudiado SQL sabrás que es fundamental conocer el tipo de dato para poder crear una tabla - se requiere saber el tipo de dato para poder\n",
    "configurar dicha tabla. \n",
    "\n"
   ]
  },
  {
   "cell_type": "markdown",
   "metadata": {},
   "source": [
    "1. Tipo numérico - Cualquier dato que tenga un valor numérico asociado.  En esta categoría tenemos a:\n",
    "\n",
    "    - Entero - Puede ser positivo, cero o negativo.\n",
    "    - Flotante - Cualquier número real que tenga una componente fraccionaria.\n",
    "    \n",
    "    \n",
    "2. Tipo Booleano - Dato cuyo valor es verdadero o falso. Por ejemplo, 2==3 es un enunciado falso; en Python la salida correspondiente será \"False\" (debe ser con F mayúscula). Es importante notar que un símbolo de igual (=) representa una asignación en Python, mientras que doble igual (==) representa la comparación de igualdad."
   ]
  },
  {
   "cell_type": "markdown",
   "metadata": {},
   "source": [
    "En Python podemos hacer uso de la función type() para determinar el tipo de dato de un objeto."
   ]
  },
  {
   "cell_type": "code",
   "execution_count": 158,
   "metadata": {},
   "outputs": [
    {
     "data": {
      "text/plain": [
       "int"
      ]
     },
     "execution_count": 158,
     "metadata": {},
     "output_type": "execute_result"
    }
   ],
   "source": [
    "type(3)"
   ]
  },
  {
   "cell_type": "code",
   "execution_count": 159,
   "metadata": {},
   "outputs": [
    {
     "data": {
      "text/plain": [
       "float"
      ]
     },
     "execution_count": 159,
     "metadata": {},
     "output_type": "execute_result"
    }
   ],
   "source": [
    "type(3.0)"
   ]
  },
  {
   "cell_type": "code",
   "execution_count": 160,
   "metadata": {},
   "outputs": [
    {
     "data": {
      "text/plain": [
       "str"
      ]
     },
     "execution_count": 160,
     "metadata": {},
     "output_type": "execute_result"
    }
   ],
   "source": [
    "type('ETF')"
   ]
  },
  {
   "cell_type": "code",
   "execution_count": 161,
   "metadata": {},
   "outputs": [
    {
     "data": {
      "text/html": [
       "<div>\n",
       "<style scoped>\n",
       "    .dataframe tbody tr th:only-of-type {\n",
       "        vertical-align: middle;\n",
       "    }\n",
       "\n",
       "    .dataframe tbody tr th {\n",
       "        vertical-align: top;\n",
       "    }\n",
       "\n",
       "    .dataframe thead th {\n",
       "        text-align: right;\n",
       "    }\n",
       "</style>\n",
       "<table border=\"1\" class=\"dataframe\">\n",
       "  <thead>\n",
       "    <tr style=\"text-align: right;\">\n",
       "      <th></th>\n",
       "      <th>Adj Close</th>\n",
       "    </tr>\n",
       "    <tr>\n",
       "      <th>Date</th>\n",
       "      <th></th>\n",
       "    </tr>\n",
       "  </thead>\n",
       "  <tbody>\n",
       "    <tr>\n",
       "      <th>2021-08-02</th>\n",
       "      <td>709.669983</td>\n",
       "    </tr>\n",
       "    <tr>\n",
       "      <th>2021-08-03</th>\n",
       "      <td>709.739990</td>\n",
       "    </tr>\n",
       "    <tr>\n",
       "      <th>2021-08-04</th>\n",
       "      <td>710.919983</td>\n",
       "    </tr>\n",
       "    <tr>\n",
       "      <th>2021-08-05</th>\n",
       "      <td>714.630005</td>\n",
       "    </tr>\n",
       "    <tr>\n",
       "      <th>2021-08-06</th>\n",
       "      <td>699.099976</td>\n",
       "    </tr>\n",
       "  </tbody>\n",
       "</table>\n",
       "</div>"
      ],
      "text/plain": [
       "             Adj Close\n",
       "Date                  \n",
       "2021-08-02  709.669983\n",
       "2021-08-03  709.739990\n",
       "2021-08-04  710.919983\n",
       "2021-08-05  714.630005\n",
       "2021-08-06  699.099976"
      ]
     },
     "execution_count": 161,
     "metadata": {},
     "output_type": "execute_result"
    }
   ],
   "source": [
    "df.head()"
   ]
  },
  {
   "cell_type": "code",
   "execution_count": 162,
   "metadata": {},
   "outputs": [
    {
     "data": {
      "text/plain": [
       "pandas.core.frame.DataFrame"
      ]
     },
     "execution_count": 162,
     "metadata": {},
     "output_type": "execute_result"
    }
   ],
   "source": [
    "# Existen otras estructuras como DataFrame.\n",
    "type(df)"
   ]
  },
  {
   "cell_type": "code",
   "execution_count": 163,
   "metadata": {},
   "outputs": [
    {
     "data": {
      "text/plain": [
       "2"
      ]
     },
     "execution_count": 163,
     "metadata": {},
     "output_type": "execute_result"
    }
   ],
   "source": [
    "True  + True"
   ]
  },
  {
   "cell_type": "code",
   "execution_count": 164,
   "metadata": {},
   "outputs": [
    {
     "data": {
      "text/plain": [
       "bool"
      ]
     },
     "execution_count": 164,
     "metadata": {},
     "output_type": "execute_result"
    }
   ],
   "source": [
    "type(True)"
   ]
  },
  {
   "cell_type": "markdown",
   "metadata": {},
   "source": [
    "**Aritmética Booleana**"
   ]
  },
  {
   "cell_type": "markdown",
   "metadata": {},
   "source": [
    "La aritmética Booleana es la aritmética de la lógica Booleana (Falso y Verdadero)\n",
    "Los operadores Booleanos en Python son los siguientes:\n",
    "- or\n",
    "- and\n",
    "- not\n",
    "- == (equivalencia)\n",
    "- != (no-equivalencia)"
   ]
  },
  {
   "cell_type": "code",
   "execution_count": 165,
   "metadata": {},
   "outputs": [
    {
     "name": "stdout",
     "output_type": "stream",
     "text": [
      "False\n",
      "True\n",
      "True\n",
      "False\n",
      "True\n"
     ]
    }
   ],
   "source": [
    "# Algunos ejemplos\n",
    "\n",
    "print(3 > 4)\n",
    "print( 4 != 5)\n",
    "print( (5 > 3) or (5 < 3) )\n",
    "print ( (5 > 3) and (5 < 3))\n",
    "print ( 3 >= 3)"
   ]
  },
  {
   "cell_type": "code",
   "execution_count": 166,
   "metadata": {},
   "outputs": [
    {
     "name": "stdout",
     "output_type": "stream",
     "text": [
      "False\n",
      "False\n",
      "True\n"
     ]
    }
   ],
   "source": [
    "# Justificar las siguientes salidas.\n",
    "print( 'hola' == 'holA')\n",
    "print( 'hola' == 'hola ')\n",
    "print ('hola' == 'hola')"
   ]
  },
  {
   "cell_type": "code",
   "execution_count": 167,
   "metadata": {},
   "outputs": [
    {
     "name": "stdout",
     "output_type": "stream",
     "text": [
      "3\n",
      "-2\n",
      "0\n",
      "5\n"
     ]
    }
   ],
   "source": [
    "# Es posible sumar valores True (valor es 1) o False (valor es 0). \n",
    "\n",
    "# Ejemplos\n",
    "\n",
    "print(True + 2)\n",
    "print(False - 2)\n",
    "print(False + False)\n",
    "print(True * 5)"
   ]
  },
  {
   "cell_type": "markdown",
   "metadata": {},
   "source": [
    "## Ejercicio 5 \n",
    "Investigar si cada enunciado es \"True\" o \"False\".\n",
    "\n",
    "- 2>3\n",
    "- 2>=2\n",
    "- 4-4==0\n",
    "- 4-4==0.0\n",
    "- type(12/3)==int\n",
    "- type(12/3)==float\n",
    "- not False"
   ]
  },
  {
   "cell_type": "markdown",
   "metadata": {},
   "source": [
    "$2 \\geq 2$"
   ]
  },
  {
   "cell_type": "code",
   "execution_count": 168,
   "metadata": {},
   "outputs": [
    {
     "data": {
      "text/plain": [
       "False"
      ]
     },
     "execution_count": 168,
     "metadata": {},
     "output_type": "execute_result"
    }
   ],
   "source": [
    "not True"
   ]
  },
  {
   "cell_type": "code",
   "execution_count": 169,
   "metadata": {},
   "outputs": [
    {
     "data": {
      "text/plain": [
       "2"
      ]
     },
     "execution_count": 169,
     "metadata": {},
     "output_type": "execute_result"
    }
   ],
   "source": [
    "True + True"
   ]
  },
  {
   "cell_type": "markdown",
   "metadata": {},
   "source": [
    "# Slicing (secciones de listas)"
   ]
  },
  {
   "cell_type": "markdown",
   "metadata": {},
   "source": [
    "Muchas veces tenemos una lista y solo queremos obtener una parte de ella; por ejemplo, podemos pensar en una lista de retornos y posiblemente queremos \n",
    "los más significativos. "
   ]
  },
  {
   "cell_type": "code",
   "execution_count": 170,
   "metadata": {},
   "outputs": [],
   "source": [
    "# Supongamos que tenemos la lista \n",
    "lista=[1,2,3,4,5]"
   ]
  },
  {
   "cell_type": "markdown",
   "metadata": {},
   "source": [
    "y queremos obtener los primeros tres elementos. La sintaxis para ello es lista[0:3], esto nos dará como resultado los elementos lista[0], \n",
    "lista[1] y lista[2]; en total son 3 elementos."
   ]
  },
  {
   "cell_type": "code",
   "execution_count": 171,
   "metadata": {},
   "outputs": [
    {
     "data": {
      "text/plain": [
       "4"
      ]
     },
     "execution_count": 171,
     "metadata": {},
     "output_type": "execute_result"
    }
   ],
   "source": [
    "lista[3]"
   ]
  },
  {
   "cell_type": "code",
   "execution_count": 172,
   "metadata": {},
   "outputs": [
    {
     "data": {
      "text/plain": [
       "[1, 2, 3]"
      ]
     },
     "execution_count": 172,
     "metadata": {},
     "output_type": "execute_result"
    }
   ],
   "source": [
    "lista[0:3]"
   ]
  },
  {
   "cell_type": "markdown",
   "metadata": {},
   "source": [
    "### Observación importante \n",
    "\n",
    "En general, la sintaxis variable[a:b] incluye al extremo izquierdo pero NO al extremo derecho b.\n",
    "\n",
    "Una analogía es pensar como si fuera un intervalo cerrado por la izquierda\n",
    "pero abierto por la derecha [a,b)."
   ]
  },
  {
   "cell_type": "code",
   "execution_count": 173,
   "metadata": {},
   "outputs": [],
   "source": [
    "ret=[-0.3, 17.8, 2.3, 1.5, 12.3, 14.5,11.3,10.9393] "
   ]
  },
  {
   "cell_type": "code",
   "execution_count": 174,
   "metadata": {},
   "outputs": [
    {
     "data": {
      "text/plain": [
       "[-0.3, 17.8]"
      ]
     },
     "execution_count": 174,
     "metadata": {},
     "output_type": "execute_result"
    }
   ],
   "source": [
    "ret[0:2] #Obtenemos el primero y segundo elemento. ¿Por qué no el tercero?\n"
   ]
  },
  {
   "cell_type": "code",
   "execution_count": 175,
   "metadata": {},
   "outputs": [
    {
     "data": {
      "text/plain": [
       "[17.8, 2.3]"
      ]
     },
     "execution_count": 175,
     "metadata": {},
     "output_type": "execute_result"
    }
   ],
   "source": [
    "ret[1:3]"
   ]
  },
  {
   "cell_type": "code",
   "execution_count": 176,
   "metadata": {},
   "outputs": [
    {
     "data": {
      "text/plain": [
       "[17.8]"
      ]
     },
     "execution_count": 176,
     "metadata": {},
     "output_type": "execute_result"
    }
   ],
   "source": [
    "ret[1:2]"
   ]
  },
  {
   "cell_type": "code",
   "execution_count": 177,
   "metadata": {},
   "outputs": [
    {
     "data": {
      "text/plain": [
       "[14.5, 11.3, 10.9393]"
      ]
     },
     "execution_count": 177,
     "metadata": {},
     "output_type": "execute_result"
    }
   ],
   "source": [
    "ret[-3:] #Obtenemos los últimos 3 elementos."
   ]
  },
  {
   "cell_type": "code",
   "execution_count": 178,
   "metadata": {},
   "outputs": [
    {
     "data": {
      "text/plain": [
       "14.5"
      ]
     },
     "execution_count": 178,
     "metadata": {},
     "output_type": "execute_result"
    }
   ],
   "source": [
    "ret[5]"
   ]
  },
  {
   "cell_type": "code",
   "execution_count": 179,
   "metadata": {},
   "outputs": [
    {
     "data": {
      "text/plain": [
       "[-0.3, 2.3, 12.3]"
      ]
     },
     "execution_count": 179,
     "metadata": {},
     "output_type": "execute_result"
    }
   ],
   "source": [
    "ret[0:6:2] \n",
    "\n",
    "#Investigar que también podemos agregar un tercer parámetro esto nos indica el \"step\". "
   ]
  },
  {
   "cell_type": "markdown",
   "metadata": {},
   "source": [
    "Una pregunta común en entrevistas es regresar una lista \"hacia atrás\". Por ejemplo, si tenemos numeros=[10,20,2,3,9] queremos [9,3,2,20,10] como salida. \n",
    "En Python, esto se puede hacer en una sola línea:\n"
   ]
  },
  {
   "cell_type": "code",
   "execution_count": 180,
   "metadata": {},
   "outputs": [],
   "source": [
    "numeros=[10,20,2,3,9]"
   ]
  },
  {
   "cell_type": "code",
   "execution_count": 181,
   "metadata": {},
   "outputs": [
    {
     "data": {
      "text/plain": [
       "[9, 3, 2, 20, 10]"
      ]
     },
     "execution_count": 181,
     "metadata": {},
     "output_type": "execute_result"
    }
   ],
   "source": [
    "#Se puede obtener la lista hacia atrás de la siguiente manera: \n",
    "numeros[::-1]"
   ]
  },
  {
   "cell_type": "markdown",
   "metadata": {},
   "source": [
    "### Sort\n",
    "\n",
    "La función sorted() regresa el objeto ordenado ya sea de forma ascendente o descendente. La manera de especificar esto es \n",
    "usando el parámetro reverse. Veamos un ejemplo."
   ]
  },
  {
   "cell_type": "code",
   "execution_count": 182,
   "metadata": {},
   "outputs": [
    {
     "data": {
      "text/plain": [
       "[1, 2, 4, 5, 7, 9]"
      ]
     },
     "execution_count": 182,
     "metadata": {},
     "output_type": "execute_result"
    }
   ],
   "source": [
    "por_ordenar=[5,7,1,2,4,9]\n",
    "sorted(por_ordenar)"
   ]
  },
  {
   "cell_type": "code",
   "execution_count": 183,
   "metadata": {},
   "outputs": [
    {
     "data": {
      "text/plain": [
       "[5, 7, 1, 2, 4, 9]"
      ]
     },
     "execution_count": 183,
     "metadata": {},
     "output_type": "execute_result"
    }
   ],
   "source": [
    "por_ordenar"
   ]
  },
  {
   "cell_type": "code",
   "execution_count": 184,
   "metadata": {},
   "outputs": [
    {
     "name": "stdout",
     "output_type": "stream",
     "text": [
      "[5, 7, 1, 2, 4, 9]\n",
      "[1, 2, 4, 5, 7, 9]\n"
     ]
    }
   ],
   "source": [
    "por_ordenar_test = sorted(por_ordenar)\n",
    "print(por_ordenar)\n",
    "print(por_ordenar_test)"
   ]
  },
  {
   "cell_type": "markdown",
   "metadata": {},
   "source": [
    "- Si observamos, por configuración inicial, sorted() ordena de forma ascendente.\n",
    "- Si queremos ordenar de forma descendente, tenemos que agregar el parámetro reverse=True"
   ]
  },
  {
   "cell_type": "code",
   "execution_count": 185,
   "metadata": {},
   "outputs": [
    {
     "data": {
      "text/plain": [
       "[9, 7, 5, 4, 2, 1]"
      ]
     },
     "execution_count": 185,
     "metadata": {},
     "output_type": "execute_result"
    }
   ],
   "source": [
    "sorted(por_ordenar, reverse= True)"
   ]
  },
  {
   "cell_type": "code",
   "execution_count": 186,
   "metadata": {},
   "outputs": [
    {
     "data": {
      "text/plain": [
       "[-0.3, 17.8, 2.3, 1.5, 12.3, 14.5, 11.3, 10.9393]"
      ]
     },
     "execution_count": 186,
     "metadata": {},
     "output_type": "execute_result"
    }
   ],
   "source": [
    "# Dada la lista ret\n",
    "ret"
   ]
  },
  {
   "cell_type": "markdown",
   "metadata": {},
   "source": [
    "¿Cómo podemos obtener los top 3 retornos?"
   ]
  },
  {
   "cell_type": "code",
   "execution_count": 187,
   "metadata": {},
   "outputs": [
    {
     "data": {
      "text/plain": [
       "[17.8, 14.5, 12.3]"
      ]
     },
     "execution_count": 187,
     "metadata": {},
     "output_type": "execute_result"
    }
   ],
   "source": [
    "sorted(ret,reverse=True)[0:3] # Nos da los top 3."
   ]
  },
  {
   "cell_type": "markdown",
   "metadata": {},
   "source": [
    "- En el contexto de listas, el símbolo + no representa la suma usual de la aritmética que conocemos.\n",
    "En este contexto, la suma representa concatenación."
   ]
  },
  {
   "cell_type": "code",
   "execution_count": 188,
   "metadata": {},
   "outputs": [],
   "source": [
    "lista_1 = [2,3]\n",
    "lista_2=['Pedro',134/39, False,3]"
   ]
  },
  {
   "cell_type": "code",
   "execution_count": 189,
   "metadata": {},
   "outputs": [
    {
     "data": {
      "text/plain": [
       "[2, 3, 'Pedro', 3.4358974358974357, False, 3]"
      ]
     },
     "execution_count": 189,
     "metadata": {},
     "output_type": "execute_result"
    }
   ],
   "source": [
    "lista_1 + lista_2"
   ]
  },
  {
   "cell_type": "code",
   "execution_count": 190,
   "metadata": {},
   "outputs": [
    {
     "data": {
      "text/plain": [
       "['Pedro', 3.4358974358974357, False, 3, 2, 3]"
      ]
     },
     "execution_count": 190,
     "metadata": {},
     "output_type": "execute_result"
    }
   ],
   "source": [
    "lista_2 + lista_1"
   ]
  },
  {
   "cell_type": "markdown",
   "metadata": {},
   "source": [
    "#### Observación \n",
    "\n",
    "A diferencia de la aritmética real, el orden de los factores en la suma de listas si importa, ya que realmente es una concatenación."
   ]
  },
  {
   "cell_type": "markdown",
   "metadata": {},
   "source": [
    "### Mutabilidad \n",
    "\n",
    "Las listas son objetos mutables. En Python, mutabilidad se refiere -en términos simples-  a que el objeto puede ser modificado. Por ejemplo, supongamos que tenemos la siguiente lista:"
   ]
  },
  {
   "cell_type": "code",
   "execution_count": 191,
   "metadata": {},
   "outputs": [],
   "source": [
    "distributions=['Gaussian','Binomial','Lognormal']"
   ]
  },
  {
   "cell_type": "code",
   "execution_count": 192,
   "metadata": {},
   "outputs": [],
   "source": [
    "distributions[1]='Poisson'"
   ]
  },
  {
   "cell_type": "markdown",
   "metadata": {},
   "source": [
    "Ahora llamos a la variable distributions para ver su contenido:"
   ]
  },
  {
   "cell_type": "code",
   "execution_count": 193,
   "metadata": {},
   "outputs": [
    {
     "data": {
      "text/plain": [
       "['Gaussian', 'Poisson', 'Lognormal']"
      ]
     },
     "execution_count": 193,
     "metadata": {},
     "output_type": "execute_result"
    }
   ],
   "source": [
    "distributions"
   ]
  },
  {
   "cell_type": "markdown",
   "metadata": {},
   "source": [
    "Hay objetos que son inmutables -no pueden ser modificados-. Más adelante los estudiaremos, pero ejemplos de ellos son:\n",
    "las cadenas de caracteres y las tuplas."
   ]
  },
  {
   "cell_type": "code",
   "execution_count": 194,
   "metadata": {},
   "outputs": [],
   "source": [
    "x='hola'"
   ]
  },
  {
   "cell_type": "code",
   "execution_count": 195,
   "metadata": {},
   "outputs": [
    {
     "data": {
      "text/plain": [
       "'Hola'"
      ]
     },
     "execution_count": 195,
     "metadata": {},
     "output_type": "execute_result"
    }
   ],
   "source": [
    "'H' + x[1:]"
   ]
  },
  {
   "cell_type": "markdown",
   "metadata": {},
   "source": [
    "### Eliminación de elementos de una lista (del/remove)\n",
    "\n",
    "Para eliminar elementos de una lista existen dos opciones, usar del o remove. \n",
    "\n",
    "Veamos las diferencias. \n",
    "\n",
    "Se tiene la siguiente lista"
   ]
  },
  {
   "cell_type": "code",
   "execution_count": 196,
   "metadata": {},
   "outputs": [],
   "source": [
    "librerias=['pandas', 'math', 'sciborn', 'math','sciborn', 'matplotlib']"
   ]
  },
  {
   "cell_type": "markdown",
   "metadata": {},
   "source": [
    "- remove() elimina el primer elemento que corresponde a la primera ocurrencia en la lista, cuyo valor es igual a la del argumento. Algo importante a tomar en cuenta es que si elemento no existe en la lista, entonces se tendrá un error."
   ]
  },
  {
   "cell_type": "code",
   "execution_count": 197,
   "metadata": {},
   "outputs": [],
   "source": [
    "librerias.remove('math')"
   ]
  },
  {
   "cell_type": "code",
   "execution_count": 198,
   "metadata": {},
   "outputs": [
    {
     "data": {
      "text/plain": [
       "['pandas', 'sciborn', 'math', 'sciborn', 'matplotlib']"
      ]
     },
     "execution_count": 198,
     "metadata": {},
     "output_type": "execute_result"
    }
   ],
   "source": [
    "librerias"
   ]
  },
  {
   "cell_type": "code",
   "execution_count": 199,
   "metadata": {},
   "outputs": [],
   "source": [
    "librerias.remove('math')"
   ]
  },
  {
   "cell_type": "code",
   "execution_count": 200,
   "metadata": {},
   "outputs": [
    {
     "data": {
      "text/plain": [
       "['pandas', 'sciborn', 'sciborn', 'matplotlib']"
      ]
     },
     "execution_count": 200,
     "metadata": {},
     "output_type": "execute_result"
    }
   ],
   "source": [
    "librerias"
   ]
  },
  {
   "cell_type": "code",
   "execution_count": 201,
   "metadata": {},
   "outputs": [],
   "source": [
    "#librerias.remove('math')"
   ]
  },
  {
   "cell_type": "markdown",
   "metadata": {},
   "source": [
    "Por otra parte, si queremos eliminar un elemento de una lista pero usando su índice podemos hacer uso de del."
   ]
  },
  {
   "cell_type": "code",
   "execution_count": 202,
   "metadata": {},
   "outputs": [],
   "source": [
    "del librerias[2]"
   ]
  },
  {
   "cell_type": "code",
   "execution_count": 203,
   "metadata": {},
   "outputs": [
    {
     "data": {
      "text/plain": [
       "['pandas', 'sciborn', 'matplotlib']"
      ]
     },
     "execution_count": 203,
     "metadata": {},
     "output_type": "execute_result"
    }
   ],
   "source": [
    "librerias"
   ]
  },
  {
   "cell_type": "markdown",
   "metadata": {},
   "source": [
    "Con del también podemos eliminar secciones completas:"
   ]
  },
  {
   "cell_type": "code",
   "execution_count": 204,
   "metadata": {},
   "outputs": [],
   "source": [
    "librerias=['pandas', 'math', 'sciborn', 'math','sciborn', 'matplotlib']"
   ]
  },
  {
   "cell_type": "code",
   "execution_count": 205,
   "metadata": {},
   "outputs": [],
   "source": [
    "del librerias[0:2]"
   ]
  },
  {
   "cell_type": "code",
   "execution_count": 206,
   "metadata": {},
   "outputs": [
    {
     "data": {
      "text/plain": [
       "['sciborn', 'math', 'sciborn', 'matplotlib']"
      ]
     },
     "execution_count": 206,
     "metadata": {},
     "output_type": "execute_result"
    }
   ],
   "source": [
    "librerias"
   ]
  },
  {
   "cell_type": "code",
   "execution_count": 207,
   "metadata": {},
   "outputs": [],
   "source": [
    "ejemplo_1='Esto es una cadena'\n",
    "ejemplo_2= \"Programar es divertido\""
   ]
  },
  {
   "cell_type": "markdown",
   "metadata": {},
   "source": [
    "Recordemos que podemos seccionar:"
   ]
  },
  {
   "cell_type": "code",
   "execution_count": 208,
   "metadata": {},
   "outputs": [
    {
     "data": {
      "text/plain": [
       "'st'"
      ]
     },
     "execution_count": 208,
     "metadata": {},
     "output_type": "execute_result"
    }
   ],
   "source": [
    "ejemplo_1[1:3] #lo que obtendriamos seria ejemplo_1[1], ejemplo_1[2] pero NO ejemplo_1[3]."
   ]
  },
  {
   "cell_type": "markdown",
   "metadata": {},
   "source": [
    "Podemos leer de atrás hacia adelante:"
   ]
  },
  {
   "cell_type": "code",
   "execution_count": 209,
   "metadata": {},
   "outputs": [
    {
     "data": {
      "text/plain": [
       "'Programar es divertidoy en Python más'"
      ]
     },
     "execution_count": 209,
     "metadata": {},
     "output_type": "execute_result"
    }
   ],
   "source": [
    "ejemplo_2 + 'y en Python más'"
   ]
  },
  {
   "cell_type": "code",
   "execution_count": 210,
   "metadata": {},
   "outputs": [],
   "source": [
    "#Esto no se ve bien..."
   ]
  },
  {
   "cell_type": "code",
   "execution_count": 211,
   "metadata": {},
   "outputs": [
    {
     "data": {
      "text/plain": [
       "'Programar es divertido y en Python más'"
      ]
     },
     "execution_count": 211,
     "metadata": {},
     "output_type": "execute_result"
    }
   ],
   "source": [
    "#ejemplo_2 + ' ' + 'y en Python más' esta es una manera\n",
    "#Otra\n",
    "ejemplo_2 + ' y en Python más' #es otra manera"
   ]
  },
  {
   "cell_type": "markdown",
   "metadata": {},
   "source": [
    "## Observación \n",
    "\n",
    "No podemos modificar una cadena, una cadena es un objeto inmutable."
   ]
  },
  {
   "cell_type": "code",
   "execution_count": 212,
   "metadata": {},
   "outputs": [],
   "source": [
    "lista=[1,2,3,4]"
   ]
  },
  {
   "cell_type": "code",
   "execution_count": 213,
   "metadata": {},
   "outputs": [],
   "source": [
    "lista[-1]=90 #¿qué pasa si hago esto?\n",
    "#print(lista)"
   ]
  },
  {
   "cell_type": "code",
   "execution_count": 214,
   "metadata": {},
   "outputs": [
    {
     "data": {
      "text/plain": [
       "'t'"
      ]
     },
     "execution_count": 214,
     "metadata": {},
     "output_type": "execute_result"
    }
   ],
   "source": [
    "ejemplo_1[2]"
   ]
  },
  {
   "cell_type": "code",
   "execution_count": 215,
   "metadata": {},
   "outputs": [
    {
     "data": {
      "text/plain": [
       "'Esto es una cadena'"
      ]
     },
     "execution_count": 215,
     "metadata": {},
     "output_type": "execute_result"
    }
   ],
   "source": [
    "ejemplo_1"
   ]
  },
  {
   "cell_type": "code",
   "execution_count": 216,
   "metadata": {},
   "outputs": [],
   "source": [
    "#ejemplo_1[0]='A' #estamos intentando modificar una cadena y esto no es posible."
   ]
  },
  {
   "cell_type": "markdown",
   "metadata": {},
   "source": [
    "El tipo de error anterior (TypeError) nos dice que el tipo de dato string no permite ser modificado; es decir, es inmutable."
   ]
  },
  {
   "cell_type": "markdown",
   "metadata": {},
   "source": [
    "# Ejercicio 6 \n",
    "\n",
    "¿Cuál es la diferencia entre las siguientes expresiones?"
   ]
  },
  {
   "cell_type": "markdown",
   "metadata": {},
   "source": [
    "- False\n",
    "- 'False'"
   ]
  },
  {
   "cell_type": "markdown",
   "metadata": {},
   "source": [
    "# Ejercicio 7\n",
    "\n",
    "¿Cómo podríamos crear una nueva oración llamada \"Sí es una cadena\" usando la variable ejemplo_1?"
   ]
  },
  {
   "cell_type": "code",
   "execution_count": 217,
   "metadata": {},
   "outputs": [
    {
     "data": {
      "text/plain": [
       "'Esto es una cadena'"
      ]
     },
     "execution_count": 217,
     "metadata": {},
     "output_type": "execute_result"
    }
   ],
   "source": [
    "ejemplo_1"
   ]
  },
  {
   "cell_type": "markdown",
   "metadata": {},
   "source": [
    "Antes de pensar en comandos, pensar en la idea general - estrategia. Cortamos la palabra para que sea \"es una cadena\" y antes de esto le agregamos \"Sí\"."
   ]
  },
  {
   "cell_type": "code",
   "execution_count": 218,
   "metadata": {},
   "outputs": [
    {
     "data": {
      "text/plain": [
       "'es una cadena'"
      ]
     },
     "execution_count": 218,
     "metadata": {},
     "output_type": "execute_result"
    }
   ],
   "source": [
    "ejemplo_1[5:]"
   ]
  },
  {
   "cell_type": "code",
   "execution_count": 219,
   "metadata": {},
   "outputs": [
    {
     "name": "stdout",
     "output_type": "stream",
     "text": [
      "Sí es una cadena\n"
     ]
    }
   ],
   "source": [
    "ejemplo_21='Sí '+ ejemplo_1[5:]\n",
    "print(ejemplo_21)"
   ]
  },
  {
   "cell_type": "markdown",
   "metadata": {},
   "source": [
    "## Longitud de una cadena"
   ]
  },
  {
   "cell_type": "markdown",
   "metadata": {},
   "source": [
    "Recordemos que si tenemos una lista, len() nos proporciona la cantidad de objetos de dicha lista. En el contexto de cadenas,\n",
    "len nos proporciona también su longitud, i.e el número de caracteres de la cadena."
   ]
  },
  {
   "cell_type": "code",
   "execution_count": 220,
   "metadata": {},
   "outputs": [],
   "source": [
    "t1='Infinite series'"
   ]
  },
  {
   "cell_type": "code",
   "execution_count": 221,
   "metadata": {},
   "outputs": [
    {
     "data": {
      "text/plain": [
       "15"
      ]
     },
     "execution_count": 221,
     "metadata": {},
     "output_type": "execute_result"
    }
   ],
   "source": [
    "len(t1)"
   ]
  },
  {
   "cell_type": "code",
   "execution_count": 222,
   "metadata": {},
   "outputs": [],
   "source": [
    "simple='hola '"
   ]
  },
  {
   "cell_type": "code",
   "execution_count": 223,
   "metadata": {},
   "outputs": [
    {
     "data": {
      "text/plain": [
       "5"
      ]
     },
     "execution_count": 223,
     "metadata": {},
     "output_type": "execute_result"
    }
   ],
   "source": [
    "len(simple)"
   ]
  },
  {
   "cell_type": "code",
   "execution_count": 224,
   "metadata": {},
   "outputs": [
    {
     "data": {
      "text/plain": [
       "2"
      ]
     },
     "execution_count": 224,
     "metadata": {},
     "output_type": "execute_result"
    }
   ],
   "source": [
    "len(t1[0:2]) "
   ]
  },
  {
   "cell_type": "code",
   "execution_count": 225,
   "metadata": {},
   "outputs": [
    {
     "data": {
      "text/plain": [
       "0"
      ]
     },
     "execution_count": 225,
     "metadata": {},
     "output_type": "execute_result"
    }
   ],
   "source": [
    "len('') #A la cadena '' se le conoce como cadena vacía."
   ]
  },
  {
   "cell_type": "code",
   "execution_count": 226,
   "metadata": {},
   "outputs": [
    {
     "data": {
      "text/plain": [
       "0"
      ]
     },
     "execution_count": 226,
     "metadata": {},
     "output_type": "execute_result"
    }
   ],
   "source": [
    "len(\"\") #Recordemos que \"\" es equivalente a ''."
   ]
  },
  {
   "cell_type": "markdown",
   "metadata": {},
   "source": [
    "Una pregunta común es: ¿cómo escribir una oración que tiene comillas? por ejemplo, Según Merton, el \"activo libre de riesgo ...\"."
   ]
  },
  {
   "cell_type": "code",
   "execution_count": 227,
   "metadata": {},
   "outputs": [],
   "source": [
    "oracion_1=\"\"\"Según Merton, el \"activo libre de riesgo\" y según Markov, la \"matriz\" se mantienen..\"\"\""
   ]
  },
  {
   "cell_type": "code",
   "execution_count": 228,
   "metadata": {},
   "outputs": [
    {
     "data": {
      "text/plain": [
       "'Según Merton, el \"activo libre de riesgo\" y según Markov, la \"matriz\" se mantienen..'"
      ]
     },
     "execution_count": 228,
     "metadata": {},
     "output_type": "execute_result"
    }
   ],
   "source": [
    "oracion_1"
   ]
  }
 ],
 "metadata": {
  "kernelspec": {
   "display_name": "Python 3",
   "language": "python",
   "name": "python3"
  },
  "language_info": {
   "codemirror_mode": {
    "name": "ipython",
    "version": 3
   },
   "file_extension": ".py",
   "mimetype": "text/x-python",
   "name": "python",
   "nbconvert_exporter": "python",
   "pygments_lexer": "ipython3",
   "version": "3.7.3"
  }
 },
 "nbformat": 4,
 "nbformat_minor": 2
}
